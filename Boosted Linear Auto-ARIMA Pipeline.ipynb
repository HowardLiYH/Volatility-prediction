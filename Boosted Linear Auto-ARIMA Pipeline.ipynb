{
 "cells": [
  {
   "cell_type": "markdown",
   "id": "26541c13",
   "metadata": {
    "heading_collapsed": true
   },
   "source": [
    "# Imports and Data loading"
   ]
  },
  {
   "cell_type": "code",
   "execution_count": 92,
   "id": "02010a63",
   "metadata": {
    "hidden": true
   },
   "outputs": [],
   "source": [
    "######### List of imports ################\n",
    "import pandas as pd\n",
    "import numpy as np\n",
    "import seaborn as sns\n",
    "import matplotlib.pyplot as plt\n",
    "from sklearn.impute import SimpleImputer\n",
    "from matplotlib.pyplot import figure\n",
    "from sklearn.preprocessing import MinMaxScaler\n",
    "from sklearn.metrics import r2_score\n",
    "from sklearn.linear_model import LinearRegression\n",
    "from statsmodels.tsa.stattools import adfuller\n",
    "from statsmodels.graphics.tsaplots import plot_pacf, plot_acf\n",
    "from statsmodels.graphics.tsaplots import plot_predict\n",
    "from statsmodels.tsa.seasonal import seasonal_decompose\n",
    "from statsmodels.tsa.stattools import acf\n",
    "import pmdarima as pm\n",
    "from ThymeBoost import ThymeBoost as tb\n",
    "import math\n",
    "import sklearn.metrics as metrics\n",
    "from scipy.stats import norm\n",
    "###########################################"
   ]
  },
  {
   "cell_type": "code",
   "execution_count": 2,
   "id": "0a2371a2",
   "metadata": {
    "hidden": true
   },
   "outputs": [],
   "source": [
    "## Read data from \"BTCUSD\"\n",
    "## csv here should be updated for new use\n",
    "\n",
    "data = pd.read_csv(\"/Users/yuhaoli/code/HowardLiYH/Volatility-prediction/datasets/raw/data0329.csv\")"
   ]
  },
  {
   "cell_type": "markdown",
   "id": "2fa13546",
   "metadata": {
    "heading_collapsed": true
   },
   "source": [
    "# Feature Creation"
   ]
  },
  {
   "cell_type": "code",
   "execution_count": 3,
   "id": "b9927468",
   "metadata": {
    "hidden": true
   },
   "outputs": [
    {
     "data": {
      "text/html": [
       "<div>\n",
       "<style scoped>\n",
       "    .dataframe tbody tr th:only-of-type {\n",
       "        vertical-align: middle;\n",
       "    }\n",
       "\n",
       "    .dataframe tbody tr th {\n",
       "        vertical-align: top;\n",
       "    }\n",
       "\n",
       "    .dataframe thead th {\n",
       "        text-align: right;\n",
       "    }\n",
       "</style>\n",
       "<table border=\"1\" class=\"dataframe\">\n",
       "  <thead>\n",
       "    <tr style=\"text-align: right;\">\n",
       "      <th></th>\n",
       "      <th>bp_1</th>\n",
       "      <th>bz_1</th>\n",
       "      <th>bp_2</th>\n",
       "      <th>bz_2</th>\n",
       "      <th>bp_3</th>\n",
       "      <th>bz_3</th>\n",
       "      <th>bp_4</th>\n",
       "      <th>bz_4</th>\n",
       "      <th>bp_5</th>\n",
       "      <th>bz_5</th>\n",
       "      <th>...</th>\n",
       "      <th>ap_17</th>\n",
       "      <th>az_17</th>\n",
       "      <th>ap_18</th>\n",
       "      <th>az_18</th>\n",
       "      <th>ap_19</th>\n",
       "      <th>az_19</th>\n",
       "      <th>ap_20</th>\n",
       "      <th>az_20</th>\n",
       "      <th>scrape_time</th>\n",
       "      <th>lastUpdateId</th>\n",
       "    </tr>\n",
       "  </thead>\n",
       "  <tbody>\n",
       "    <tr>\n",
       "      <th>0</th>\n",
       "      <td>27215.98</td>\n",
       "      <td>3.62823</td>\n",
       "      <td>27215.71</td>\n",
       "      <td>0.09094</td>\n",
       "      <td>27215.15</td>\n",
       "      <td>0.06106</td>\n",
       "      <td>27215.14</td>\n",
       "      <td>0.10176</td>\n",
       "      <td>27213.06</td>\n",
       "      <td>0.11000</td>\n",
       "      <td>...</td>\n",
       "      <td>27220.22</td>\n",
       "      <td>0.18378</td>\n",
       "      <td>27220.24</td>\n",
       "      <td>0.18378</td>\n",
       "      <td>27220.40</td>\n",
       "      <td>0.38577</td>\n",
       "      <td>27220.87</td>\n",
       "      <td>0.73017</td>\n",
       "      <td>2023-03-28 19:33:30</td>\n",
       "      <td>17688482161</td>\n",
       "    </tr>\n",
       "    <tr>\n",
       "      <th>1</th>\n",
       "      <td>27219.01</td>\n",
       "      <td>2.49441</td>\n",
       "      <td>27218.96</td>\n",
       "      <td>0.40455</td>\n",
       "      <td>27218.95</td>\n",
       "      <td>0.81592</td>\n",
       "      <td>27218.94</td>\n",
       "      <td>0.56887</td>\n",
       "      <td>27218.86</td>\n",
       "      <td>0.51754</td>\n",
       "      <td>...</td>\n",
       "      <td>27221.64</td>\n",
       "      <td>0.05013</td>\n",
       "      <td>27221.79</td>\n",
       "      <td>0.03673</td>\n",
       "      <td>27222.27</td>\n",
       "      <td>0.04246</td>\n",
       "      <td>27222.44</td>\n",
       "      <td>0.03673</td>\n",
       "      <td>2023-03-28 19:33:24</td>\n",
       "      <td>17688480766</td>\n",
       "    </tr>\n",
       "    <tr>\n",
       "      <th>2</th>\n",
       "      <td>27219.01</td>\n",
       "      <td>0.53591</td>\n",
       "      <td>27218.72</td>\n",
       "      <td>0.41551</td>\n",
       "      <td>27218.71</td>\n",
       "      <td>0.07000</td>\n",
       "      <td>27218.40</td>\n",
       "      <td>0.00671</td>\n",
       "      <td>27218.36</td>\n",
       "      <td>0.57475</td>\n",
       "      <td>...</td>\n",
       "      <td>27223.09</td>\n",
       "      <td>0.22057</td>\n",
       "      <td>27223.10</td>\n",
       "      <td>0.36755</td>\n",
       "      <td>27223.24</td>\n",
       "      <td>0.46670</td>\n",
       "      <td>27223.25</td>\n",
       "      <td>0.00367</td>\n",
       "      <td>2023-03-28 19:33:19</td>\n",
       "      <td>17688480114</td>\n",
       "    </tr>\n",
       "    <tr>\n",
       "      <th>3</th>\n",
       "      <td>27223.23</td>\n",
       "      <td>6.40427</td>\n",
       "      <td>27221.59</td>\n",
       "      <td>1.00260</td>\n",
       "      <td>27221.39</td>\n",
       "      <td>0.03674</td>\n",
       "      <td>27221.36</td>\n",
       "      <td>1.10536</td>\n",
       "      <td>27221.34</td>\n",
       "      <td>1.10536</td>\n",
       "      <td>...</td>\n",
       "      <td>27227.34</td>\n",
       "      <td>0.18374</td>\n",
       "      <td>27227.92</td>\n",
       "      <td>1.06032</td>\n",
       "      <td>27228.39</td>\n",
       "      <td>1.21947</td>\n",
       "      <td>27228.40</td>\n",
       "      <td>2.03245</td>\n",
       "      <td>2023-03-28 19:33:36</td>\n",
       "      <td>17688483548</td>\n",
       "    </tr>\n",
       "    <tr>\n",
       "      <th>4</th>\n",
       "      <td>27223.23</td>\n",
       "      <td>0.48052</td>\n",
       "      <td>27222.67</td>\n",
       "      <td>0.48829</td>\n",
       "      <td>27222.40</td>\n",
       "      <td>0.09468</td>\n",
       "      <td>27222.29</td>\n",
       "      <td>0.57712</td>\n",
       "      <td>27222.22</td>\n",
       "      <td>0.00921</td>\n",
       "      <td>...</td>\n",
       "      <td>27227.34</td>\n",
       "      <td>0.36748</td>\n",
       "      <td>27228.05</td>\n",
       "      <td>0.03622</td>\n",
       "      <td>27228.07</td>\n",
       "      <td>1.01425</td>\n",
       "      <td>27228.08</td>\n",
       "      <td>0.78360</td>\n",
       "      <td>2023-03-28 19:33:07</td>\n",
       "      <td>17688478201</td>\n",
       "    </tr>\n",
       "  </tbody>\n",
       "</table>\n",
       "<p>5 rows × 82 columns</p>\n",
       "</div>"
      ],
      "text/plain": [
       "       bp_1     bz_1      bp_2     bz_2      bp_3     bz_3      bp_4     bz_4  \\\n",
       "0  27215.98  3.62823  27215.71  0.09094  27215.15  0.06106  27215.14  0.10176   \n",
       "1  27219.01  2.49441  27218.96  0.40455  27218.95  0.81592  27218.94  0.56887   \n",
       "2  27219.01  0.53591  27218.72  0.41551  27218.71  0.07000  27218.40  0.00671   \n",
       "3  27223.23  6.40427  27221.59  1.00260  27221.39  0.03674  27221.36  1.10536   \n",
       "4  27223.23  0.48052  27222.67  0.48829  27222.40  0.09468  27222.29  0.57712   \n",
       "\n",
       "       bp_5     bz_5  ...     ap_17    az_17     ap_18    az_18     ap_19  \\\n",
       "0  27213.06  0.11000  ...  27220.22  0.18378  27220.24  0.18378  27220.40   \n",
       "1  27218.86  0.51754  ...  27221.64  0.05013  27221.79  0.03673  27222.27   \n",
       "2  27218.36  0.57475  ...  27223.09  0.22057  27223.10  0.36755  27223.24   \n",
       "3  27221.34  1.10536  ...  27227.34  0.18374  27227.92  1.06032  27228.39   \n",
       "4  27222.22  0.00921  ...  27227.34  0.36748  27228.05  0.03622  27228.07   \n",
       "\n",
       "     az_19     ap_20    az_20          scrape_time  lastUpdateId  \n",
       "0  0.38577  27220.87  0.73017  2023-03-28 19:33:30   17688482161  \n",
       "1  0.04246  27222.44  0.03673  2023-03-28 19:33:24   17688480766  \n",
       "2  0.46670  27223.25  0.00367  2023-03-28 19:33:19   17688480114  \n",
       "3  1.21947  27228.40  2.03245  2023-03-28 19:33:36   17688483548  \n",
       "4  1.01425  27228.08  0.78360  2023-03-28 19:33:07   17688478201  \n",
       "\n",
       "[5 rows x 82 columns]"
      ]
     },
     "execution_count": 3,
     "metadata": {},
     "output_type": "execute_result"
    }
   ],
   "source": [
    "data.head()"
   ]
  },
  {
   "cell_type": "code",
   "execution_count": 4,
   "id": "d6382b05",
   "metadata": {
    "hidden": true
   },
   "outputs": [],
   "source": [
    "# Weighted Average Price \n",
    "data['WAP'] = (data['bp_1']*data['bz_1']\n",
    "               +data['bp_2']*data['bz_2']\n",
    "               +data['ap_1']*data['az_1']\n",
    "               +data['ap_2']*data['az_2'])/(data['bz_1']+\n",
    "                                         data['bz_2']+\n",
    "                                         data['az_1']+\n",
    "                                         data['az_2'])"
   ]
  },
  {
   "cell_type": "code",
   "execution_count": 5,
   "id": "810702f2",
   "metadata": {
    "hidden": true
   },
   "outputs": [],
   "source": [
    "## Log price\n",
    "\n",
    "def log_price(list_stock_prices):\n",
    "    return np.log(list_stock_prices)\n",
    "\n",
    "data.insert(0, 'log_price', log_price(data['WAP']))\n",
    "\n",
    "data['log_returns'] = data.log_price.diff()"
   ]
  },
  {
   "cell_type": "code",
   "execution_count": 6,
   "id": "ebeab17d",
   "metadata": {
    "hidden": true
   },
   "outputs": [],
   "source": [
    "## Realized Volatility\n",
    "def realized_volatility():\n",
    "    list_vol = []\n",
    "    i = 0\n",
    "    for i in data.index:\n",
    "        x = np.std(data.log_returns.iloc[:i])\n",
    "        i += 1\n",
    "        list_vol.append(x)\n",
    "    \n",
    "    return list_vol\n",
    "\n",
    "data['realized_volatility'] = realized_volatility()"
   ]
  },
  {
   "cell_type": "code",
   "execution_count": 7,
   "id": "1815920c",
   "metadata": {
    "hidden": true
   },
   "outputs": [],
   "source": [
    "## Previous volatility\n",
    "\n",
    "data['volatility_t+1'] = data['realized_volatility'].shift(-1)"
   ]
  },
  {
   "cell_type": "code",
   "execution_count": 8,
   "id": "d2647869",
   "metadata": {
    "hidden": true
   },
   "outputs": [],
   "source": [
    "y = data['realized_volatility'].to_frame()"
   ]
  },
  {
   "cell_type": "code",
   "execution_count": 10,
   "id": "113bde64",
   "metadata": {
    "hidden": true
   },
   "outputs": [],
   "source": [
    "## Create a copy of data named df\n",
    "df = data"
   ]
  },
  {
   "cell_type": "code",
   "execution_count": 11,
   "id": "c013bc0a",
   "metadata": {
    "hidden": true
   },
   "outputs": [],
   "source": [
    "## Drop the target y\n",
    "df.drop(['realized_volatility'], axis = 1, inplace = True) "
   ]
  },
  {
   "cell_type": "code",
   "execution_count": 12,
   "id": "2d912f10",
   "metadata": {
    "hidden": true
   },
   "outputs": [
    {
     "data": {
      "text/plain": [
       "False    2644\n",
       "dtype: int64"
      ]
     },
     "execution_count": 12,
     "metadata": {},
     "output_type": "execute_result"
    }
   ],
   "source": [
    "## Check if two roles have the same value\n",
    "df.duplicated().value_counts()"
   ]
  },
  {
   "cell_type": "markdown",
   "id": "e823fccb",
   "metadata": {
    "heading_collapsed": true
   },
   "source": [
    "# Deal with Missing Data"
   ]
  },
  {
   "cell_type": "markdown",
   "id": "d612a82d",
   "metadata": {
    "hidden": true
   },
   "source": [
    "💡 NOTE: \n",
    "\n",
    "Be aware of the **fill_value** in imputer2, we want to use the next log return to fill the empty data missing in the first row.\n",
    "\n",
    "Therefore, the df.iloc[value] can vary based on scenarios."
   ]
  },
  {
   "cell_type": "code",
   "execution_count": 22,
   "id": "2f7983fc",
   "metadata": {
    "hidden": true
   },
   "outputs": [
    {
     "data": {
      "text/plain": [
       "array([0.])"
      ]
     },
     "execution_count": 22,
     "metadata": {},
     "output_type": "execute_result"
    }
   ],
   "source": [
    "## Imputer work on df['volatility_t+1']\n",
    "\n",
    "imputer = SimpleImputer(strategy=\"constant\", fill_value = 0) # Instantiate a SimpleImputer object with your strategy of choice\n",
    "\n",
    "imputer.fit(df[['volatility_t+1']]) # Call the \"fit\" method on the object\n",
    "\n",
    "df['volatility_t+1'] = imputer.transform(df[['volatility_t+1']]) # Call the \"transform\" method on the object\n",
    "\n",
    "imputer.statistics_ # The mean is stored in the transformer's memory"
   ]
  },
  {
   "cell_type": "code",
   "execution_count": 21,
   "id": "996d59f0",
   "metadata": {
    "hidden": true
   },
   "outputs": [
    {
     "data": {
      "text/plain": [
       "array([0.00011149])"
      ]
     },
     "execution_count": 21,
     "metadata": {},
     "output_type": "execute_result"
    }
   ],
   "source": [
    "## Imputer2 work on df['log_returns']\n",
    "\n",
    "imputer2 = SimpleImputer(strategy=\"constant\", fill_value = df.iloc[1,84])\n",
    "\n",
    "imputer2.fit(df[['log_returns']]) # Call the \"fit\" method on the object\n",
    "\n",
    "df['log_returns'] = imputer2.transform(df[['log_returns']]) # Call the \"transform\" method on the object\n",
    "\n",
    "imputer2.statistics_ # The mean is stored in the transformer's memory"
   ]
  },
  {
   "cell_type": "code",
   "execution_count": 23,
   "id": "ca8630ee",
   "metadata": {
    "hidden": true
   },
   "outputs": [
    {
     "data": {
      "text/plain": [
       "array([0.])"
      ]
     },
     "execution_count": 23,
     "metadata": {},
     "output_type": "execute_result"
    }
   ],
   "source": [
    "## Imputer3 work on y['realized_volatility']\n",
    "\n",
    "imputer3 = SimpleImputer(strategy=\"constant\", fill_value = 0) # Instantiate a SimpleImputer object with your strategy of choice\n",
    "\n",
    "imputer3.fit(y[['realized_volatility']]) # Call the \"fit\" method on the object\n",
    "\n",
    "y['realized_volatility'] = imputer3.transform(y[['realized_volatility']]) # Call the \"transform\" method on the object\n",
    "\n",
    "imputer3.statistics_ # The mean is stored in the transformer's memory"
   ]
  },
  {
   "cell_type": "markdown",
   "id": "a659375b",
   "metadata": {},
   "source": [
    "# Boosted-Linear Auto-ARIMA (mape:0.0396) "
   ]
  },
  {
   "cell_type": "markdown",
   "id": "1def7e56",
   "metadata": {},
   "source": [
    "💡 NOTE:\n",
    "\n",
    "The separator should be define based on the length of the obtained data. Making sure 65% being used as the train and 35% used as the test."
   ]
  },
  {
   "cell_type": "code",
   "execution_count": 32,
   "id": "90077591",
   "metadata": {},
   "outputs": [],
   "source": [
    "## round up the 65% number into int\n",
    "\n",
    "separator = math.ceil(len(y)*0.65)"
   ]
  },
  {
   "cell_type": "code",
   "execution_count": 34,
   "id": "ca3b2b02",
   "metadata": {},
   "outputs": [],
   "source": [
    "train = y[0:separator]['realized_volatility']\n",
    "test = y[separator:]['realized_volatility']"
   ]
  },
  {
   "cell_type": "code",
   "execution_count": 119,
   "id": "d51952a3",
   "metadata": {
    "scrolled": true
   },
   "outputs": [
    {
     "name": "stdout",
     "output_type": "stream",
     "text": [
      "********** Round 1 **********\n",
      "Using Split: None\n",
      "Fitting initial trend globally with trend model:\n",
      "median()\n",
      "seasonal model:\n",
      "None\n",
      "cost: 1.70938144223145e-07\n",
      "********** Round 2 **********\n",
      "Using Split: None\n",
      "Fitting global with trend model:\n",
      "linear((1, None))\n",
      "seasonal model:\n",
      "None\n",
      "cost: 1.7075526299601778e-07\n",
      "********** Round 3 **********\n",
      "Using Split: None\n",
      "Fitting global with trend model:\n",
      "arima(auto)\n",
      "seasonal model:\n",
      "None\n",
      "cost: 2.0982679398210696e-09\n",
      "==============================\n",
      "Boosting Terminated \n",
      "Using round 3\n"
     ]
    }
   ],
   "source": [
    "boosted_model = tb.ThymeBoost(verbose=1)\n",
    "output = boosted_model.fit(train,\n",
    "                            trend_estimator=['linear', 'arima'],\n",
    "                            arima_order='auto',\n",
    "                            global_cost='mse')"
   ]
  },
  {
   "cell_type": "code",
   "execution_count": 120,
   "id": "b50de064",
   "metadata": {},
   "outputs": [],
   "source": [
    "predicted_output = boosted_model.predict(output, len(test))"
   ]
  },
  {
   "cell_type": "markdown",
   "id": "54524715",
   "metadata": {},
   "source": [
    "# Output Specificity "
   ]
  },
  {
   "cell_type": "code",
   "execution_count": 121,
   "id": "a05e17eb",
   "metadata": {},
   "outputs": [
    {
     "data": {
      "text/plain": [
       "[<matplotlib.lines.Line2D at 0x1094407c0>]"
      ]
     },
     "execution_count": 121,
     "metadata": {},
     "output_type": "execute_result"
    },
    {
     "data": {
      "image/png": "[encoded data removed]",
      "text/plain": [
       "<Figure size 640x480 with 1 Axes>"
      ]
     },
     "metadata": {},
     "output_type": "display_data"
    }
   ],
   "source": [
    "plt.plot(test)"
   ]
  },
  {
   "cell_type": "code",
   "execution_count": 122,
   "id": "6b61e457",
   "metadata": {},
   "outputs": [
    {
     "data": {
      "text/plain": [
       "1719    0.001152\n",
       "1720    0.001152\n",
       "1721    0.001152\n",
       "1722    0.001152\n",
       "1723    0.001152\n",
       "          ...   \n",
       "2639    0.001140\n",
       "2640    0.001140\n",
       "2641    0.001140\n",
       "2642    0.001140\n",
       "2643    0.001140\n",
       "Name: predictions, Length: 925, dtype: float64"
      ]
     },
     "execution_count": 122,
     "metadata": {},
     "output_type": "execute_result"
    }
   ],
   "source": [
    "predicted_output['predictions']"
   ]
  },
  {
   "cell_type": "code",
   "execution_count": 123,
   "id": "a42b82b0",
   "metadata": {},
   "outputs": [
    {
     "data": {
      "text/plain": [
       "[<matplotlib.lines.Line2D at 0x109475f90>]"
      ]
     },
     "execution_count": 123,
     "metadata": {},
     "output_type": "execute_result"
    },
    {
     "data": {
      "image/png": "[encoded data removed]",
      "text/plain": [
       "<Figure size 640x480 with 1 Axes>"
      ]
     },
     "metadata": {},
     "output_type": "display_data"
    }
   ],
   "source": [
    "plt.plot(predicted_output['predictions'])"
   ]
  },
  {
   "cell_type": "code",
   "execution_count": 61,
   "id": "dc4dc298",
   "metadata": {},
   "outputs": [],
   "source": [
    "y_pred = predicted_output['predictions']"
   ]
  },
  {
   "cell_type": "markdown",
   "id": "60b08f76",
   "metadata": {},
   "source": [
    "⬇️  Specify the token name and the number of secs in the future you would like to know"
   ]
  },
  {
   "cell_type": "code",
   "execution_count": 83,
   "id": "0f165afb",
   "metadata": {},
   "outputs": [],
   "source": [
    "token = \"BTCUSD\"\n",
    "sequence = [5, 30, 300, 600, 1800] # Translate into 5 secs, 30 secs, 5 minutes, 10 minutes, and 30 minutes"
   ]
  },
  {
   "cell_type": "code",
   "execution_count": 87,
   "id": "3180d8e0",
   "metadata": {},
   "outputs": [
    {
     "name": "stdout",
     "output_type": "stream",
     "text": [
      "Below is an output summary:\n",
      "\n",
      "The volatility for BTCUSD in the next 5 secs is 0.001152\n",
      "The volatility for BTCUSD in the next 30 secs is 0.001152\n",
      "The volatility for BTCUSD in the next 5 minutes is 0.001152\n",
      "The volatility for BTCUSD in the next 10 minutes is 0.001151\n",
      "The volatility for BTCUSD in the next 30 minutes is 0.001147\n"
     ]
    }
   ],
   "source": [
    "print(\"Below is an output summary:\")\n",
    "print(\"\")\n",
    "\n",
    "for i in sequence:\n",
    "    index = int((int(i)/5) - 1)\n",
    "    result_pred = round(y_pred.iloc[index],6)\n",
    "    if i > 60:\n",
    "        i = int(i/60)\n",
    "        print(f\"The volatility for {token} in the next {i} minutes is {result_pred}\")\n",
    "    else:\n",
    "        print(f\"The volatility for {token} in the next {i} secs is {result_pred}\")"
   ]
  },
  {
   "cell_type": "markdown",
   "id": "93241a07",
   "metadata": {
    "heading_collapsed": true
   },
   "source": [
    "# Model Testing"
   ]
  },
  {
   "cell_type": "code",
   "execution_count": 37,
   "id": "2e1cd34b",
   "metadata": {
    "hidden": true
   },
   "outputs": [
    {
     "data": {
      "text/plain": [
       "(0.03593402097079403, 4.017894203928054e-05, 5.080574660635808e-05)"
      ]
     },
     "execution_count": 37,
     "metadata": {},
     "output_type": "execute_result"
    }
   ],
   "source": [
    "tb_mae = np.mean(np.abs(test - predicted_output['predictions']))\n",
    "tb_rmse = (np.mean((test - predicted_output['predictions'])**2))**.5\n",
    "tb_mape = np.sum(np.abs(predicted_output['predictions'] - test)) / (np.sum((np.abs(test))))\n",
    "\n",
    "tb_mape, tb_mae, tb_rmse"
   ]
  },
  {
   "cell_type": "code",
   "execution_count": null,
   "id": "ac3130a8",
   "metadata": {
    "hidden": true
   },
   "outputs": [],
   "source": [
    "y_pred = predicted_output['predictions']"
   ]
  },
  {
   "cell_type": "code",
   "execution_count": 59,
   "id": "c1fb1047",
   "metadata": {
    "hidden": true,
    "scrolled": true
   },
   "outputs": [
    {
     "data": {
      "text/plain": [
       "1719    0.000009\n",
       "1720    0.000010\n",
       "1721    0.000009\n",
       "1722    0.000009\n",
       "1723    0.000010\n",
       "          ...   \n",
       "2639   -0.000107\n",
       "2640   -0.000107\n",
       "2641   -0.000107\n",
       "2642   -0.000108\n",
       "2643   -0.000108\n",
       "Length: 925, dtype: float64"
      ]
     },
     "execution_count": 59,
     "metadata": {},
     "output_type": "execute_result"
    }
   ],
   "source": [
    "test - y_pred"
   ]
  },
  {
   "cell_type": "code",
   "execution_count": null,
   "id": "e31f2e03",
   "metadata": {
    "hidden": true
   },
   "outputs": [],
   "source": []
  },
  {
   "cell_type": "code",
   "execution_count": null,
   "id": "7af6432d",
   "metadata": {
    "hidden": true
   },
   "outputs": [],
   "source": []
  },
  {
   "cell_type": "markdown",
   "id": "f30b2391",
   "metadata": {
    "heading_collapsed": true
   },
   "source": [
    "# Gussian Mixture Model"
   ]
  },
  {
   "cell_type": "markdown",
   "id": "66cc5766",
   "metadata": {
    "hidden": true
   },
   "source": [
    "Gussian Mixture Model Explained: https://towardsdatascience.com/gaussian-mixture-models-explained-6986aaf5a95\n",
    "\n",
    "Implementation: https://medium.com/swlh/gaussian-mixture-models-gmm-1327a2a62a"
   ]
  },
  {
   "cell_type": "code",
   "execution_count": 88,
   "id": "7e764fc7",
   "metadata": {
    "hidden": true
   },
   "outputs": [
    {
     "data": {
      "text/plain": [
       "(925,)"
      ]
     },
     "execution_count": 88,
     "metadata": {},
     "output_type": "execute_result"
    }
   ],
   "source": [
    "y_pred.shape"
   ]
  },
  {
   "cell_type": "code",
   "execution_count": 93,
   "id": "f17f9832",
   "metadata": {
    "hidden": true
   },
   "outputs": [
    {
     "ename": "NameError",
     "evalue": "name 'xt' is not defined",
     "output_type": "error",
     "traceback": [
      "\u001b[0;31m---------------------------------------------------------------------------\u001b[0m",
      "\u001b[0;31mNameError\u001b[0m                                 Traceback (most recent call last)",
      "Cell \u001b[0;32mIn[93], line 51\u001b[0m\n\u001b[1;32m     48\u001b[0m                 \u001b[38;5;28mself\u001b[39m\u001b[38;5;241m.\u001b[39mvar\u001b[38;5;241m.\u001b[39mappend(np\u001b[38;5;241m.\u001b[39msum(np\u001b[38;5;241m.\u001b[39mdot(r[:,c]\u001b[38;5;241m*\u001b[39m(\u001b[38;5;28mself\u001b[39m\u001b[38;5;241m.\u001b[39mX[i] \u001b[38;5;241m-\u001b[39m \u001b[38;5;28mself\u001b[39m\u001b[38;5;241m.\u001b[39mmu[c])\u001b[38;5;241m.\u001b[39mT, r[:,c]\u001b[38;5;241m*\u001b[39m(\u001b[38;5;28mself\u001b[39m\u001b[38;5;241m.\u001b[39mX[i] \u001b[38;5;241m-\u001b[39m \u001b[38;5;28mself\u001b[39m\u001b[38;5;241m.\u001b[39mmu[c])))\u001b[38;5;241m/\u001b[39mmc[c])\n\u001b[1;32m     50\u001b[0m gmm \u001b[38;5;241m=\u001b[39m GMM1D(y_pred, \u001b[38;5;241m10\u001b[39m)\n\u001b[0;32m---> 51\u001b[0m \u001b[43mgmm\u001b[49m\u001b[38;5;241;43m.\u001b[39;49m\u001b[43mrun\u001b[49m\u001b[43m(\u001b[49m\u001b[43m)\u001b[49m\n",
      "Cell \u001b[0;32mIn[93], line 25\u001b[0m, in \u001b[0;36mGMM1D.run\u001b[0;34m(self)\u001b[0m\n\u001b[1;32m     23\u001b[0m \u001b[38;5;66;03m# E-Step\u001b[39;00m\n\u001b[1;32m     24\u001b[0m \u001b[38;5;28;01mfor\u001b[39;00m c,g,p \u001b[38;5;129;01min\u001b[39;00m \u001b[38;5;28mzip\u001b[39m(\u001b[38;5;28mrange\u001b[39m(\u001b[38;5;241m3\u001b[39m), [gauss1, gauss2, gauss3], \u001b[38;5;28mself\u001b[39m\u001b[38;5;241m.\u001b[39mpi):\n\u001b[0;32m---> 25\u001b[0m     r[:,c] \u001b[38;5;241m=\u001b[39m p\u001b[38;5;241m*\u001b[39mg\u001b[38;5;241m.\u001b[39mpdf(\u001b[43mxt\u001b[49m[:])\n\u001b[1;32m     27\u001b[0m \u001b[38;5;28;01mfor\u001b[39;00m i \u001b[38;5;129;01min\u001b[39;00m \u001b[38;5;28mrange\u001b[39m(\u001b[38;5;28mlen\u001b[39m(r)):\n\u001b[1;32m     28\u001b[0m     r[i,:] \u001b[38;5;241m/\u001b[39m\u001b[38;5;241m=\u001b[39m np\u001b[38;5;241m.\u001b[39msum(r[i,:])\n",
      "\u001b[0;31mNameError\u001b[0m: name 'xt' is not defined"
     ]
    }
   ],
   "source": [
    "class GMM1D:\n",
    "    \"\"\"Apply GMM to 1D Data\"\"\"\n",
    "    \n",
    "    def __init__(self, X, max_iterations):\n",
    "        \"\"\"Initialize data and max_iterations\"\"\"\n",
    "        self.X = X\n",
    "        self.max_iterations = max_iterations\n",
    "        \n",
    "    def run(self):\n",
    "        \"\"\"Initialize parameters mu, var, pi\"\"\"\n",
    "        self.pi = np.array([1/3, 1/3, 1/3])\n",
    "        self.mu = np.array([5,8,1])\n",
    "        self.var = np.array([5,3,1])\n",
    "        \n",
    "        r = np.zeros((len(self.X), 3))\n",
    "        \n",
    "        for itr in range(self.max_iterations):\n",
    "    \n",
    "            gauss1 = norm(loc=self.mu[0], scale=self.var[0])\n",
    "            gauss2 = norm(loc=self.mu[1], scale=self.var[1])\n",
    "            gauss3 = norm(loc=self.mu[2], scale=self.var[2])\n",
    "            \n",
    "            # E-Step\n",
    "            for c,g,p in zip(range(3), [gauss1, gauss2, gauss3], self.pi):\n",
    "                r[:,c] = p*g.pdf(xt[:])\n",
    "\n",
    "            for i in range(len(r)):\n",
    "                r[i,:] /= np.sum(r[i,:])\n",
    "\n",
    "            fig = plt.figure(figsize=(10,10))\n",
    "            ax0 = fig.add_subplot(111)\n",
    "\n",
    "            for i in range(len(r)):\n",
    "                ax0.scatter(xt[i],0,c=r[i,:],s=100) \n",
    "\n",
    "            for g,c in zip([gauss1.pdf(np.linspace(-15,15)),gauss2.pdf(np.linspace(-15,15)),gauss3.pdf(np.linspace(-15,15))],['r','g','b']):\n",
    "                ax0.plot(np.linspace(-15,15),g,c=c,zorder=0)\n",
    "\n",
    "            plt.show()\n",
    "\n",
    "            # M-Step\n",
    "            mc = np.sum(r, axis=0)\n",
    "            self.pi = mc/len(self.X)\n",
    "            self.mu = np.sum(r*np.vstack((self.X, self.X, self.X)).T, axis=0)/mc\n",
    "            self.var = []\n",
    "\n",
    "            for c in range(len(self.pi)):\n",
    "                self.var.append(np.sum(np.dot(r[:,c]*(self.X[i] - self.mu[c]).T, r[:,c]*(self.X[i] - self.mu[c])))/mc[c])\n",
    "\n",
    "gmm = GMM1D(y_pred, 10)\n",
    "gmm.run()"
   ]
  },
  {
   "cell_type": "code",
   "execution_count": null,
   "id": "e681ea06",
   "metadata": {
    "hidden": true
   },
   "outputs": [],
   "source": []
  },
  {
   "cell_type": "code",
   "execution_count": null,
   "id": "696fe6bc",
   "metadata": {
    "hidden": true
   },
   "outputs": [],
   "source": []
  }
 ],
 "metadata": {
  "kernelspec": {
   "display_name": "Python 3 (ipykernel)",
   "language": "python",
   "name": "python3"
  },
  "language_info": {
   "codemirror_mode": {
    "name": "ipython",
    "version": 3
   },
   "file_extension": ".py",
   "mimetype": "text/x-python",
   "name": "python",
   "nbconvert_exporter": "python",
   "pygments_lexer": "ipython3",
   "version": "3.10.9"
  },
  "toc": {
   "base_numbering": 1,
   "nav_menu": {},
   "number_sections": true,
   "sideBar": true,
   "skip_h1_title": false,
   "title_cell": "Table of Contents",
   "title_sidebar": "Contents",
   "toc_cell": false,
   "toc_position": {},
   "toc_section_display": true,
   "toc_window_display": false
  }
 },
 "nbformat": 4,
 "nbformat_minor": 5
}
