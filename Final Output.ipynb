{
 "cells": [
  {
   "cell_type": "markdown",
   "id": "36609d3d",
   "metadata": {},
   "source": [
    "# Set up basics"
   ]
  },
  {
   "cell_type": "code",
   "execution_count": 1,
   "id": "7eb91eaa",
   "metadata": {},
   "outputs": [],
   "source": [
    "import warnings\n",
    "warnings.filterwarnings(\"ignore\")\n",
    "\n",
    "import numpy as np\n",
    "import pandas as pd\n",
    "import statsmodels.api as sm\n",
    "from scipy import stats\n",
    "from sklearn.metrics import mean_squared_error\n",
    "from math import sqrt\n",
    "from random import randint\n",
    "from keras.models import Sequential\n",
    "from keras.layers import Dense, LSTM, GRU, Dropout, LSTMCell, RNN, Reshape\n",
    "from keras.callbacks import EarlyStopping\n",
    "from keras import initializers, Model\n",
    "from matplotlib import pyplot\n",
    "from datetime import datetime\n",
    "from matplotlib import pyplot as plt\n",
    "from sklearn.pipeline import Pipeline\n",
    "from sklearn.preprocessing import MinMaxScaler, Normalizer\n",
    "from sklearn.impute import SimpleImputer\n",
    "from statsmodels.tsa.arima.model import ARIMA\n",
    "from sklearn.model_selection import train_test_split\n",
    "from keras.optimizers import Adam\n",
    "from sklearn.linear_model import LinearRegression\n",
    "from sklearn.feature_selection import SelectKBest, mutual_info_classif, RFE\n",
    "from sklearn.ensemble import RandomForestClassifier\n",
    "from sklearn.model_selection import train_test_split\n",
    "from sklearn.feature_selection import f_regression\n",
    "# import plotly.offline as py\n",
    "# import plotly.graph_objs as go\n",
    "# py.init_notebook_mode(connected=True)\n",
    "%matplotlib inline"
   ]
  },
  {
   "cell_type": "code",
   "execution_count": 2,
   "id": "6d91d1c2",
   "metadata": {},
   "outputs": [],
   "source": [
    "data = pd.read_csv('/Users/yuhaoli/code/HowardLiYH/Volatility-prediction/datasets/raw/data_0401(6hrs).csv')\n",
    "data.columns = ['scrape_time','lastUpdateId','bp_1','bz_1','bp_2','bz_2','bp_3','bz_3','bp_4','bz_4','bp_5','bz_5','bp_6','bz_6','bp_7','bz_7','bp_8','bz_8','bp_9','bz_9','bp_10','bz_10','bp_11','bz_11','bp_12','bz_12','bp_13','bz_13','bp_14','bz_14','bp_15','bz_15','bp_16','bz_16','bp_17','bz_17','bp_18','bz_18','bp_19','bz_19','bp_20','bz_20','ap_1','az_1','ap_2','az_2','ap_3','az_3','ap_4','az_4','ap_5','az_5','ap_6','az_6','ap_7','az_7','ap_8','az_8','ap_9','az_9','ap_10','az_10','ap_11','az_11','ap_12','az_12','ap_13','az_13','ap_14','az_14','ap_15','az_15','ap_16','az_16','ap_17','az_17','ap_18','az_18','ap_19','az_19','ap_20','az_20']\n",
    "data.drop(['lastUpdateId'], axis=1, inplace= True)"
   ]
  },
  {
   "cell_type": "code",
   "execution_count": 3,
   "id": "10f7d367",
   "metadata": {},
   "outputs": [],
   "source": [
    "## Drop scrape_time and create scrape_time_diff\n",
    "\n",
    "data['scrape_time_interval'] = pd.to_datetime(data['scrape_time']).diff().dt.total_seconds()\n",
    "data.drop(['scrape_time'], axis=1, inplace= True)"
   ]
  },
  {
   "cell_type": "code",
   "execution_count": 4,
   "id": "7ea545b9",
   "metadata": {},
   "outputs": [],
   "source": [
    "##################### Basic Feature Creation ##################\n",
    "### Weighted Average Price \n",
    "data['WAP'] = (data['bp_1']*data['bz_1']\n",
    "               +data['bp_2']*data['bz_2']\n",
    "               +data['ap_1']*data['az_1']\n",
    "               +data['ap_2']*data['az_2'])/(data['bz_1']+\n",
    "                                         data['bz_2']+\n",
    "                                         data['az_1']+\n",
    "                                         data['az_2'])\n",
    "\n",
    "#### Spread\n",
    "data['spread'] = ((data['ap_1']/data['bp_1']) - 1)\n",
    "\n",
    "### Log price\n",
    "def log_price(list_stock_prices):\n",
    "    return np.log(list_stock_prices)\n",
    "\n",
    "data.insert(0, 'log_price', log_price(data['WAP']))\n",
    "\n",
    "### Log returns\n",
    "data['log_returns'] = data.log_price.diff()\n",
    "\n",
    "### Realized Volatility\n",
    "def realized_volatility():\n",
    "    list_vol = []\n",
    "    i = 0\n",
    "    for i in data.index:\n",
    "        x = np.std(data.log_returns.iloc[:i])\n",
    "        i += 1\n",
    "        list_vol.append(x)\n",
    "    \n",
    "    return list_vol\n",
    "\n",
    "data['realized_volatility'] = realized_volatility()\n",
    "\n",
    "### Future volatility\n",
    "data['volatility_t+1'] = data['realized_volatility'].shift(-1)\n",
    "\n",
    "### Bid quantities\n",
    "data['bid depth'] = data[['bz_1', 'bz_2', 'bz_3','bz_4', 'bz_5', 'bz_6','bz_7', 'bz_8', 'bz_9','bz_10',\n",
    "                         'bz_11', 'bz_12', 'bz_13','bz_14', 'bz_15', 'bz_16','bz_17', 'bz_18', 'bz_19','bz_20']].sum(axis=1)\n",
    "\n",
    "\n",
    "#sum of all bid quantities\n",
    "data['ask depth'] = data[['az_1', 'az_2', 'az_3','az_4', 'az_5', 'az_6','az_7', 'az_8', 'az_9','az_10',\n",
    "                         'az_11', 'az_12', 'az_13','az_14', 'az_15', 'az_16','az_17', 'az_18', 'az_19','az_20']].sum(axis=1)"
   ]
  },
  {
   "cell_type": "code",
   "execution_count": 5,
   "id": "c8d88f2d",
   "metadata": {},
   "outputs": [],
   "source": [
    "df = data.copy()"
   ]
  },
  {
   "cell_type": "code",
   "execution_count": 6,
   "id": "f18f416d",
   "metadata": {},
   "outputs": [],
   "source": [
    "data.drop(['bp_1','bp_2','bp_3','bp_4','bp_5','bp_6','bp_7','bp_8','bp_9','bp_10','bp_11','bp_12','bp_13','bp_14','bp_15','bp_16','bp_17','bp_18','bp_19','bp_20',\n",
    "          'bz_1','bz_2','bz_3','bz_4','bz_5','bz_6','bz_7','bz_8','bz_9','bz_10','bz_11','bz_12','bz_13','bz_14','bz_15','bz_16','bz_17','bz_18','bz_19','bz_20',\n",
    "          'ap_1','ap_2','ap_3','ap_4','ap_5','ap_6','ap_7','ap_8','ap_9','ap_10','ap_11','ap_12','ap_13','ap_14','ap_15','ap_16','ap_17','ap_18','ap_19','ap_20',\n",
    "            'az_1','az_2','az_3','az_4','az_5','az_6','az_7','az_8','az_9','az_10','az_11','az_12','az_13','az_14','az_15','az_16','az_17','az_18','az_19','az_20'],axis=1, inplace=True)\n",
    "          "
   ]
  },
  {
   "cell_type": "code",
   "execution_count": 7,
   "id": "8fcf7da1",
   "metadata": {},
   "outputs": [],
   "source": [
    "data = data.iloc[3:-1,:].reset_index()\n",
    "data.drop(['index'], axis=1, inplace= True)\n",
    "\n",
    "df = df.iloc[3:-1,:].reset_index()\n",
    "df.drop(['index'], axis=1, inplace= True)"
   ]
  },
  {
   "cell_type": "markdown",
   "id": "ff54522f",
   "metadata": {},
   "source": [
    "# Creation"
   ]
  },
  {
   "cell_type": "code",
   "execution_count": 8,
   "id": "5db45d70",
   "metadata": {},
   "outputs": [],
   "source": [
    "# 1. ob_weighted_price\n",
    "def weighted_price(bid_prices, ask_prices, bid_sizes, ask_sizes):\n",
    "    total_size = sum(bid_sizes) + sum(ask_sizes)\n",
    "    if total_size == 0:\n",
    "        return None\n",
    "    bid_sum = sum([bid_prices[i] * bid_sizes[i] for i in range(len(bid_prices))])\n",
    "    ask_sum = sum([ask_prices[i] * ask_sizes[i] for i in range(len(ask_prices))])\n",
    "    return (bid_sum + ask_sum) / total_size\n",
    "\n",
    "ob_weighted_price_list = []\n",
    "\n",
    "for index, row in df.iterrows():\n",
    "    test_df = df.iloc[index,:]\n",
    "    bid_prices = [test_df[1],test_df[3],test_df[5],test_df[7],test_df[9],test_df[11],test_df[13],test_df[15],test_df[17],test_df[19],test_df[21],test_df[23],test_df[25],test_df[27],test_df[29],test_df[31],test_df[33],test_df[35],test_df[37],test_df[39]]\n",
    "    ask_prices = [test_df[41],test_df[43],test_df[45],test_df[47],test_df[49],test_df[51],test_df[53],test_df[55],test_df[57],test_df[59],test_df[61],test_df[63],test_df[65],test_df[67],test_df[69],test_df[71],test_df[73],test_df[75],test_df[77],test_df[79]]\n",
    "    bid_sizes = [test_df[2],test_df[4],test_df[6],test_df[8],test_df[10],test_df[12],test_df[14],test_df[16],test_df[18],test_df[20],test_df[22],test_df[24],test_df[26],test_df[28],test_df[30],test_df[32],test_df[34],test_df[36],test_df[38],test_df[40]]\n",
    "    ask_sizes = [test_df[42],test_df[44],test_df[46],test_df[48],test_df[50],test_df[52],test_df[54],test_df[56],test_df[58],test_df[60],test_df[62],test_df[64],test_df[66],test_df[68],test_df[70],test_df[72],test_df[74],test_df[76],test_df[78],test_df[80]]\n",
    "    \n",
    "    ob_weighted_price = weighted_price(bid_prices, ask_prices, bid_sizes, ask_sizes)\n",
    "    ob_weighted_price_list.append(ob_weighted_price)\n",
    "    \n",
    "data['ob_weighted_price'] = ob_weighted_price_list"
   ]
  },
  {
   "cell_type": "code",
   "execution_count": 9,
   "id": "37dc8d24",
   "metadata": {},
   "outputs": [],
   "source": [
    "# 2. EMA\n",
    "# 3. SMA\n",
    "\n",
    "SMA_list = []\n",
    "EMA_list = []\n",
    "\n",
    "\n",
    "for index, row in df.iterrows():\n",
    "    test_df = df.iloc[index,:]\n",
    "    closing_prices = [test_df[1],test_df[3],test_df[5],test_df[7],test_df[9],test_df[11],test_df[13],test_df[15],test_df[17],test_df[19],test_df[21],test_df[23],test_df[25],test_df[27],test_df[29],test_df[31],test_df[33],test_df[35],test_df[37],test_df[39]]\n",
    "    \n",
    "    # Calculate a 12-period simple moving average\n",
    "    periods = 12\n",
    "    sma = np.mean(closing_prices[-periods:])\n",
    "    SMA_list.append(sma)\n",
    "    \n",
    "    # Create a pandas DataFrame with the closing prices\n",
    "    df_ema = pd.DataFrame({\"Close\": closing_prices})\n",
    "    ema = df_ema[\"Close\"].ewm(span=periods, adjust=False).mean().iloc[-1]\n",
    "    EMA_list.append(ema)\n",
    "\n",
    "\n",
    "data['SMA'] = SMA_list\n",
    "data['EMA'] = EMA_list"
   ]
  },
  {
   "cell_type": "code",
   "execution_count": 10,
   "id": "158caa1f",
   "metadata": {},
   "outputs": [],
   "source": [
    "# 4. TWAP\n",
    "\n",
    "\n",
    "TWAP_list = []\n",
    "\n",
    "for index, row in df.iterrows():\n",
    "    test_df = df.iloc[index,:]\n",
    "    bid_prices = [test_df[1],test_df[3],test_df[5],test_df[7],test_df[9],test_df[11],test_df[13],test_df[15],test_df[17],test_df[19],test_df[21],test_df[23],test_df[25],test_df[27],test_df[29],test_df[31],test_df[33],test_df[35],test_df[37],test_df[39]]\n",
    "    ask_prices = [test_df[41],test_df[43],test_df[45],test_df[47],test_df[49],test_df[51],test_df[53],test_df[55],test_df[57],test_df[59],test_df[61],test_df[63],test_df[65],test_df[67],test_df[69],test_df[71],test_df[73],test_df[75],test_df[77],test_df[79]]\n",
    "    bid_sizes = [test_df[2],test_df[4],test_df[6],test_df[8],test_df[10],test_df[12],test_df[14],test_df[16],test_df[18],test_df[20],test_df[22],test_df[24],test_df[26],test_df[28],test_df[30],test_df[32],test_df[34],test_df[36],test_df[38],test_df[40]]\n",
    "    ask_sizes = [test_df[42],test_df[44],test_df[46],test_df[48],test_df[50],test_df[52],test_df[54],test_df[56],test_df[58],test_df[60],test_df[62],test_df[64],test_df[66],test_df[68],test_df[70],test_df[72],test_df[74],test_df[76],test_df[78],test_df[80]]\n",
    "    \n",
    "    total_bid_volume = sum(bid_sizes)\n",
    "    total_ask_volume = sum(ask_sizes)\n",
    "\n",
    "    # Initialize variables for TWAP calculation\n",
    "    twap_numerator = 0\n",
    "    twap_denominator = 0\n",
    "    time_interval = 60  # in seconds\n",
    "    total_time = time_interval * len(bid_prices)\n",
    "\n",
    "    # Calculate TWAP\n",
    "    for i in range(len(bid_prices)):\n",
    "        mid_price = (bid_prices[i] + ask_prices[i]) / 2\n",
    "        volume = min(bid_sizes[i], ask_sizes[i])\n",
    "        twap_numerator += mid_price * volume * time_interval\n",
    "        twap_denominator += volume * time_interval\n",
    "\n",
    "    TWAP = twap_numerator / twap_denominator\n",
    "    TWAP_list.append(TWAP)\n",
    "    \n",
    "data['TWAP'] = TWAP_list"
   ]
  },
  {
   "cell_type": "code",
   "execution_count": 11,
   "id": "e16598b4",
   "metadata": {},
   "outputs": [],
   "source": [
    "# 5. price_level\n",
    "data['price_level'] = (df['bp_1'] + df['ap_1'])/2"
   ]
  },
  {
   "cell_type": "markdown",
   "id": "c8d3fd88",
   "metadata": {},
   "source": [
    "# Autoregressive LSTM for results in the next 50 secs"
   ]
  },
  {
   "cell_type": "code",
   "execution_count": 47,
   "id": "8b1c6655",
   "metadata": {},
   "outputs": [],
   "source": [
    "import pandas as pd\n",
    "import numpy as np\n",
    "from keras.models import Sequential\n",
    "from keras.layers import Dense, LSTM\n",
    "\n",
    "# Define the number of time steps to use for each sample\n",
    "n_lags = 10\n",
    "\n",
    "# Create input and output data for the LSTM model\n",
    "def create_dataset(df, n_lags):\n",
    "    X, y = [], []\n",
    "    for i in range(n_lags, len(df)):\n",
    "        X.append(df.iloc[i-n_lags:i, 0])\n",
    "        y.append(df.iloc[i, 0])\n",
    "    return np.array(X), np.array(y)"
   ]
  },
  {
   "cell_type": "code",
   "execution_count": 48,
   "id": "4b925295",
   "metadata": {},
   "outputs": [],
   "source": [
    "X, y = create_dataset(data[['volatility_t+1']], n_lags)"
   ]
  },
  {
   "cell_type": "code",
   "execution_count": 49,
   "id": "45668633",
   "metadata": {},
   "outputs": [],
   "source": [
    "# Split the data into training and testing sets\n",
    "train_size = int(0.7 * len(X))\n",
    "X_train, y_train = X[:train_size], y[:train_size]\n",
    "X_test, y_test = X[train_size:], y[train_size:]"
   ]
  },
  {
   "cell_type": "code",
   "execution_count": 50,
   "id": "be530f8b",
   "metadata": {},
   "outputs": [],
   "source": [
    "# Build the LSTM model\n",
    "model = Sequential()\n",
    "model.add(LSTM(50, input_shape=(n_lags, 1)))\n",
    "model.add(Dense(1))\n",
    "model.compile(loss='mean_squared_error', optimizer='adam')"
   ]
  },
  {
   "cell_type": "code",
   "execution_count": 51,
   "id": "8b78c0d1",
   "metadata": {
    "scrolled": true
   },
   "outputs": [
    {
     "name": "stdout",
     "output_type": "stream",
     "text": [
      "Epoch 1/100\n",
      "201/201 [==============================] - 1s 1ms/step - loss: 1.2360e-06\n",
      "Epoch 2/100\n",
      "201/201 [==============================] - 0s 2ms/step - loss: 3.1862e-11\n",
      "Epoch 3/100\n",
      "201/201 [==============================] - 0s 1ms/step - loss: 3.4815e-11\n",
      "Epoch 4/100\n",
      "201/201 [==============================] - 0s 1ms/step - loss: 3.3601e-11\n",
      "Epoch 5/100\n",
      "201/201 [==============================] - 0s 1ms/step - loss: 3.7289e-11\n",
      "Epoch 6/100\n",
      "201/201 [==============================] - 0s 1ms/step - loss: 4.0605e-11\n",
      "Epoch 7/100\n",
      "201/201 [==============================] - 0s 1ms/step - loss: 4.2597e-11\n",
      "Epoch 8/100\n",
      "201/201 [==============================] - 0s 2ms/step - loss: 5.0599e-11\n",
      "Epoch 9/100\n",
      "201/201 [==============================] - 0s 1ms/step - loss: 5.2453e-11\n",
      "Epoch 10/100\n",
      "201/201 [==============================] - 0s 1ms/step - loss: 7.3453e-11\n",
      "Epoch 11/100\n",
      "201/201 [==============================] - 0s 1ms/step - loss: 1.2639e-10\n",
      "Epoch 12/100\n",
      "201/201 [==============================] - 0s 1ms/step - loss: 1.2641e-10\n",
      "Epoch 13/100\n",
      "201/201 [==============================] - 0s 1ms/step - loss: 1.6723e-08\n",
      "Epoch 14/100\n",
      "201/201 [==============================] - 0s 1ms/step - loss: 1.2398e-08\n",
      "Epoch 15/100\n",
      "201/201 [==============================] - 0s 1ms/step - loss: 8.7950e-09\n",
      "Epoch 16/100\n",
      "201/201 [==============================] - 0s 1ms/step - loss: 2.0602e-08\n",
      "Epoch 17/100\n",
      "201/201 [==============================] - 0s 1ms/step - loss: 7.2506e-09\n",
      "Epoch 18/100\n",
      "201/201 [==============================] - 0s 1ms/step - loss: 1.3522e-08\n",
      "Epoch 19/100\n",
      "201/201 [==============================] - 0s 1ms/step - loss: 8.7694e-09\n",
      "Epoch 20/100\n",
      "201/201 [==============================] - 0s 1ms/step - loss: 1.4388e-08\n",
      "Epoch 21/100\n",
      "201/201 [==============================] - 0s 1ms/step - loss: 9.9966e-09\n",
      "Epoch 22/100\n",
      "201/201 [==============================] - 0s 1ms/step - loss: 1.8990e-08\n",
      "Epoch 23/100\n",
      "201/201 [==============================] - 0s 1ms/step - loss: 5.5913e-10\n",
      "Epoch 24/100\n",
      "201/201 [==============================] - 0s 1ms/step - loss: 1.1194e-08\n",
      "Epoch 25/100\n",
      "201/201 [==============================] - 0s 1ms/step - loss: 9.2191e-09\n",
      "Epoch 26/100\n",
      "201/201 [==============================] - 0s 1ms/step - loss: 1.0004e-08\n",
      "Epoch 27/100\n",
      "201/201 [==============================] - 0s 1ms/step - loss: 1.0686e-08\n",
      "Epoch 28/100\n",
      "201/201 [==============================] - 0s 1ms/step - loss: 8.0405e-09\n",
      "Epoch 29/100\n",
      "201/201 [==============================] - 0s 1ms/step - loss: 6.3026e-09\n",
      "Epoch 30/100\n",
      "201/201 [==============================] - 0s 1ms/step - loss: 1.3495e-08\n",
      "Epoch 31/100\n",
      "201/201 [==============================] - 0s 1ms/step - loss: 3.7212e-09\n",
      "Epoch 32/100\n",
      "201/201 [==============================] - 0s 1ms/step - loss: 9.6308e-09\n",
      "Epoch 33/100\n",
      "201/201 [==============================] - 0s 1ms/step - loss: 6.0217e-09\n",
      "Epoch 34/100\n",
      "201/201 [==============================] - 0s 1ms/step - loss: 6.0240e-09\n",
      "Epoch 35/100\n",
      "201/201 [==============================] - 0s 1ms/step - loss: 7.8115e-09\n",
      "Epoch 36/100\n",
      "201/201 [==============================] - 0s 1ms/step - loss: 5.3450e-09\n",
      "Epoch 37/100\n",
      "201/201 [==============================] - 0s 1ms/step - loss: 6.2859e-09\n",
      "Epoch 38/100\n",
      "201/201 [==============================] - 0s 1ms/step - loss: 6.9439e-09\n",
      "Epoch 39/100\n",
      "201/201 [==============================] - 0s 1ms/step - loss: 6.0331e-09\n",
      "Epoch 40/100\n",
      "201/201 [==============================] - 0s 1ms/step - loss: 4.9513e-09\n",
      "Epoch 41/100\n",
      "201/201 [==============================] - 0s 1ms/step - loss: 6.6404e-09\n",
      "Epoch 42/100\n",
      "201/201 [==============================] - 0s 1ms/step - loss: 4.6778e-09\n",
      "Epoch 43/100\n",
      "201/201 [==============================] - 0s 1ms/step - loss: 5.0620e-09\n",
      "Epoch 44/100\n",
      "201/201 [==============================] - 0s 1ms/step - loss: 5.1263e-09\n",
      "Epoch 45/100\n",
      "201/201 [==============================] - 0s 1ms/step - loss: 5.2889e-09\n",
      "Epoch 46/100\n",
      "201/201 [==============================] - 0s 1ms/step - loss: 4.8697e-09\n",
      "Epoch 47/100\n",
      "201/201 [==============================] - 0s 1ms/step - loss: 6.5791e-09\n",
      "Epoch 48/100\n",
      "201/201 [==============================] - 0s 1ms/step - loss: 2.5720e-09\n",
      "Epoch 49/100\n",
      "201/201 [==============================] - 0s 1ms/step - loss: 4.9045e-09\n",
      "Epoch 50/100\n",
      "201/201 [==============================] - 0s 1ms/step - loss: 4.0019e-09\n",
      "Epoch 51/100\n",
      "201/201 [==============================] - 0s 2ms/step - loss: 4.0827e-09\n",
      "Epoch 52/100\n",
      "201/201 [==============================] - 0s 1ms/step - loss: 4.5301e-09\n",
      "Epoch 53/100\n",
      "201/201 [==============================] - 0s 1ms/step - loss: 3.2529e-09\n",
      "Epoch 54/100\n",
      "201/201 [==============================] - 0s 1ms/step - loss: 4.3440e-09\n",
      "Epoch 55/100\n",
      "201/201 [==============================] - 0s 1ms/step - loss: 3.6661e-09\n",
      "Epoch 56/100\n",
      "201/201 [==============================] - 0s 1ms/step - loss: 3.4431e-09\n",
      "Epoch 57/100\n",
      "201/201 [==============================] - 0s 1ms/step - loss: 6.5185e-09\n",
      "Epoch 58/100\n",
      "201/201 [==============================] - 0s 1ms/step - loss: 7.7352e-10\n",
      "Epoch 59/100\n",
      "201/201 [==============================] - 0s 1ms/step - loss: 3.7029e-09\n",
      "Epoch 60/100\n",
      "201/201 [==============================] - 0s 1ms/step - loss: 4.1175e-09\n",
      "Epoch 61/100\n",
      "201/201 [==============================] - 0s 1ms/step - loss: 2.6954e-09\n",
      "Epoch 62/100\n",
      "201/201 [==============================] - 0s 1ms/step - loss: 3.5558e-09\n",
      "Epoch 63/100\n",
      "201/201 [==============================] - 0s 1ms/step - loss: 3.4200e-09\n",
      "Epoch 64/100\n",
      "201/201 [==============================] - 0s 2ms/step - loss: 2.4774e-09\n",
      "Epoch 65/100\n",
      "201/201 [==============================] - 0s 1ms/step - loss: 3.2168e-09\n",
      "Epoch 66/100\n",
      "201/201 [==============================] - 0s 1ms/step - loss: 2.2049e-09\n",
      "Epoch 67/100\n",
      "201/201 [==============================] - 0s 1ms/step - loss: 3.9720e-09\n",
      "Epoch 68/100\n",
      "201/201 [==============================] - 0s 1ms/step - loss: 1.6143e-09\n",
      "Epoch 69/100\n",
      "201/201 [==============================] - 0s 2ms/step - loss: 3.3893e-09\n",
      "Epoch 70/100\n",
      "201/201 [==============================] - 0s 1ms/step - loss: 2.3718e-09\n",
      "Epoch 71/100\n",
      "201/201 [==============================] - 0s 1ms/step - loss: 3.6780e-09\n",
      "Epoch 72/100\n",
      "201/201 [==============================] - 0s 1ms/step - loss: 1.6815e-09\n",
      "Epoch 73/100\n",
      "201/201 [==============================] - 0s 1ms/step - loss: 2.5140e-09\n",
      "Epoch 74/100\n",
      "201/201 [==============================] - 0s 1ms/step - loss: 3.0606e-09\n",
      "Epoch 75/100\n",
      "201/201 [==============================] - 0s 1ms/step - loss: 1.9167e-09\n",
      "Epoch 76/100\n",
      "201/201 [==============================] - 0s 1ms/step - loss: 2.4812e-09\n",
      "Epoch 77/100\n",
      "201/201 [==============================] - 0s 1ms/step - loss: 2.2052e-09\n",
      "Epoch 78/100\n",
      "201/201 [==============================] - 0s 1ms/step - loss: 2.3965e-09\n",
      "Epoch 79/100\n",
      "201/201 [==============================] - 0s 1ms/step - loss: 2.1611e-09\n",
      "Epoch 80/100\n",
      "201/201 [==============================] - 0s 1ms/step - loss: 2.5200e-09\n",
      "Epoch 81/100\n",
      "201/201 [==============================] - 0s 1ms/step - loss: 1.9013e-09\n",
      "Epoch 82/100\n",
      "201/201 [==============================] - 0s 1ms/step - loss: 1.8663e-09\n",
      "Epoch 83/100\n",
      "201/201 [==============================] - 0s 1ms/step - loss: 2.2327e-09\n",
      "Epoch 84/100\n",
      "201/201 [==============================] - 0s 1ms/step - loss: 2.0427e-09\n",
      "Epoch 85/100\n",
      "201/201 [==============================] - 0s 1ms/step - loss: 1.7638e-09\n",
      "Epoch 86/100\n",
      "201/201 [==============================] - 0s 2ms/step - loss: 2.4563e-09\n",
      "Epoch 87/100\n",
      "201/201 [==============================] - 0s 1ms/step - loss: 1.4146e-09\n",
      "Epoch 88/100\n",
      "201/201 [==============================] - 0s 1ms/step - loss: 1.8811e-09\n",
      "Epoch 89/100\n",
      "201/201 [==============================] - 0s 1ms/step - loss: 1.7554e-09\n",
      "Epoch 90/100\n",
      "201/201 [==============================] - 0s 1ms/step - loss: 2.3184e-09\n",
      "Epoch 91/100\n",
      "201/201 [==============================] - 0s 1ms/step - loss: 1.5051e-09\n",
      "Epoch 92/100\n",
      "201/201 [==============================] - 0s 1ms/step - loss: 1.8208e-09\n",
      "Epoch 93/100\n",
      "201/201 [==============================] - 0s 1ms/step - loss: 1.4465e-09\n",
      "Epoch 94/100\n",
      "201/201 [==============================] - 0s 1ms/step - loss: 1.9099e-09\n",
      "Epoch 95/100\n"
     ]
    },
    {
     "name": "stdout",
     "output_type": "stream",
     "text": [
      "201/201 [==============================] - 0s 1ms/step - loss: 2.1734e-09\n",
      "Epoch 96/100\n",
      "201/201 [==============================] - 0s 1ms/step - loss: 1.4821e-09\n",
      "Epoch 97/100\n",
      "201/201 [==============================] - 0s 1ms/step - loss: 1.1042e-09\n",
      "Epoch 98/100\n",
      "201/201 [==============================] - 0s 1ms/step - loss: 1.6502e-09\n",
      "Epoch 99/100\n",
      "201/201 [==============================] - 0s 1ms/step - loss: 1.6583e-09\n",
      "Epoch 100/100\n",
      "201/201 [==============================] - 0s 1ms/step - loss: 1.5324e-09\n"
     ]
    },
    {
     "data": {
      "text/plain": [
       "<keras.callbacks.History at 0x303478fa0>"
      ]
     },
     "execution_count": 51,
     "metadata": {},
     "output_type": "execute_result"
    }
   ],
   "source": [
    "# Train the mode\n",
    "model.fit(X_train, y_train, epochs=100, batch_size=32)"
   ]
  },
  {
   "cell_type": "code",
   "execution_count": 52,
   "id": "b648c32d",
   "metadata": {},
   "outputs": [
    {
     "name": "stdout",
     "output_type": "stream",
     "text": [
      "86/86 [==============================] - 0s 546us/step - loss: 1.8007e-09\n",
      "Test loss: 1.8007493274296849e-09\n"
     ]
    }
   ],
   "source": [
    "# Evaluate the model on the testing set\n",
    "loss = model.evaluate(X_test, y_test)\n",
    "print('Test loss:', loss)"
   ]
  },
  {
   "cell_type": "code",
   "execution_count": 53,
   "id": "38996678",
   "metadata": {},
   "outputs": [
    {
     "name": "stdout",
     "output_type": "stream",
     "text": [
      "86/86 [==============================] - 0s 520us/step\n"
     ]
    }
   ],
   "source": [
    "# Make predictions on the testing set\n",
    "predictions = model.predict(X_test)"
   ]
  },
  {
   "cell_type": "code",
   "execution_count": 54,
   "id": "44f0ed95",
   "metadata": {
    "scrolled": true
   },
   "outputs": [
    {
     "name": "stdout",
     "output_type": "stream",
     "text": [
      "1/1 [==============================] - 0s 133ms/step\n",
      "1/1 [==============================] - 0s 6ms/step\n",
      "1/1 [==============================] - 0s 6ms/step\n",
      "1/1 [==============================] - 0s 7ms/step\n",
      "1/1 [==============================] - 0s 11ms/step\n",
      "1/1 [==============================] - 0s 8ms/step\n",
      "1/1 [==============================] - 0s 6ms/step\n",
      "1/1 [==============================] - 0s 6ms/step\n",
      "1/1 [==============================] - 0s 6ms/step\n",
      "1/1 [==============================] - 0s 6ms/step\n",
      "1/1 [==============================] - 0s 7ms/step\n",
      "1/1 [==============================] - 0s 7ms/step\n",
      "1/1 [==============================] - 0s 6ms/step\n",
      "1/1 [==============================] - 0s 6ms/step\n",
      "1/1 [==============================] - 0s 6ms/step\n",
      "1/1 [==============================] - 0s 6ms/step\n",
      "1/1 [==============================] - 0s 6ms/step\n",
      "1/1 [==============================] - 0s 7ms/step\n",
      "1/1 [==============================] - 0s 7ms/step\n",
      "1/1 [==============================] - 0s 6ms/step\n",
      "Predictions for the next 20 targets:\n",
      "[-5.0836425e-06, -4.998412e-06, -5.021757e-06, -5.0748567e-06, -5.1250227e-06, -5.16165e-06, -5.1838415e-06, -5.1943334e-06, -5.1966144e-06, -5.1938114e-06, -5.18828e-06, -5.188369e-06, -5.1883926e-06, -5.188387e-06, -5.188371e-06, -5.18836e-06, -5.1883526e-06, -5.1883544e-06, -5.188347e-06, -5.1883508e-06]\n"
     ]
    }
   ],
   "source": [
    "# Make predictions on the next 5670 targets\n",
    "last_sample = X[-1].reshape(1, n_lags, 1)\n",
    "predictions_all = []\n",
    "for i in range(20):\n",
    "    prediction = model.predict(last_sample)\n",
    "    predictions_all.append(prediction[0][0])\n",
    "    last_sample = np.concatenate((last_sample[:, 1:, :], prediction.reshape(1, 1, 1)), axis=1)\n",
    "\n",
    "# Print the predictions\n",
    "print('Predictions for the next 20 targets:')\n",
    "print(predictions_all)"
   ]
  },
  {
   "cell_type": "code",
   "execution_count": 55,
   "id": "000c1354",
   "metadata": {
    "scrolled": false
   },
   "outputs": [
    {
     "data": {
      "text/plain": [
       "[<matplotlib.lines.Line2D at 0x30418f280>]"
      ]
     },
     "execution_count": 55,
     "metadata": {},
     "output_type": "execute_result"
    },
    {
     "data": {
      "image/png": "[encoded data removed]",
      "text/plain": [
       "<Figure size 640x480 with 1 Axes>"
      ]
     },
     "metadata": {},
     "output_type": "display_data"
    }
   ],
   "source": [
    "plt.plot(predictions_all)\n"
   ]
  },
  {
   "cell_type": "code",
   "execution_count": null,
   "id": "750dcd59",
   "metadata": {},
   "outputs": [],
   "source": []
  },
  {
   "cell_type": "code",
   "execution_count": null,
   "id": "0bf4290c",
   "metadata": {},
   "outputs": [],
   "source": []
  },
  {
   "cell_type": "code",
   "execution_count": null,
   "id": "e3b196af",
   "metadata": {},
   "outputs": [],
   "source": []
  },
  {
   "cell_type": "code",
   "execution_count": null,
   "id": "12b8281f",
   "metadata": {},
   "outputs": [],
   "source": []
  },
  {
   "cell_type": "code",
   "execution_count": null,
   "id": "18e5946f",
   "metadata": {},
   "outputs": [],
   "source": []
  },
  {
   "cell_type": "code",
   "execution_count": null,
   "id": "e79bc757",
   "metadata": {},
   "outputs": [],
   "source": []
  },
  {
   "cell_type": "code",
   "execution_count": null,
   "id": "3546db75",
   "metadata": {},
   "outputs": [],
   "source": []
  },
  {
   "cell_type": "code",
   "execution_count": null,
   "id": "07e002a4",
   "metadata": {},
   "outputs": [],
   "source": []
  },
  {
   "cell_type": "code",
   "execution_count": null,
   "id": "4ba90f4c",
   "metadata": {},
   "outputs": [],
   "source": []
  },
  {
   "cell_type": "code",
   "execution_count": null,
   "id": "95be24c2",
   "metadata": {},
   "outputs": [],
   "source": []
  },
  {
   "cell_type": "code",
   "execution_count": null,
   "id": "8cbb4b59",
   "metadata": {},
   "outputs": [],
   "source": []
  },
  {
   "cell_type": "code",
   "execution_count": null,
   "id": "70ff28a9",
   "metadata": {},
   "outputs": [],
   "source": []
  },
  {
   "cell_type": "code",
   "execution_count": null,
   "id": "45500730",
   "metadata": {},
   "outputs": [],
   "source": []
  }
 ],
 "metadata": {
  "kernelspec": {
   "display_name": "Python 3 (ipykernel)",
   "language": "python",
   "name": "python3"
  },
  "language_info": {
   "codemirror_mode": {
    "name": "ipython",
    "version": 3
   },
   "file_extension": ".py",
   "mimetype": "text/x-python",
   "name": "python",
   "nbconvert_exporter": "python",
   "pygments_lexer": "ipython3",
   "version": "3.10.9"
  },
  "toc": {
   "base_numbering": 1,
   "nav_menu": {},
   "number_sections": true,
   "sideBar": true,
   "skip_h1_title": false,
   "title_cell": "Table of Contents",
   "title_sidebar": "Contents",
   "toc_cell": false,
   "toc_position": {},
   "toc_section_display": true,
   "toc_window_display": false
  }
 },
 "nbformat": 4,
 "nbformat_minor": 5
}
