{
 "cells": [
  {
   "cell_type": "markdown",
   "id": "cea8528b",
   "metadata": {
    "heading_collapsed": true
   },
   "source": [
    "# Imports and Data loading"
   ]
  },
  {
   "cell_type": "code",
   "execution_count": 528,
   "id": "edf19e65",
   "metadata": {
    "hidden": true
   },
   "outputs": [],
   "source": [
    "######### List of imports ################\n",
    "import pandas as pd\n",
    "import numpy as np\n",
    "import seaborn as sns\n",
    "import matplotlib.pyplot as plt\n",
    "from sklearn.impute import SimpleImputer\n",
    "from matplotlib.pyplot import figure\n",
    "from sklearn.preprocessing import MinMaxScaler\n",
    "from sklearn.metrics import r2_score\n",
    "from sklearn.linear_model import LinearRegression\n",
    "from statsmodels.tsa.stattools import adfuller\n",
    "from statsmodels.graphics.tsaplots import plot_pacf, plot_acf\n",
    "from statsmodels.graphics.tsaplots import plot_predict\n",
    "from statsmodels.tsa.seasonal import seasonal_decompose\n",
    "from statsmodels.tsa.stattools import acf\n",
    "import pmdarima as pm\n",
    "from ThymeBoost import ThymeBoost as tb\n",
    "from sklearn.model_selection import TimeSeriesSplit\n",
    "from sklearn.model_selection import cross_val_score\n",
    "from statsmodels.tsa.seasonal import seasonal_decompose\n",
    "\n",
    "###########################################\n",
    "\n",
    "######### Models to consider ############\n",
    "# 1. GBRT\n",
    "# 2. LSTM - Recurrent NN (both feedforward and feedback)\n",
    "# 3. LightGBM - Efficient GBRT with feature building\n",
    "# 4. Elastic Net\n",
    "# 5. ARIMA\n",
    "#######################################"
   ]
  },
  {
   "cell_type": "code",
   "execution_count": 15,
   "id": "3ab05b65",
   "metadata": {
    "hidden": true,
    "scrolled": true
   },
   "outputs": [],
   "source": [
    "## Read data from \"BTCUSD\"\n",
    "\n",
    "data = pd.read_csv(\"/Users/yuhaoli/code/HowardLiYH/Volatility-prediction/datasets/raw/raw_data.csv\")"
   ]
  },
  {
   "cell_type": "code",
   "execution_count": 25,
   "id": "2ebbbc89",
   "metadata": {
    "hidden": true
   },
   "outputs": [
    {
     "data": {
      "text/html": [
       "<div>\n",
       "<style scoped>\n",
       "    .dataframe tbody tr th:only-of-type {\n",
       "        vertical-align: middle;\n",
       "    }\n",
       "\n",
       "    .dataframe tbody tr th {\n",
       "        vertical-align: top;\n",
       "    }\n",
       "\n",
       "    .dataframe thead th {\n",
       "        text-align: right;\n",
       "    }\n",
       "</style>\n",
       "<table border=\"1\" class=\"dataframe\">\n",
       "  <thead>\n",
       "    <tr style=\"text-align: right;\">\n",
       "      <th></th>\n",
       "      <th>log_price</th>\n",
       "      <th>scrape_time</th>\n",
       "      <th>lastUpdateId</th>\n",
       "      <th>bids_price_01</th>\n",
       "      <th>bids_size_01</th>\n",
       "      <th>bids_price_02</th>\n",
       "      <th>bids_size_02</th>\n",
       "      <th>ask_price_01</th>\n",
       "      <th>ask_size_01</th>\n",
       "      <th>ask_price_02</th>\n",
       "      <th>ask_size_02</th>\n",
       "      <th>WAP</th>\n",
       "      <th>spread</th>\n",
       "      <th>log_returns</th>\n",
       "    </tr>\n",
       "  </thead>\n",
       "  <tbody>\n",
       "    <tr>\n",
       "      <th>0</th>\n",
       "      <td>10.236571</td>\n",
       "      <td>2023-03-27 10:30:36</td>\n",
       "      <td>17668615506</td>\n",
       "      <td>27905.28</td>\n",
       "      <td>12.59899</td>\n",
       "      <td>27904.92</td>\n",
       "      <td>0.01921</td>\n",
       "      <td>27905.29</td>\n",
       "      <td>1.58571</td>\n",
       "      <td>27905.30</td>\n",
       "      <td>1.02708</td>\n",
       "      <td>27905.281936</td>\n",
       "      <td>3.583551e-07</td>\n",
       "      <td>NaN</td>\n",
       "    </tr>\n",
       "    <tr>\n",
       "      <th>1</th>\n",
       "      <td>10.236571</td>\n",
       "      <td>2023-03-27 10:30:41</td>\n",
       "      <td>17668615812</td>\n",
       "      <td>27905.28</td>\n",
       "      <td>13.05932</td>\n",
       "      <td>27905.15</td>\n",
       "      <td>0.00208</td>\n",
       "      <td>27905.29</td>\n",
       "      <td>3.29816</td>\n",
       "      <td>27905.30</td>\n",
       "      <td>0.00252</td>\n",
       "      <td>27905.282002</td>\n",
       "      <td>3.583551e-07</td>\n",
       "      <td>2.385111e-09</td>\n",
       "    </tr>\n",
       "    <tr>\n",
       "      <th>2</th>\n",
       "      <td>10.236710</td>\n",
       "      <td>2023-03-27 10:30:45</td>\n",
       "      <td>17668616793</td>\n",
       "      <td>27909.14</td>\n",
       "      <td>10.13004</td>\n",
       "      <td>27909.03</td>\n",
       "      <td>0.09094</td>\n",
       "      <td>27909.15</td>\n",
       "      <td>5.28372</td>\n",
       "      <td>27909.94</td>\n",
       "      <td>0.09800</td>\n",
       "      <td>27909.147770</td>\n",
       "      <td>3.583056e-07</td>\n",
       "      <td>1.385222e-04</td>\n",
       "    </tr>\n",
       "    <tr>\n",
       "      <th>3</th>\n",
       "      <td>10.236710</td>\n",
       "      <td>2023-03-27 10:30:50</td>\n",
       "      <td>17668617069</td>\n",
       "      <td>27909.14</td>\n",
       "      <td>9.63960</td>\n",
       "      <td>27909.03</td>\n",
       "      <td>0.09094</td>\n",
       "      <td>27909.15</td>\n",
       "      <td>5.83321</td>\n",
       "      <td>27909.16</td>\n",
       "      <td>0.00401</td>\n",
       "      <td>27909.143110</td>\n",
       "      <td>3.583056e-07</td>\n",
       "      <td>-1.669880e-07</td>\n",
       "    </tr>\n",
       "    <tr>\n",
       "      <th>4</th>\n",
       "      <td>10.236710</td>\n",
       "      <td>2023-03-27 10:30:54</td>\n",
       "      <td>17668617292</td>\n",
       "      <td>27909.14</td>\n",
       "      <td>0.22453</td>\n",
       "      <td>27908.60</td>\n",
       "      <td>0.00559</td>\n",
       "      <td>27909.15</td>\n",
       "      <td>6.31910</td>\n",
       "      <td>27909.16</td>\n",
       "      <td>0.00401</td>\n",
       "      <td>27909.149194</td>\n",
       "      <td>3.583056e-07</td>\n",
       "      <td>2.180208e-07</td>\n",
       "    </tr>\n",
       "  </tbody>\n",
       "</table>\n",
       "</div>"
      ],
      "text/plain": [
       "   log_price          scrape_time  lastUpdateId  bids_price_01  bids_size_01  \\\n",
       "0  10.236571  2023-03-27 10:30:36   17668615506       27905.28      12.59899   \n",
       "1  10.236571  2023-03-27 10:30:41   17668615812       27905.28      13.05932   \n",
       "2  10.236710  2023-03-27 10:30:45   17668616793       27909.14      10.13004   \n",
       "3  10.236710  2023-03-27 10:30:50   17668617069       27909.14       9.63960   \n",
       "4  10.236710  2023-03-27 10:30:54   17668617292       27909.14       0.22453   \n",
       "\n",
       "   bids_price_02  bids_size_02  ask_price_01  ask_size_01  ask_price_02  \\\n",
       "0       27904.92       0.01921      27905.29      1.58571      27905.30   \n",
       "1       27905.15       0.00208      27905.29      3.29816      27905.30   \n",
       "2       27909.03       0.09094      27909.15      5.28372      27909.94   \n",
       "3       27909.03       0.09094      27909.15      5.83321      27909.16   \n",
       "4       27908.60       0.00559      27909.15      6.31910      27909.16   \n",
       "\n",
       "   ask_size_02           WAP        spread   log_returns  \n",
       "0      1.02708  27905.281936  3.583551e-07           NaN  \n",
       "1      0.00252  27905.282002  3.583551e-07  2.385111e-09  \n",
       "2      0.09800  27909.147770  3.583056e-07  1.385222e-04  \n",
       "3      0.00401  27909.143110  3.583056e-07 -1.669880e-07  \n",
       "4      0.00401  27909.149194  3.583056e-07  2.180208e-07  "
      ]
     },
     "execution_count": 25,
     "metadata": {},
     "output_type": "execute_result"
    }
   ],
   "source": [
    "data.head()"
   ]
  },
  {
   "cell_type": "markdown",
   "id": "dbfb4946",
   "metadata": {
    "heading_collapsed": true
   },
   "source": [
    "# Feature Creation"
   ]
  },
  {
   "cell_type": "code",
   "execution_count": 17,
   "id": "ca7c2e1a",
   "metadata": {
    "hidden": true
   },
   "outputs": [],
   "source": [
    "# Weighted Average Price \n",
    "data['WAP'] = (data['bids_price_01']*data['bids_size_01']\n",
    "               +data['bids_price_02']*data['bids_size_02']\n",
    "               +data['ask_price_01']*data['ask_size_01']\n",
    "               +data['ask_price_02']*data['ask_size_02'])/(data['bids_size_01']+\n",
    "                                         data['bids_size_02']+\n",
    "                                         data['ask_size_01']+\n",
    "                                         data['ask_size_02'])"
   ]
  },
  {
   "cell_type": "code",
   "execution_count": 19,
   "id": "6a0ec6e4",
   "metadata": {
    "hidden": true
   },
   "outputs": [],
   "source": [
    "## Spread\n",
    "data['spread'] = ((data['ask_price_01']/data['bids_price_01']) - 1)"
   ]
  },
  {
   "cell_type": "code",
   "execution_count": 24,
   "id": "b1642793",
   "metadata": {
    "hidden": true
   },
   "outputs": [],
   "source": [
    "## Log price\n",
    "\n",
    "def log_price(list_stock_prices):\n",
    "    return np.log(list_stock_prices)\n",
    "\n",
    "data.insert(0, 'log_price', log_price(data['WAP']))\n",
    "\n",
    "data['log_returns'] = data.log_price.diff()"
   ]
  },
  {
   "cell_type": "code",
   "execution_count": 29,
   "id": "df6b57cd",
   "metadata": {
    "hidden": true
   },
   "outputs": [],
   "source": [
    "## Realized Volatility\n",
    "def realized_volatility():\n",
    "    list_vol = []\n",
    "    i = 0\n",
    "    for i in data.index:\n",
    "        x = np.std(data.log_returns.iloc[:i])\n",
    "        i += 1\n",
    "        list_vol.append(x)\n",
    "    \n",
    "    return list_vol\n",
    "\n",
    "data['realized_volatility'] = realized_volatility()"
   ]
  },
  {
   "cell_type": "code",
   "execution_count": 30,
   "id": "10a678c2",
   "metadata": {
    "hidden": true
   },
   "outputs": [],
   "source": [
    "## Previous volatility\n",
    "\n",
    "data['volatility_t+1'] = data['realized_volatility'].shift(-1)"
   ]
  },
  {
   "cell_type": "code",
   "execution_count": 38,
   "id": "c9cb5b56",
   "metadata": {
    "hidden": true
   },
   "outputs": [],
   "source": [
    "y = data['realized_volatility'].to_frame()"
   ]
  },
  {
   "cell_type": "code",
   "execution_count": 40,
   "id": "0ccb4188",
   "metadata": {
    "hidden": true
   },
   "outputs": [],
   "source": [
    "## Create a copy of data named df\n",
    "df = data"
   ]
  },
  {
   "cell_type": "code",
   "execution_count": 42,
   "id": "11996f0e",
   "metadata": {
    "hidden": true
   },
   "outputs": [],
   "source": [
    "## Drop the target y\n",
    "df.drop(['realized_volatility'], axis = 1, inplace = True) "
   ]
  },
  {
   "cell_type": "code",
   "execution_count": 45,
   "id": "a16fcdbf",
   "metadata": {
    "hidden": true
   },
   "outputs": [
    {
     "data": {
      "text/plain": [
       "False    7263\n",
       "dtype: int64"
      ]
     },
     "execution_count": 45,
     "metadata": {},
     "output_type": "execute_result"
    }
   ],
   "source": [
    "## Check if two roles have the same value\n",
    "df.duplicated().value_counts()"
   ]
  },
  {
   "cell_type": "code",
   "execution_count": 47,
   "id": "963a24fc",
   "metadata": {
    "hidden": true
   },
   "outputs": [
    {
     "data": {
      "text/html": [
       "<div>\n",
       "<style scoped>\n",
       "    .dataframe tbody tr th:only-of-type {\n",
       "        vertical-align: middle;\n",
       "    }\n",
       "\n",
       "    .dataframe tbody tr th {\n",
       "        vertical-align: top;\n",
       "    }\n",
       "\n",
       "    .dataframe thead th {\n",
       "        text-align: right;\n",
       "    }\n",
       "</style>\n",
       "<table border=\"1\" class=\"dataframe\">\n",
       "  <thead>\n",
       "    <tr style=\"text-align: right;\">\n",
       "      <th></th>\n",
       "      <th>log_price</th>\n",
       "      <th>scrape_time</th>\n",
       "      <th>lastUpdateId</th>\n",
       "      <th>bids_price_01</th>\n",
       "      <th>bids_size_01</th>\n",
       "      <th>bids_price_02</th>\n",
       "      <th>bids_size_02</th>\n",
       "      <th>ask_price_01</th>\n",
       "      <th>ask_size_01</th>\n",
       "      <th>ask_price_02</th>\n",
       "      <th>ask_size_02</th>\n",
       "      <th>WAP</th>\n",
       "      <th>spread</th>\n",
       "      <th>log_returns</th>\n",
       "      <th>volatility_t+1</th>\n",
       "    </tr>\n",
       "  </thead>\n",
       "  <tbody>\n",
       "    <tr>\n",
       "      <th>0</th>\n",
       "      <td>10.236571</td>\n",
       "      <td>2023-03-27 10:30:36</td>\n",
       "      <td>17668615506</td>\n",
       "      <td>27905.28</td>\n",
       "      <td>12.59899</td>\n",
       "      <td>27904.92</td>\n",
       "      <td>0.01921</td>\n",
       "      <td>27905.29</td>\n",
       "      <td>1.58571</td>\n",
       "      <td>27905.30</td>\n",
       "      <td>1.02708</td>\n",
       "      <td>27905.281936</td>\n",
       "      <td>3.583551e-07</td>\n",
       "      <td>NaN</td>\n",
       "      <td>NaN</td>\n",
       "    </tr>\n",
       "    <tr>\n",
       "      <th>1</th>\n",
       "      <td>10.236571</td>\n",
       "      <td>2023-03-27 10:30:41</td>\n",
       "      <td>17668615812</td>\n",
       "      <td>27905.28</td>\n",
       "      <td>13.05932</td>\n",
       "      <td>27905.15</td>\n",
       "      <td>0.00208</td>\n",
       "      <td>27905.29</td>\n",
       "      <td>3.29816</td>\n",
       "      <td>27905.30</td>\n",
       "      <td>0.00252</td>\n",
       "      <td>27905.282002</td>\n",
       "      <td>3.583551e-07</td>\n",
       "      <td>2.385111e-09</td>\n",
       "      <td>0.000000</td>\n",
       "    </tr>\n",
       "    <tr>\n",
       "      <th>2</th>\n",
       "      <td>10.236710</td>\n",
       "      <td>2023-03-27 10:30:45</td>\n",
       "      <td>17668616793</td>\n",
       "      <td>27909.14</td>\n",
       "      <td>10.13004</td>\n",
       "      <td>27909.03</td>\n",
       "      <td>0.09094</td>\n",
       "      <td>27909.15</td>\n",
       "      <td>5.28372</td>\n",
       "      <td>27909.94</td>\n",
       "      <td>0.09800</td>\n",
       "      <td>27909.147770</td>\n",
       "      <td>3.583056e-07</td>\n",
       "      <td>1.385222e-04</td>\n",
       "      <td>0.000069</td>\n",
       "    </tr>\n",
       "    <tr>\n",
       "      <th>3</th>\n",
       "      <td>10.236710</td>\n",
       "      <td>2023-03-27 10:30:50</td>\n",
       "      <td>17668617069</td>\n",
       "      <td>27909.14</td>\n",
       "      <td>9.63960</td>\n",
       "      <td>27909.03</td>\n",
       "      <td>0.09094</td>\n",
       "      <td>27909.15</td>\n",
       "      <td>5.83321</td>\n",
       "      <td>27909.16</td>\n",
       "      <td>0.00401</td>\n",
       "      <td>27909.143110</td>\n",
       "      <td>3.583056e-07</td>\n",
       "      <td>-1.669880e-07</td>\n",
       "      <td>0.000065</td>\n",
       "    </tr>\n",
       "    <tr>\n",
       "      <th>4</th>\n",
       "      <td>10.236710</td>\n",
       "      <td>2023-03-27 10:30:54</td>\n",
       "      <td>17668617292</td>\n",
       "      <td>27909.14</td>\n",
       "      <td>0.22453</td>\n",
       "      <td>27908.60</td>\n",
       "      <td>0.00559</td>\n",
       "      <td>27909.15</td>\n",
       "      <td>6.31910</td>\n",
       "      <td>27909.16</td>\n",
       "      <td>0.00401</td>\n",
       "      <td>27909.149194</td>\n",
       "      <td>3.583056e-07</td>\n",
       "      <td>2.180208e-07</td>\n",
       "      <td>0.000060</td>\n",
       "    </tr>\n",
       "    <tr>\n",
       "      <th>...</th>\n",
       "      <td>...</td>\n",
       "      <td>...</td>\n",
       "      <td>...</td>\n",
       "      <td>...</td>\n",
       "      <td>...</td>\n",
       "      <td>...</td>\n",
       "      <td>...</td>\n",
       "      <td>...</td>\n",
       "      <td>...</td>\n",
       "      <td>...</td>\n",
       "      <td>...</td>\n",
       "      <td>...</td>\n",
       "      <td>...</td>\n",
       "      <td>...</td>\n",
       "      <td>...</td>\n",
       "    </tr>\n",
       "    <tr>\n",
       "      <th>7258</th>\n",
       "      <td>10.206226</td>\n",
       "      <td>2023-03-27 19:54:46</td>\n",
       "      <td>17675595465</td>\n",
       "      <td>27071.21</td>\n",
       "      <td>3.93922</td>\n",
       "      <td>27071.20</td>\n",
       "      <td>0.00232</td>\n",
       "      <td>27071.22</td>\n",
       "      <td>3.04686</td>\n",
       "      <td>27071.26</td>\n",
       "      <td>0.70701</td>\n",
       "      <td>27071.218550</td>\n",
       "      <td>3.693961e-07</td>\n",
       "      <td>1.207422e-07</td>\n",
       "      <td>0.000274</td>\n",
       "    </tr>\n",
       "    <tr>\n",
       "      <th>7259</th>\n",
       "      <td>10.206227</td>\n",
       "      <td>2023-03-27 19:54:51</td>\n",
       "      <td>17675595763</td>\n",
       "      <td>27071.21</td>\n",
       "      <td>1.05540</td>\n",
       "      <td>27071.20</td>\n",
       "      <td>0.00232</td>\n",
       "      <td>27071.22</td>\n",
       "      <td>5.07080</td>\n",
       "      <td>27071.32</td>\n",
       "      <td>0.69941</td>\n",
       "      <td>27071.228691</td>\n",
       "      <td>3.693961e-07</td>\n",
       "      <td>3.745986e-07</td>\n",
       "      <td>0.000274</td>\n",
       "    </tr>\n",
       "    <tr>\n",
       "      <th>7260</th>\n",
       "      <td>10.206071</td>\n",
       "      <td>2023-03-27 19:54:56</td>\n",
       "      <td>17675596986</td>\n",
       "      <td>27067.00</td>\n",
       "      <td>0.40343</td>\n",
       "      <td>27066.84</td>\n",
       "      <td>0.38190</td>\n",
       "      <td>27067.01</td>\n",
       "      <td>7.31261</td>\n",
       "      <td>27067.05</td>\n",
       "      <td>0.30726</td>\n",
       "      <td>27067.003258</td>\n",
       "      <td>3.694536e-07</td>\n",
       "      <td>-1.560979e-04</td>\n",
       "      <td>0.000274</td>\n",
       "    </tr>\n",
       "    <tr>\n",
       "      <th>7261</th>\n",
       "      <td>10.205793</td>\n",
       "      <td>2023-03-27 19:55:00</td>\n",
       "      <td>17675598589</td>\n",
       "      <td>27059.43</td>\n",
       "      <td>1.50309</td>\n",
       "      <td>27058.51</td>\n",
       "      <td>0.09800</td>\n",
       "      <td>27059.44</td>\n",
       "      <td>4.31640</td>\n",
       "      <td>27060.11</td>\n",
       "      <td>0.55458</td>\n",
       "      <td>27059.481007</td>\n",
       "      <td>3.695569e-07</td>\n",
       "      <td>-2.779509e-04</td>\n",
       "      <td>0.000274</td>\n",
       "    </tr>\n",
       "    <tr>\n",
       "      <th>7262</th>\n",
       "      <td>10.205792</td>\n",
       "      <td>2023-03-27 19:55:05</td>\n",
       "      <td>17675599268</td>\n",
       "      <td>27059.43</td>\n",
       "      <td>3.24565</td>\n",
       "      <td>27059.42</td>\n",
       "      <td>0.00530</td>\n",
       "      <td>27059.44</td>\n",
       "      <td>5.76809</td>\n",
       "      <td>27059.61</td>\n",
       "      <td>0.76618</td>\n",
       "      <td>27059.449983</td>\n",
       "      <td>3.695569e-07</td>\n",
       "      <td>-1.146489e-06</td>\n",
       "      <td>NaN</td>\n",
       "    </tr>\n",
       "  </tbody>\n",
       "</table>\n",
       "<p>7263 rows × 15 columns</p>\n",
       "</div>"
      ],
      "text/plain": [
       "      log_price          scrape_time  lastUpdateId  bids_price_01  \\\n",
       "0     10.236571  2023-03-27 10:30:36   17668615506       27905.28   \n",
       "1     10.236571  2023-03-27 10:30:41   17668615812       27905.28   \n",
       "2     10.236710  2023-03-27 10:30:45   17668616793       27909.14   \n",
       "3     10.236710  2023-03-27 10:30:50   17668617069       27909.14   \n",
       "4     10.236710  2023-03-27 10:30:54   17668617292       27909.14   \n",
       "...         ...                  ...           ...            ...   \n",
       "7258  10.206226  2023-03-27 19:54:46   17675595465       27071.21   \n",
       "7259  10.206227  2023-03-27 19:54:51   17675595763       27071.21   \n",
       "7260  10.206071  2023-03-27 19:54:56   17675596986       27067.00   \n",
       "7261  10.205793  2023-03-27 19:55:00   17675598589       27059.43   \n",
       "7262  10.205792  2023-03-27 19:55:05   17675599268       27059.43   \n",
       "\n",
       "      bids_size_01  bids_price_02  bids_size_02  ask_price_01  ask_size_01  \\\n",
       "0         12.59899       27904.92       0.01921      27905.29      1.58571   \n",
       "1         13.05932       27905.15       0.00208      27905.29      3.29816   \n",
       "2         10.13004       27909.03       0.09094      27909.15      5.28372   \n",
       "3          9.63960       27909.03       0.09094      27909.15      5.83321   \n",
       "4          0.22453       27908.60       0.00559      27909.15      6.31910   \n",
       "...            ...            ...           ...           ...          ...   \n",
       "7258       3.93922       27071.20       0.00232      27071.22      3.04686   \n",
       "7259       1.05540       27071.20       0.00232      27071.22      5.07080   \n",
       "7260       0.40343       27066.84       0.38190      27067.01      7.31261   \n",
       "7261       1.50309       27058.51       0.09800      27059.44      4.31640   \n",
       "7262       3.24565       27059.42       0.00530      27059.44      5.76809   \n",
       "\n",
       "      ask_price_02  ask_size_02           WAP        spread   log_returns  \\\n",
       "0         27905.30      1.02708  27905.281936  3.583551e-07           NaN   \n",
       "1         27905.30      0.00252  27905.282002  3.583551e-07  2.385111e-09   \n",
       "2         27909.94      0.09800  27909.147770  3.583056e-07  1.385222e-04   \n",
       "3         27909.16      0.00401  27909.143110  3.583056e-07 -1.669880e-07   \n",
       "4         27909.16      0.00401  27909.149194  3.583056e-07  2.180208e-07   \n",
       "...            ...          ...           ...           ...           ...   \n",
       "7258      27071.26      0.70701  27071.218550  3.693961e-07  1.207422e-07   \n",
       "7259      27071.32      0.69941  27071.228691  3.693961e-07  3.745986e-07   \n",
       "7260      27067.05      0.30726  27067.003258  3.694536e-07 -1.560979e-04   \n",
       "7261      27060.11      0.55458  27059.481007  3.695569e-07 -2.779509e-04   \n",
       "7262      27059.61      0.76618  27059.449983  3.695569e-07 -1.146489e-06   \n",
       "\n",
       "      volatility_t+1  \n",
       "0                NaN  \n",
       "1           0.000000  \n",
       "2           0.000069  \n",
       "3           0.000065  \n",
       "4           0.000060  \n",
       "...              ...  \n",
       "7258        0.000274  \n",
       "7259        0.000274  \n",
       "7260        0.000274  \n",
       "7261        0.000274  \n",
       "7262             NaN  \n",
       "\n",
       "[7263 rows x 15 columns]"
      ]
     },
     "execution_count": 47,
     "metadata": {},
     "output_type": "execute_result"
    }
   ],
   "source": [
    "df"
   ]
  },
  {
   "cell_type": "markdown",
   "id": "ab365494",
   "metadata": {
    "heading_collapsed": true
   },
   "source": [
    "# Deal with Missing Data"
   ]
  },
  {
   "cell_type": "code",
   "execution_count": 48,
   "id": "74027dd8",
   "metadata": {
    "hidden": true
   },
   "outputs": [
    {
     "data": {
      "text/plain": [
       "array([0.])"
      ]
     },
     "execution_count": 48,
     "metadata": {},
     "output_type": "execute_result"
    }
   ],
   "source": [
    "imputer = SimpleImputer(strategy=\"constant\", fill_value = 0) # Instantiate a SimpleImputer object with your strategy of choice\n",
    "\n",
    "imputer.fit(df[['volatility_t+1']]) # Call the \"fit\" method on the object\n",
    "\n",
    "df['volatility_t+1'] = imputer.transform(df[['volatility_t+1']]) # Call the \"transform\" method on the object\n",
    "\n",
    "imputer.statistics_ # The mean is stored in the transformer's memory"
   ]
  },
  {
   "cell_type": "code",
   "execution_count": 55,
   "id": "2de4c3aa",
   "metadata": {
    "hidden": true
   },
   "outputs": [
    {
     "data": {
      "text/plain": [
       "array([2.38511078e-09])"
      ]
     },
     "execution_count": 55,
     "metadata": {},
     "output_type": "execute_result"
    }
   ],
   "source": [
    "imputer2 = SimpleImputer(strategy=\"constant\", fill_value = df.iloc[1,13])\n",
    "\n",
    "imputer2.fit(df[['log_returns']]) # Call the \"fit\" method on the object\n",
    "\n",
    "df['log_returns'] = imputer2.transform(df[['log_returns']]) # Call the \"transform\" method on the object\n",
    "\n",
    "imputer2.statistics_ # The mean is stored in the transformer's memory"
   ]
  },
  {
   "cell_type": "code",
   "execution_count": 58,
   "id": "d8324144",
   "metadata": {
    "hidden": true
   },
   "outputs": [
    {
     "data": {
      "text/html": [
       "<div>\n",
       "<style scoped>\n",
       "    .dataframe tbody tr th:only-of-type {\n",
       "        vertical-align: middle;\n",
       "    }\n",
       "\n",
       "    .dataframe tbody tr th {\n",
       "        vertical-align: top;\n",
       "    }\n",
       "\n",
       "    .dataframe thead th {\n",
       "        text-align: right;\n",
       "    }\n",
       "</style>\n",
       "<table border=\"1\" class=\"dataframe\">\n",
       "  <thead>\n",
       "    <tr style=\"text-align: right;\">\n",
       "      <th></th>\n",
       "      <th>log_price</th>\n",
       "      <th>scrape_time</th>\n",
       "      <th>lastUpdateId</th>\n",
       "      <th>bids_price_01</th>\n",
       "      <th>bids_size_01</th>\n",
       "      <th>bids_price_02</th>\n",
       "      <th>bids_size_02</th>\n",
       "      <th>ask_price_01</th>\n",
       "      <th>ask_size_01</th>\n",
       "      <th>ask_price_02</th>\n",
       "      <th>ask_size_02</th>\n",
       "      <th>WAP</th>\n",
       "      <th>spread</th>\n",
       "      <th>log_returns</th>\n",
       "      <th>volatility_t+1</th>\n",
       "    </tr>\n",
       "  </thead>\n",
       "  <tbody>\n",
       "    <tr>\n",
       "      <th>0</th>\n",
       "      <td>10.236571</td>\n",
       "      <td>2023-03-27 10:30:36</td>\n",
       "      <td>17668615506</td>\n",
       "      <td>27905.28</td>\n",
       "      <td>12.59899</td>\n",
       "      <td>27904.92</td>\n",
       "      <td>0.01921</td>\n",
       "      <td>27905.29</td>\n",
       "      <td>1.58571</td>\n",
       "      <td>27905.30</td>\n",
       "      <td>1.02708</td>\n",
       "      <td>27905.281936</td>\n",
       "      <td>3.583551e-07</td>\n",
       "      <td>2.385111e-09</td>\n",
       "      <td>0.000000</td>\n",
       "    </tr>\n",
       "    <tr>\n",
       "      <th>1</th>\n",
       "      <td>10.236571</td>\n",
       "      <td>2023-03-27 10:30:41</td>\n",
       "      <td>17668615812</td>\n",
       "      <td>27905.28</td>\n",
       "      <td>13.05932</td>\n",
       "      <td>27905.15</td>\n",
       "      <td>0.00208</td>\n",
       "      <td>27905.29</td>\n",
       "      <td>3.29816</td>\n",
       "      <td>27905.30</td>\n",
       "      <td>0.00252</td>\n",
       "      <td>27905.282002</td>\n",
       "      <td>3.583551e-07</td>\n",
       "      <td>2.385111e-09</td>\n",
       "      <td>0.000000</td>\n",
       "    </tr>\n",
       "    <tr>\n",
       "      <th>2</th>\n",
       "      <td>10.236710</td>\n",
       "      <td>2023-03-27 10:30:45</td>\n",
       "      <td>17668616793</td>\n",
       "      <td>27909.14</td>\n",
       "      <td>10.13004</td>\n",
       "      <td>27909.03</td>\n",
       "      <td>0.09094</td>\n",
       "      <td>27909.15</td>\n",
       "      <td>5.28372</td>\n",
       "      <td>27909.94</td>\n",
       "      <td>0.09800</td>\n",
       "      <td>27909.147770</td>\n",
       "      <td>3.583056e-07</td>\n",
       "      <td>1.385222e-04</td>\n",
       "      <td>0.000069</td>\n",
       "    </tr>\n",
       "    <tr>\n",
       "      <th>3</th>\n",
       "      <td>10.236710</td>\n",
       "      <td>2023-03-27 10:30:50</td>\n",
       "      <td>17668617069</td>\n",
       "      <td>27909.14</td>\n",
       "      <td>9.63960</td>\n",
       "      <td>27909.03</td>\n",
       "      <td>0.09094</td>\n",
       "      <td>27909.15</td>\n",
       "      <td>5.83321</td>\n",
       "      <td>27909.16</td>\n",
       "      <td>0.00401</td>\n",
       "      <td>27909.143110</td>\n",
       "      <td>3.583056e-07</td>\n",
       "      <td>-1.669880e-07</td>\n",
       "      <td>0.000065</td>\n",
       "    </tr>\n",
       "    <tr>\n",
       "      <th>4</th>\n",
       "      <td>10.236710</td>\n",
       "      <td>2023-03-27 10:30:54</td>\n",
       "      <td>17668617292</td>\n",
       "      <td>27909.14</td>\n",
       "      <td>0.22453</td>\n",
       "      <td>27908.60</td>\n",
       "      <td>0.00559</td>\n",
       "      <td>27909.15</td>\n",
       "      <td>6.31910</td>\n",
       "      <td>27909.16</td>\n",
       "      <td>0.00401</td>\n",
       "      <td>27909.149194</td>\n",
       "      <td>3.583056e-07</td>\n",
       "      <td>2.180208e-07</td>\n",
       "      <td>0.000060</td>\n",
       "    </tr>\n",
       "  </tbody>\n",
       "</table>\n",
       "</div>"
      ],
      "text/plain": [
       "   log_price          scrape_time  lastUpdateId  bids_price_01  bids_size_01  \\\n",
       "0  10.236571  2023-03-27 10:30:36   17668615506       27905.28      12.59899   \n",
       "1  10.236571  2023-03-27 10:30:41   17668615812       27905.28      13.05932   \n",
       "2  10.236710  2023-03-27 10:30:45   17668616793       27909.14      10.13004   \n",
       "3  10.236710  2023-03-27 10:30:50   17668617069       27909.14       9.63960   \n",
       "4  10.236710  2023-03-27 10:30:54   17668617292       27909.14       0.22453   \n",
       "\n",
       "   bids_price_02  bids_size_02  ask_price_01  ask_size_01  ask_price_02  \\\n",
       "0       27904.92       0.01921      27905.29      1.58571      27905.30   \n",
       "1       27905.15       0.00208      27905.29      3.29816      27905.30   \n",
       "2       27909.03       0.09094      27909.15      5.28372      27909.94   \n",
       "3       27909.03       0.09094      27909.15      5.83321      27909.16   \n",
       "4       27908.60       0.00559      27909.15      6.31910      27909.16   \n",
       "\n",
       "   ask_size_02           WAP        spread   log_returns  volatility_t+1  \n",
       "0      1.02708  27905.281936  3.583551e-07  2.385111e-09        0.000000  \n",
       "1      0.00252  27905.282002  3.583551e-07  2.385111e-09        0.000000  \n",
       "2      0.09800  27909.147770  3.583056e-07  1.385222e-04        0.000069  \n",
       "3      0.00401  27909.143110  3.583056e-07 -1.669880e-07        0.000065  \n",
       "4      0.00401  27909.149194  3.583056e-07  2.180208e-07        0.000060  "
      ]
     },
     "execution_count": 58,
     "metadata": {},
     "output_type": "execute_result"
    }
   ],
   "source": [
    "df.head()"
   ]
  },
  {
   "cell_type": "code",
   "execution_count": 61,
   "id": "2f6741da",
   "metadata": {
    "hidden": true
   },
   "outputs": [
    {
     "data": {
      "text/plain": [
       "Index(['log_price', 'scrape_time', 'lastUpdateId', 'bids_price_01',\n",
       "       'bids_size_01', 'bids_price_02', 'bids_size_02', 'ask_price_01',\n",
       "       'ask_size_01', 'ask_price_02', 'ask_size_02', 'WAP', 'spread',\n",
       "       'log_returns', 'volatility_t+1'],\n",
       "      dtype='object')"
      ]
     },
     "execution_count": 61,
     "metadata": {},
     "output_type": "execute_result"
    }
   ],
   "source": [
    "df.columns"
   ]
  },
  {
   "cell_type": "code",
   "execution_count": 63,
   "id": "7840076c",
   "metadata": {
    "hidden": true
   },
   "outputs": [],
   "source": [
    "## bid depth, ask depth, Order Flow Imbalance (OFI) can not be executed properly due to size limitation"
   ]
  },
  {
   "cell_type": "code",
   "execution_count": 65,
   "id": "2cbcdb05",
   "metadata": {
    "hidden": true
   },
   "outputs": [],
   "source": [
    "#sum of all bid quantities\n",
    "df['bid depth'] = data[[\"bids_size_01\", \"bids_size_02\"]].sum(axis=1)\n",
    "\n",
    "#sum of all ask quantities\n",
    "df['ask depth'] = data[[\"ask_size_01\", \"ask_size_02\"]].sum(axis=1)"
   ]
  },
  {
   "cell_type": "code",
   "execution_count": 67,
   "id": "5dadc6f4",
   "metadata": {
    "hidden": true
   },
   "outputs": [],
   "source": [
    "#Order Flow Imbalance (OFI) \n",
    "#relative quantities of bids vs asks\n",
    "#full depth (approx 20 levels) OFI\n",
    "df['FDOFI'] = (df['bid depth']-df['ask depth'])/(df['bid depth']+df['ask depth'])"
   ]
  },
  {
   "cell_type": "code",
   "execution_count": 69,
   "id": "33a25b57",
   "metadata": {
    "hidden": true
   },
   "outputs": [],
   "source": [
    "df = df.set_index('scrape_time')"
   ]
  },
  {
   "cell_type": "code",
   "execution_count": 352,
   "id": "ae6e8ab4",
   "metadata": {
    "hidden": true,
    "scrolled": false
   },
   "outputs": [
    {
     "data": {
      "text/html": [
       "<div>\n",
       "<style scoped>\n",
       "    .dataframe tbody tr th:only-of-type {\n",
       "        vertical-align: middle;\n",
       "    }\n",
       "\n",
       "    .dataframe tbody tr th {\n",
       "        vertical-align: top;\n",
       "    }\n",
       "\n",
       "    .dataframe thead th {\n",
       "        text-align: right;\n",
       "    }\n",
       "</style>\n",
       "<table border=\"1\" class=\"dataframe\">\n",
       "  <thead>\n",
       "    <tr style=\"text-align: right;\">\n",
       "      <th></th>\n",
       "      <th>log_price</th>\n",
       "      <th>lastUpdateId</th>\n",
       "      <th>bids_price_01</th>\n",
       "      <th>bids_size_01</th>\n",
       "      <th>bids_price_02</th>\n",
       "      <th>bids_size_02</th>\n",
       "      <th>ask_price_01</th>\n",
       "      <th>ask_size_01</th>\n",
       "      <th>ask_price_02</th>\n",
       "      <th>ask_size_02</th>\n",
       "      <th>WAP</th>\n",
       "      <th>spread</th>\n",
       "      <th>log_returns</th>\n",
       "      <th>volatility_t+1</th>\n",
       "      <th>bid depth</th>\n",
       "      <th>ask depth</th>\n",
       "      <th>FDOFI</th>\n",
       "      <th>realized_volatility</th>\n",
       "    </tr>\n",
       "    <tr>\n",
       "      <th>scrape_time</th>\n",
       "      <th></th>\n",
       "      <th></th>\n",
       "      <th></th>\n",
       "      <th></th>\n",
       "      <th></th>\n",
       "      <th></th>\n",
       "      <th></th>\n",
       "      <th></th>\n",
       "      <th></th>\n",
       "      <th></th>\n",
       "      <th></th>\n",
       "      <th></th>\n",
       "      <th></th>\n",
       "      <th></th>\n",
       "      <th></th>\n",
       "      <th></th>\n",
       "      <th></th>\n",
       "      <th></th>\n",
       "    </tr>\n",
       "  </thead>\n",
       "  <tbody>\n",
       "    <tr>\n",
       "      <th>2023-03-27 10:30:36</th>\n",
       "      <td>0.927579</td>\n",
       "      <td>0.000000</td>\n",
       "      <td>0.925868</td>\n",
       "      <td>0.309343</td>\n",
       "      <td>0.925703</td>\n",
       "      <td>0.002270</td>\n",
       "      <td>0.925721</td>\n",
       "      <td>0.104673</td>\n",
       "      <td>0.925721</td>\n",
       "      <td>0.051879</td>\n",
       "      <td>0.925789</td>\n",
       "      <td>0.000004</td>\n",
       "      <td>0.514758</td>\n",
       "      <td>0.000000</td>\n",
       "      <td>0.309788</td>\n",
       "      <td>0.106035</td>\n",
       "      <td>0.828490</td>\n",
       "      <td>0.000000</td>\n",
       "    </tr>\n",
       "    <tr>\n",
       "      <th>2023-03-27 10:30:41</th>\n",
       "      <td>0.927579</td>\n",
       "      <td>0.000044</td>\n",
       "      <td>0.925868</td>\n",
       "      <td>0.320645</td>\n",
       "      <td>0.925862</td>\n",
       "      <td>0.000245</td>\n",
       "      <td>0.925721</td>\n",
       "      <td>0.217712</td>\n",
       "      <td>0.925721</td>\n",
       "      <td>0.000127</td>\n",
       "      <td>0.925789</td>\n",
       "      <td>0.000004</td>\n",
       "      <td>0.514758</td>\n",
       "      <td>0.000000</td>\n",
       "      <td>0.320670</td>\n",
       "      <td>0.133956</td>\n",
       "      <td>0.798303</td>\n",
       "      <td>0.000000</td>\n",
       "    </tr>\n",
       "    <tr>\n",
       "      <th>2023-03-27 10:30:45</th>\n",
       "      <td>0.930197</td>\n",
       "      <td>0.000184</td>\n",
       "      <td>0.928539</td>\n",
       "      <td>0.248722</td>\n",
       "      <td>0.928547</td>\n",
       "      <td>0.010752</td>\n",
       "      <td>0.928397</td>\n",
       "      <td>0.348780</td>\n",
       "      <td>0.928938</td>\n",
       "      <td>0.004950</td>\n",
       "      <td>0.928466</td>\n",
       "      <td>0.000004</td>\n",
       "      <td>0.537461</td>\n",
       "      <td>0.219483</td>\n",
       "      <td>0.250933</td>\n",
       "      <td>0.218423</td>\n",
       "      <td>0.655094</td>\n",
       "      <td>0.000000</td>\n",
       "    </tr>\n",
       "    <tr>\n",
       "      <th>2023-03-27 10:30:50</th>\n",
       "      <td>0.930194</td>\n",
       "      <td>0.000224</td>\n",
       "      <td>0.928539</td>\n",
       "      <td>0.236681</td>\n",
       "      <td>0.928547</td>\n",
       "      <td>0.010752</td>\n",
       "      <td>0.928397</td>\n",
       "      <td>0.385052</td>\n",
       "      <td>0.928397</td>\n",
       "      <td>0.000202</td>\n",
       "      <td>0.928463</td>\n",
       "      <td>0.000004</td>\n",
       "      <td>0.514730</td>\n",
       "      <td>0.207057</td>\n",
       "      <td>0.238891</td>\n",
       "      <td>0.236911</td>\n",
       "      <td>0.625058</td>\n",
       "      <td>0.000069</td>\n",
       "    </tr>\n",
       "    <tr>\n",
       "      <th>2023-03-27 10:30:54</th>\n",
       "      <td>0.930198</td>\n",
       "      <td>0.000256</td>\n",
       "      <td>0.928539</td>\n",
       "      <td>0.005513</td>\n",
       "      <td>0.928249</td>\n",
       "      <td>0.000660</td>\n",
       "      <td>0.928397</td>\n",
       "      <td>0.417126</td>\n",
       "      <td>0.928397</td>\n",
       "      <td>0.000202</td>\n",
       "      <td>0.928467</td>\n",
       "      <td>0.000004</td>\n",
       "      <td>0.514793</td>\n",
       "      <td>0.190057</td>\n",
       "      <td>0.005640</td>\n",
       "      <td>0.256633</td>\n",
       "      <td>0.035071</td>\n",
       "      <td>0.000065</td>\n",
       "    </tr>\n",
       "  </tbody>\n",
       "</table>\n",
       "</div>"
      ],
      "text/plain": [
       "                     log_price  lastUpdateId  bids_price_01  bids_size_01  \\\n",
       "scrape_time                                                                 \n",
       "2023-03-27 10:30:36   0.927579      0.000000       0.925868      0.309343   \n",
       "2023-03-27 10:30:41   0.927579      0.000044       0.925868      0.320645   \n",
       "2023-03-27 10:30:45   0.930197      0.000184       0.928539      0.248722   \n",
       "2023-03-27 10:30:50   0.930194      0.000224       0.928539      0.236681   \n",
       "2023-03-27 10:30:54   0.930198      0.000256       0.928539      0.005513   \n",
       "\n",
       "                     bids_price_02  bids_size_02  ask_price_01  ask_size_01  \\\n",
       "scrape_time                                                                   \n",
       "2023-03-27 10:30:36       0.925703      0.002270      0.925721     0.104673   \n",
       "2023-03-27 10:30:41       0.925862      0.000245      0.925721     0.217712   \n",
       "2023-03-27 10:30:45       0.928547      0.010752      0.928397     0.348780   \n",
       "2023-03-27 10:30:50       0.928547      0.010752      0.928397     0.385052   \n",
       "2023-03-27 10:30:54       0.928249      0.000660      0.928397     0.417126   \n",
       "\n",
       "                     ask_price_02  ask_size_02       WAP    spread  \\\n",
       "scrape_time                                                          \n",
       "2023-03-27 10:30:36      0.925721     0.051879  0.925789  0.000004   \n",
       "2023-03-27 10:30:41      0.925721     0.000127  0.925789  0.000004   \n",
       "2023-03-27 10:30:45      0.928938     0.004950  0.928466  0.000004   \n",
       "2023-03-27 10:30:50      0.928397     0.000202  0.928463  0.000004   \n",
       "2023-03-27 10:30:54      0.928397     0.000202  0.928467  0.000004   \n",
       "\n",
       "                     log_returns  volatility_t+1  bid depth  ask depth  \\\n",
       "scrape_time                                                              \n",
       "2023-03-27 10:30:36     0.514758        0.000000   0.309788   0.106035   \n",
       "2023-03-27 10:30:41     0.514758        0.000000   0.320670   0.133956   \n",
       "2023-03-27 10:30:45     0.537461        0.219483   0.250933   0.218423   \n",
       "2023-03-27 10:30:50     0.514730        0.207057   0.238891   0.236911   \n",
       "2023-03-27 10:30:54     0.514793        0.190057   0.005640   0.256633   \n",
       "\n",
       "                        FDOFI  realized_volatility  \n",
       "scrape_time                                         \n",
       "2023-03-27 10:30:36  0.828490             0.000000  \n",
       "2023-03-27 10:30:41  0.798303             0.000000  \n",
       "2023-03-27 10:30:45  0.655094             0.000000  \n",
       "2023-03-27 10:30:50  0.625058             0.000069  \n",
       "2023-03-27 10:30:54  0.035071             0.000065  "
      ]
     },
     "execution_count": 352,
     "metadata": {},
     "output_type": "execute_result"
    }
   ],
   "source": [
    "df.head()"
   ]
  },
  {
   "cell_type": "code",
   "execution_count": 128,
   "id": "f19c7a0d",
   "metadata": {
    "hidden": true
   },
   "outputs": [
    {
     "data": {
      "text/plain": [
       "array([0.])"
      ]
     },
     "execution_count": 128,
     "metadata": {},
     "output_type": "execute_result"
    }
   ],
   "source": [
    "imputer3 = SimpleImputer(strategy=\"constant\", fill_value = 0) # Instantiate a SimpleImputer object with your strategy of choice\n",
    "\n",
    "imputer3.fit(y[['realized_volatility']]) # Call the \"fit\" method on the object\n",
    "\n",
    "y['realized_volatility'] = imputer3.transform(y[['realized_volatility']]) # Call the \"transform\" method on the object\n",
    "\n",
    "imputer3.statistics_ # The mean is stored in the transformer's memory"
   ]
  },
  {
   "cell_type": "code",
   "execution_count": 129,
   "id": "3d8fef5e",
   "metadata": {
    "hidden": true
   },
   "outputs": [
    {
     "data": {
      "text/html": [
       "<div>\n",
       "<style scoped>\n",
       "    .dataframe tbody tr th:only-of-type {\n",
       "        vertical-align: middle;\n",
       "    }\n",
       "\n",
       "    .dataframe tbody tr th {\n",
       "        vertical-align: top;\n",
       "    }\n",
       "\n",
       "    .dataframe thead th {\n",
       "        text-align: right;\n",
       "    }\n",
       "</style>\n",
       "<table border=\"1\" class=\"dataframe\">\n",
       "  <thead>\n",
       "    <tr style=\"text-align: right;\">\n",
       "      <th></th>\n",
       "      <th>realized_volatility</th>\n",
       "    </tr>\n",
       "  </thead>\n",
       "  <tbody>\n",
       "    <tr>\n",
       "      <th>0</th>\n",
       "      <td>0.000000</td>\n",
       "    </tr>\n",
       "    <tr>\n",
       "      <th>1</th>\n",
       "      <td>0.000000</td>\n",
       "    </tr>\n",
       "    <tr>\n",
       "      <th>2</th>\n",
       "      <td>0.000000</td>\n",
       "    </tr>\n",
       "    <tr>\n",
       "      <th>3</th>\n",
       "      <td>0.000069</td>\n",
       "    </tr>\n",
       "    <tr>\n",
       "      <th>4</th>\n",
       "      <td>0.000065</td>\n",
       "    </tr>\n",
       "    <tr>\n",
       "      <th>...</th>\n",
       "      <td>...</td>\n",
       "    </tr>\n",
       "    <tr>\n",
       "      <th>7258</th>\n",
       "      <td>0.000274</td>\n",
       "    </tr>\n",
       "    <tr>\n",
       "      <th>7259</th>\n",
       "      <td>0.000274</td>\n",
       "    </tr>\n",
       "    <tr>\n",
       "      <th>7260</th>\n",
       "      <td>0.000274</td>\n",
       "    </tr>\n",
       "    <tr>\n",
       "      <th>7261</th>\n",
       "      <td>0.000274</td>\n",
       "    </tr>\n",
       "    <tr>\n",
       "      <th>7262</th>\n",
       "      <td>0.000274</td>\n",
       "    </tr>\n",
       "  </tbody>\n",
       "</table>\n",
       "<p>7263 rows × 1 columns</p>\n",
       "</div>"
      ],
      "text/plain": [
       "      realized_volatility\n",
       "0                0.000000\n",
       "1                0.000000\n",
       "2                0.000000\n",
       "3                0.000069\n",
       "4                0.000065\n",
       "...                   ...\n",
       "7258             0.000274\n",
       "7259             0.000274\n",
       "7260             0.000274\n",
       "7261             0.000274\n",
       "7262             0.000274\n",
       "\n",
       "[7263 rows x 1 columns]"
      ]
     },
     "execution_count": 129,
     "metadata": {},
     "output_type": "execute_result"
    }
   ],
   "source": [
    "y"
   ]
  },
  {
   "cell_type": "code",
   "execution_count": null,
   "id": "d6601dad",
   "metadata": {
    "hidden": true
   },
   "outputs": [],
   "source": [
    "imputer = SimpleImputer(strategy=\"constant\", fill_value = 0) # Instantiate a SimpleImputer object with your strategy of choice\n",
    "\n",
    "imputer.fit(df[['volatility_t+1']]) # Call the \"fit\" method on the object\n",
    "\n",
    "df['volatility_t+1'] = imputer.transform(df[['volatility_t+1']]) # Call the \"transform\" method on the object\n",
    "\n",
    "imputer.statistics_ # The mean is stored in the transformer's memory"
   ]
  },
  {
   "cell_type": "markdown",
   "id": "d6e83125",
   "metadata": {},
   "source": [
    "# Plotting to visualize the features"
   ]
  },
  {
   "cell_type": "code",
   "execution_count": 81,
   "id": "f788bc6a",
   "metadata": {},
   "outputs": [
    {
     "data": {
      "image/png": "[encoded data removed]",
      "text/plain": [
       "<Figure size 640x480 with 1 Axes>"
      ]
     },
     "metadata": {},
     "output_type": "display_data"
    }
   ],
   "source": [
    "data[['log_price']].boxplot();\n",
    "plt.show()"
   ]
  },
  {
   "cell_type": "code",
   "execution_count": 83,
   "id": "bea7ca1c",
   "metadata": {},
   "outputs": [
    {
     "data": {
      "image/png": "[encoded data removed]",
      "text/plain": [
       "<Figure size 640x480 with 1 Axes>"
      ]
     },
     "metadata": {},
     "output_type": "display_data"
    }
   ],
   "source": [
    "data[['WAP']].boxplot();\n",
    "plt.show()"
   ]
  },
  {
   "cell_type": "code",
   "execution_count": 84,
   "id": "f5e24441",
   "metadata": {},
   "outputs": [
    {
     "data": {
      "image/png": "[encoded data removed]",
      "text/plain": [
       "<Figure size 640x480 with 1 Axes>"
      ]
     },
     "metadata": {},
     "output_type": "display_data"
    }
   ],
   "source": [
    "data[['spread']].boxplot();\n",
    "plt.show()"
   ]
  },
  {
   "cell_type": "code",
   "execution_count": 89,
   "id": "94de6745",
   "metadata": {},
   "outputs": [
    {
     "data": {
      "image/png": "[encoded data removed]",
      "text/plain": [
       "<Figure size 640x480 with 1 Axes>"
      ]
     },
     "metadata": {},
     "output_type": "display_data"
    }
   ],
   "source": [
    "data[['log_returns']].boxplot();\n",
    "plt.show()"
   ]
  },
  {
   "cell_type": "code",
   "execution_count": 90,
   "id": "ce79598b",
   "metadata": {},
   "outputs": [
    {
     "data": {
      "image/png": "[encoded data removed]",
      "text/plain": [
       "<Figure size 640x480 with 1 Axes>"
      ]
     },
     "metadata": {},
     "output_type": "display_data"
    }
   ],
   "source": [
    "data[['volatility_t+1']].boxplot();\n",
    "plt.show()"
   ]
  },
  {
   "cell_type": "code",
   "execution_count": 107,
   "id": "a6492055",
   "metadata": {},
   "outputs": [
    {
     "data": {
      "image/png": "[encoded data removed]",
      "text/plain": [
       "<Figure size 1850x1050 with 5 Axes>"
      ]
     },
     "metadata": {},
     "output_type": "display_data"
    }
   ],
   "source": [
    "## All in one \n",
    "plt.subplot(2, 3, 1)\n",
    "data[['volatility_t+1']].boxplot()\n",
    "\n",
    "plt.subplot(2, 3, 2)\n",
    "data[['spread']].boxplot()\n",
    "\n",
    "plt.subplot(2, 3, 3)\n",
    "data[['log_returns']].boxplot()\n",
    "\n",
    "plt.subplot(2, 3, 4)\n",
    "data[['WAP']].boxplot()\n",
    "\n",
    "plt.subplot(2, 3, 5)\n",
    "data[['log_price']].boxplot()\n",
    "\n",
    "# x = np.array([0, 1, 2, 3])\n",
    "# y = np.array([10, 20, 30, 40])\n",
    "\n",
    "# plt.subplot(2, 3, 6)\n",
    "# plt.plot(x,y)\n",
    "\n",
    "fig = plt.gcf()\n",
    "fig.set_size_inches(18.5, 10.5)\n",
    "# figure(figsize=(150, 150), dpi=300)\n",
    "\n",
    "plt.show()"
   ]
  },
  {
   "cell_type": "markdown",
   "id": "0d78ce39",
   "metadata": {},
   "source": [
    "# Scaling Data"
   ]
  },
  {
   "cell_type": "code",
   "execution_count": 108,
   "id": "ab55710e",
   "metadata": {},
   "outputs": [
    {
     "data": {
      "text/html": [
       "<div>\n",
       "<style scoped>\n",
       "    .dataframe tbody tr th:only-of-type {\n",
       "        vertical-align: middle;\n",
       "    }\n",
       "\n",
       "    .dataframe tbody tr th {\n",
       "        vertical-align: top;\n",
       "    }\n",
       "\n",
       "    .dataframe thead th {\n",
       "        text-align: right;\n",
       "    }\n",
       "</style>\n",
       "<table border=\"1\" class=\"dataframe\">\n",
       "  <thead>\n",
       "    <tr style=\"text-align: right;\">\n",
       "      <th></th>\n",
       "      <th>log_price</th>\n",
       "      <th>lastUpdateId</th>\n",
       "      <th>bids_price_01</th>\n",
       "      <th>bids_size_01</th>\n",
       "      <th>bids_price_02</th>\n",
       "      <th>bids_size_02</th>\n",
       "      <th>ask_price_01</th>\n",
       "      <th>ask_size_01</th>\n",
       "      <th>ask_price_02</th>\n",
       "      <th>ask_size_02</th>\n",
       "      <th>WAP</th>\n",
       "      <th>spread</th>\n",
       "      <th>log_returns</th>\n",
       "      <th>volatility_t+1</th>\n",
       "      <th>bid depth</th>\n",
       "      <th>ask depth</th>\n",
       "      <th>FDOFI</th>\n",
       "    </tr>\n",
       "    <tr>\n",
       "      <th>scrape_time</th>\n",
       "      <th></th>\n",
       "      <th></th>\n",
       "      <th></th>\n",
       "      <th></th>\n",
       "      <th></th>\n",
       "      <th></th>\n",
       "      <th></th>\n",
       "      <th></th>\n",
       "      <th></th>\n",
       "      <th></th>\n",
       "      <th></th>\n",
       "      <th></th>\n",
       "      <th></th>\n",
       "      <th></th>\n",
       "      <th></th>\n",
       "      <th></th>\n",
       "      <th></th>\n",
       "    </tr>\n",
       "  </thead>\n",
       "  <tbody>\n",
       "    <tr>\n",
       "      <th>2023-03-27 10:30:36</th>\n",
       "      <td>10.236571</td>\n",
       "      <td>17668615506</td>\n",
       "      <td>27905.28</td>\n",
       "      <td>12.59899</td>\n",
       "      <td>27904.92</td>\n",
       "      <td>0.01921</td>\n",
       "      <td>27905.29</td>\n",
       "      <td>1.58571</td>\n",
       "      <td>27905.30</td>\n",
       "      <td>1.02708</td>\n",
       "      <td>27905.281936</td>\n",
       "      <td>3.583551e-07</td>\n",
       "      <td>2.385111e-09</td>\n",
       "      <td>0.000000</td>\n",
       "      <td>12.61820</td>\n",
       "      <td>2.61279</td>\n",
       "      <td>0.656911</td>\n",
       "    </tr>\n",
       "    <tr>\n",
       "      <th>2023-03-27 10:30:41</th>\n",
       "      <td>10.236571</td>\n",
       "      <td>17668615812</td>\n",
       "      <td>27905.28</td>\n",
       "      <td>13.05932</td>\n",
       "      <td>27905.15</td>\n",
       "      <td>0.00208</td>\n",
       "      <td>27905.29</td>\n",
       "      <td>3.29816</td>\n",
       "      <td>27905.30</td>\n",
       "      <td>0.00252</td>\n",
       "      <td>27905.282002</td>\n",
       "      <td>3.583551e-07</td>\n",
       "      <td>2.385111e-09</td>\n",
       "      <td>0.000000</td>\n",
       "      <td>13.06140</td>\n",
       "      <td>3.30068</td>\n",
       "      <td>0.596545</td>\n",
       "    </tr>\n",
       "    <tr>\n",
       "      <th>2023-03-27 10:30:45</th>\n",
       "      <td>10.236710</td>\n",
       "      <td>17668616793</td>\n",
       "      <td>27909.14</td>\n",
       "      <td>10.13004</td>\n",
       "      <td>27909.03</td>\n",
       "      <td>0.09094</td>\n",
       "      <td>27909.15</td>\n",
       "      <td>5.28372</td>\n",
       "      <td>27909.94</td>\n",
       "      <td>0.09800</td>\n",
       "      <td>27909.147770</td>\n",
       "      <td>3.583056e-07</td>\n",
       "      <td>1.385222e-04</td>\n",
       "      <td>0.000069</td>\n",
       "      <td>10.22098</td>\n",
       "      <td>5.38172</td>\n",
       "      <td>0.310155</td>\n",
       "    </tr>\n",
       "    <tr>\n",
       "      <th>2023-03-27 10:30:50</th>\n",
       "      <td>10.236710</td>\n",
       "      <td>17668617069</td>\n",
       "      <td>27909.14</td>\n",
       "      <td>9.63960</td>\n",
       "      <td>27909.03</td>\n",
       "      <td>0.09094</td>\n",
       "      <td>27909.15</td>\n",
       "      <td>5.83321</td>\n",
       "      <td>27909.16</td>\n",
       "      <td>0.00401</td>\n",
       "      <td>27909.143110</td>\n",
       "      <td>3.583056e-07</td>\n",
       "      <td>-1.669880e-07</td>\n",
       "      <td>0.000065</td>\n",
       "      <td>9.73054</td>\n",
       "      <td>5.83722</td>\n",
       "      <td>0.250089</td>\n",
       "    </tr>\n",
       "    <tr>\n",
       "      <th>2023-03-27 10:30:54</th>\n",
       "      <td>10.236710</td>\n",
       "      <td>17668617292</td>\n",
       "      <td>27909.14</td>\n",
       "      <td>0.22453</td>\n",
       "      <td>27908.60</td>\n",
       "      <td>0.00559</td>\n",
       "      <td>27909.15</td>\n",
       "      <td>6.31910</td>\n",
       "      <td>27909.16</td>\n",
       "      <td>0.00401</td>\n",
       "      <td>27909.149194</td>\n",
       "      <td>3.583056e-07</td>\n",
       "      <td>2.180208e-07</td>\n",
       "      <td>0.000060</td>\n",
       "      <td>0.23012</td>\n",
       "      <td>6.32311</td>\n",
       "      <td>-0.929769</td>\n",
       "    </tr>\n",
       "  </tbody>\n",
       "</table>\n",
       "</div>"
      ],
      "text/plain": [
       "                     log_price  lastUpdateId  bids_price_01  bids_size_01  \\\n",
       "scrape_time                                                                 \n",
       "2023-03-27 10:30:36  10.236571   17668615506       27905.28      12.59899   \n",
       "2023-03-27 10:30:41  10.236571   17668615812       27905.28      13.05932   \n",
       "2023-03-27 10:30:45  10.236710   17668616793       27909.14      10.13004   \n",
       "2023-03-27 10:30:50  10.236710   17668617069       27909.14       9.63960   \n",
       "2023-03-27 10:30:54  10.236710   17668617292       27909.14       0.22453   \n",
       "\n",
       "                     bids_price_02  bids_size_02  ask_price_01  ask_size_01  \\\n",
       "scrape_time                                                                   \n",
       "2023-03-27 10:30:36       27904.92       0.01921      27905.29      1.58571   \n",
       "2023-03-27 10:30:41       27905.15       0.00208      27905.29      3.29816   \n",
       "2023-03-27 10:30:45       27909.03       0.09094      27909.15      5.28372   \n",
       "2023-03-27 10:30:50       27909.03       0.09094      27909.15      5.83321   \n",
       "2023-03-27 10:30:54       27908.60       0.00559      27909.15      6.31910   \n",
       "\n",
       "                     ask_price_02  ask_size_02           WAP        spread  \\\n",
       "scrape_time                                                                  \n",
       "2023-03-27 10:30:36      27905.30      1.02708  27905.281936  3.583551e-07   \n",
       "2023-03-27 10:30:41      27905.30      0.00252  27905.282002  3.583551e-07   \n",
       "2023-03-27 10:30:45      27909.94      0.09800  27909.147770  3.583056e-07   \n",
       "2023-03-27 10:30:50      27909.16      0.00401  27909.143110  3.583056e-07   \n",
       "2023-03-27 10:30:54      27909.16      0.00401  27909.149194  3.583056e-07   \n",
       "\n",
       "                      log_returns  volatility_t+1  bid depth  ask depth  \\\n",
       "scrape_time                                                               \n",
       "2023-03-27 10:30:36  2.385111e-09        0.000000   12.61820    2.61279   \n",
       "2023-03-27 10:30:41  2.385111e-09        0.000000   13.06140    3.30068   \n",
       "2023-03-27 10:30:45  1.385222e-04        0.000069   10.22098    5.38172   \n",
       "2023-03-27 10:30:50 -1.669880e-07        0.000065    9.73054    5.83722   \n",
       "2023-03-27 10:30:54  2.180208e-07        0.000060    0.23012    6.32311   \n",
       "\n",
       "                        FDOFI  \n",
       "scrape_time                    \n",
       "2023-03-27 10:30:36  0.656911  \n",
       "2023-03-27 10:30:41  0.596545  \n",
       "2023-03-27 10:30:45  0.310155  \n",
       "2023-03-27 10:30:50  0.250089  \n",
       "2023-03-27 10:30:54 -0.929769  "
      ]
     },
     "execution_count": 108,
     "metadata": {},
     "output_type": "execute_result"
    }
   ],
   "source": [
    "df.head()"
   ]
  },
  {
   "cell_type": "code",
   "execution_count": 113,
   "id": "7ac2b20d",
   "metadata": {},
   "outputs": [
    {
     "data": {
      "text/html": [
       "<div>\n",
       "<style scoped>\n",
       "    .dataframe tbody tr th:only-of-type {\n",
       "        vertical-align: middle;\n",
       "    }\n",
       "\n",
       "    .dataframe tbody tr th {\n",
       "        vertical-align: top;\n",
       "    }\n",
       "\n",
       "    .dataframe thead th {\n",
       "        text-align: right;\n",
       "    }\n",
       "</style>\n",
       "<table border=\"1\" class=\"dataframe\">\n",
       "  <thead>\n",
       "    <tr style=\"text-align: right;\">\n",
       "      <th></th>\n",
       "      <th>log_price</th>\n",
       "      <th>lastUpdateId</th>\n",
       "      <th>bids_price_01</th>\n",
       "      <th>bids_size_01</th>\n",
       "      <th>bids_price_02</th>\n",
       "      <th>bids_size_02</th>\n",
       "      <th>ask_price_01</th>\n",
       "      <th>ask_size_01</th>\n",
       "      <th>ask_price_02</th>\n",
       "      <th>ask_size_02</th>\n",
       "      <th>WAP</th>\n",
       "      <th>spread</th>\n",
       "      <th>log_returns</th>\n",
       "      <th>volatility_t+1</th>\n",
       "      <th>bid depth</th>\n",
       "      <th>ask depth</th>\n",
       "      <th>FDOFI</th>\n",
       "    </tr>\n",
       "    <tr>\n",
       "      <th>scrape_time</th>\n",
       "      <th></th>\n",
       "      <th></th>\n",
       "      <th></th>\n",
       "      <th></th>\n",
       "      <th></th>\n",
       "      <th></th>\n",
       "      <th></th>\n",
       "      <th></th>\n",
       "      <th></th>\n",
       "      <th></th>\n",
       "      <th></th>\n",
       "      <th></th>\n",
       "      <th></th>\n",
       "      <th></th>\n",
       "      <th></th>\n",
       "      <th></th>\n",
       "      <th></th>\n",
       "    </tr>\n",
       "  </thead>\n",
       "  <tbody>\n",
       "    <tr>\n",
       "      <th>2023-03-27 10:30:36</th>\n",
       "      <td>0.927579</td>\n",
       "      <td>0.000000</td>\n",
       "      <td>0.925868</td>\n",
       "      <td>0.309343</td>\n",
       "      <td>0.925703</td>\n",
       "      <td>0.002270</td>\n",
       "      <td>0.925721</td>\n",
       "      <td>0.104673</td>\n",
       "      <td>0.925721</td>\n",
       "      <td>0.051879</td>\n",
       "      <td>0.925789</td>\n",
       "      <td>0.000004</td>\n",
       "      <td>0.514758</td>\n",
       "      <td>0.000000</td>\n",
       "      <td>0.309788</td>\n",
       "      <td>0.106035</td>\n",
       "      <td>0.828490</td>\n",
       "    </tr>\n",
       "    <tr>\n",
       "      <th>2023-03-27 10:30:41</th>\n",
       "      <td>0.927579</td>\n",
       "      <td>0.000044</td>\n",
       "      <td>0.925868</td>\n",
       "      <td>0.320645</td>\n",
       "      <td>0.925862</td>\n",
       "      <td>0.000245</td>\n",
       "      <td>0.925721</td>\n",
       "      <td>0.217712</td>\n",
       "      <td>0.925721</td>\n",
       "      <td>0.000127</td>\n",
       "      <td>0.925789</td>\n",
       "      <td>0.000004</td>\n",
       "      <td>0.514758</td>\n",
       "      <td>0.000000</td>\n",
       "      <td>0.320670</td>\n",
       "      <td>0.133956</td>\n",
       "      <td>0.798303</td>\n",
       "    </tr>\n",
       "    <tr>\n",
       "      <th>2023-03-27 10:30:45</th>\n",
       "      <td>0.930197</td>\n",
       "      <td>0.000184</td>\n",
       "      <td>0.928539</td>\n",
       "      <td>0.248722</td>\n",
       "      <td>0.928547</td>\n",
       "      <td>0.010752</td>\n",
       "      <td>0.928397</td>\n",
       "      <td>0.348780</td>\n",
       "      <td>0.928938</td>\n",
       "      <td>0.004950</td>\n",
       "      <td>0.928466</td>\n",
       "      <td>0.000004</td>\n",
       "      <td>0.537461</td>\n",
       "      <td>0.219483</td>\n",
       "      <td>0.250933</td>\n",
       "      <td>0.218423</td>\n",
       "      <td>0.655094</td>\n",
       "    </tr>\n",
       "    <tr>\n",
       "      <th>2023-03-27 10:30:50</th>\n",
       "      <td>0.930194</td>\n",
       "      <td>0.000224</td>\n",
       "      <td>0.928539</td>\n",
       "      <td>0.236681</td>\n",
       "      <td>0.928547</td>\n",
       "      <td>0.010752</td>\n",
       "      <td>0.928397</td>\n",
       "      <td>0.385052</td>\n",
       "      <td>0.928397</td>\n",
       "      <td>0.000202</td>\n",
       "      <td>0.928463</td>\n",
       "      <td>0.000004</td>\n",
       "      <td>0.514730</td>\n",
       "      <td>0.207057</td>\n",
       "      <td>0.238891</td>\n",
       "      <td>0.236911</td>\n",
       "      <td>0.625058</td>\n",
       "    </tr>\n",
       "    <tr>\n",
       "      <th>2023-03-27 10:30:54</th>\n",
       "      <td>0.930198</td>\n",
       "      <td>0.000256</td>\n",
       "      <td>0.928539</td>\n",
       "      <td>0.005513</td>\n",
       "      <td>0.928249</td>\n",
       "      <td>0.000660</td>\n",
       "      <td>0.928397</td>\n",
       "      <td>0.417126</td>\n",
       "      <td>0.928397</td>\n",
       "      <td>0.000202</td>\n",
       "      <td>0.928467</td>\n",
       "      <td>0.000004</td>\n",
       "      <td>0.514793</td>\n",
       "      <td>0.190057</td>\n",
       "      <td>0.005640</td>\n",
       "      <td>0.256633</td>\n",
       "      <td>0.035071</td>\n",
       "    </tr>\n",
       "    <tr>\n",
       "      <th>...</th>\n",
       "      <td>...</td>\n",
       "      <td>...</td>\n",
       "      <td>...</td>\n",
       "      <td>...</td>\n",
       "      <td>...</td>\n",
       "      <td>...</td>\n",
       "      <td>...</td>\n",
       "      <td>...</td>\n",
       "      <td>...</td>\n",
       "      <td>...</td>\n",
       "      <td>...</td>\n",
       "      <td>...</td>\n",
       "      <td>...</td>\n",
       "      <td>...</td>\n",
       "      <td>...</td>\n",
       "      <td>...</td>\n",
       "      <td>...</td>\n",
       "    </tr>\n",
       "    <tr>\n",
       "      <th>2023-03-27 19:54:46</th>\n",
       "      <td>0.354159</td>\n",
       "      <td>0.999455</td>\n",
       "      <td>0.348817</td>\n",
       "      <td>0.096719</td>\n",
       "      <td>0.348846</td>\n",
       "      <td>0.000273</td>\n",
       "      <td>0.347526</td>\n",
       "      <td>0.201124</td>\n",
       "      <td>0.347547</td>\n",
       "      <td>0.035712</td>\n",
       "      <td>0.348123</td>\n",
       "      <td>0.000041</td>\n",
       "      <td>0.514777</td>\n",
       "      <td>0.869490</td>\n",
       "      <td>0.096762</td>\n",
       "      <td>0.152350</td>\n",
       "      <td>0.512196</td>\n",
       "    </tr>\n",
       "    <tr>\n",
       "      <th>2023-03-27 19:54:51</th>\n",
       "      <td>0.354166</td>\n",
       "      <td>0.999498</td>\n",
       "      <td>0.348817</td>\n",
       "      <td>0.025913</td>\n",
       "      <td>0.348846</td>\n",
       "      <td>0.000273</td>\n",
       "      <td>0.347526</td>\n",
       "      <td>0.334725</td>\n",
       "      <td>0.347588</td>\n",
       "      <td>0.035328</td>\n",
       "      <td>0.348130</td>\n",
       "      <td>0.000041</td>\n",
       "      <td>0.514819</td>\n",
       "      <td>0.869430</td>\n",
       "      <td>0.025959</td>\n",
       "      <td>0.234191</td>\n",
       "      <td>0.154878</td>\n",
       "    </tr>\n",
       "    <tr>\n",
       "      <th>2023-03-27 19:54:56</th>\n",
       "      <td>0.351217</td>\n",
       "      <td>0.999673</td>\n",
       "      <td>0.345904</td>\n",
       "      <td>0.009905</td>\n",
       "      <td>0.345829</td>\n",
       "      <td>0.045158</td>\n",
       "      <td>0.344607</td>\n",
       "      <td>0.482708</td>\n",
       "      <td>0.344628</td>\n",
       "      <td>0.015520</td>\n",
       "      <td>0.345204</td>\n",
       "      <td>0.000041</td>\n",
       "      <td>0.489173</td>\n",
       "      <td>0.869389</td>\n",
       "      <td>0.019272</td>\n",
       "      <td>0.309267</td>\n",
       "      <td>0.093395</td>\n",
       "    </tr>\n",
       "    <tr>\n",
       "      <th>2023-03-27 19:55:00</th>\n",
       "      <td>0.345964</td>\n",
       "      <td>0.999903</td>\n",
       "      <td>0.340667</td>\n",
       "      <td>0.036905</td>\n",
       "      <td>0.340066</td>\n",
       "      <td>0.011587</td>\n",
       "      <td>0.339360</td>\n",
       "      <td>0.284927</td>\n",
       "      <td>0.339817</td>\n",
       "      <td>0.028012</td>\n",
       "      <td>0.339994</td>\n",
       "      <td>0.000041</td>\n",
       "      <td>0.469202</td>\n",
       "      <td>0.869389</td>\n",
       "      <td>0.039300</td>\n",
       "      <td>0.197693</td>\n",
       "      <td>0.247361</td>\n",
       "    </tr>\n",
       "    <tr>\n",
       "      <th>2023-03-27 19:55:05</th>\n",
       "      <td>0.345943</td>\n",
       "      <td>1.000000</td>\n",
       "      <td>0.340667</td>\n",
       "      <td>0.079690</td>\n",
       "      <td>0.340695</td>\n",
       "      <td>0.000626</td>\n",
       "      <td>0.339360</td>\n",
       "      <td>0.380754</td>\n",
       "      <td>0.339471</td>\n",
       "      <td>0.038701</td>\n",
       "      <td>0.339972</td>\n",
       "      <td>0.000041</td>\n",
       "      <td>0.514570</td>\n",
       "      <td>0.000000</td>\n",
       "      <td>0.079807</td>\n",
       "      <td>0.265204</td>\n",
       "      <td>0.332216</td>\n",
       "    </tr>\n",
       "  </tbody>\n",
       "</table>\n",
       "<p>7263 rows × 17 columns</p>\n",
       "</div>"
      ],
      "text/plain": [
       "                     log_price  lastUpdateId  bids_price_01  bids_size_01  \\\n",
       "scrape_time                                                                 \n",
       "2023-03-27 10:30:36   0.927579      0.000000       0.925868      0.309343   \n",
       "2023-03-27 10:30:41   0.927579      0.000044       0.925868      0.320645   \n",
       "2023-03-27 10:30:45   0.930197      0.000184       0.928539      0.248722   \n",
       "2023-03-27 10:30:50   0.930194      0.000224       0.928539      0.236681   \n",
       "2023-03-27 10:30:54   0.930198      0.000256       0.928539      0.005513   \n",
       "...                        ...           ...            ...           ...   \n",
       "2023-03-27 19:54:46   0.354159      0.999455       0.348817      0.096719   \n",
       "2023-03-27 19:54:51   0.354166      0.999498       0.348817      0.025913   \n",
       "2023-03-27 19:54:56   0.351217      0.999673       0.345904      0.009905   \n",
       "2023-03-27 19:55:00   0.345964      0.999903       0.340667      0.036905   \n",
       "2023-03-27 19:55:05   0.345943      1.000000       0.340667      0.079690   \n",
       "\n",
       "                     bids_price_02  bids_size_02  ask_price_01  ask_size_01  \\\n",
       "scrape_time                                                                   \n",
       "2023-03-27 10:30:36       0.925703      0.002270      0.925721     0.104673   \n",
       "2023-03-27 10:30:41       0.925862      0.000245      0.925721     0.217712   \n",
       "2023-03-27 10:30:45       0.928547      0.010752      0.928397     0.348780   \n",
       "2023-03-27 10:30:50       0.928547      0.010752      0.928397     0.385052   \n",
       "2023-03-27 10:30:54       0.928249      0.000660      0.928397     0.417126   \n",
       "...                            ...           ...           ...          ...   \n",
       "2023-03-27 19:54:46       0.348846      0.000273      0.347526     0.201124   \n",
       "2023-03-27 19:54:51       0.348846      0.000273      0.347526     0.334725   \n",
       "2023-03-27 19:54:56       0.345829      0.045158      0.344607     0.482708   \n",
       "2023-03-27 19:55:00       0.340066      0.011587      0.339360     0.284927   \n",
       "2023-03-27 19:55:05       0.340695      0.000626      0.339360     0.380754   \n",
       "\n",
       "                     ask_price_02  ask_size_02       WAP    spread  \\\n",
       "scrape_time                                                          \n",
       "2023-03-27 10:30:36      0.925721     0.051879  0.925789  0.000004   \n",
       "2023-03-27 10:30:41      0.925721     0.000127  0.925789  0.000004   \n",
       "2023-03-27 10:30:45      0.928938     0.004950  0.928466  0.000004   \n",
       "2023-03-27 10:30:50      0.928397     0.000202  0.928463  0.000004   \n",
       "2023-03-27 10:30:54      0.928397     0.000202  0.928467  0.000004   \n",
       "...                           ...          ...       ...       ...   \n",
       "2023-03-27 19:54:46      0.347547     0.035712  0.348123  0.000041   \n",
       "2023-03-27 19:54:51      0.347588     0.035328  0.348130  0.000041   \n",
       "2023-03-27 19:54:56      0.344628     0.015520  0.345204  0.000041   \n",
       "2023-03-27 19:55:00      0.339817     0.028012  0.339994  0.000041   \n",
       "2023-03-27 19:55:05      0.339471     0.038701  0.339972  0.000041   \n",
       "\n",
       "                     log_returns  volatility_t+1  bid depth  ask depth  \\\n",
       "scrape_time                                                              \n",
       "2023-03-27 10:30:36     0.514758        0.000000   0.309788   0.106035   \n",
       "2023-03-27 10:30:41     0.514758        0.000000   0.320670   0.133956   \n",
       "2023-03-27 10:30:45     0.537461        0.219483   0.250933   0.218423   \n",
       "2023-03-27 10:30:50     0.514730        0.207057   0.238891   0.236911   \n",
       "2023-03-27 10:30:54     0.514793        0.190057   0.005640   0.256633   \n",
       "...                          ...             ...        ...        ...   \n",
       "2023-03-27 19:54:46     0.514777        0.869490   0.096762   0.152350   \n",
       "2023-03-27 19:54:51     0.514819        0.869430   0.025959   0.234191   \n",
       "2023-03-27 19:54:56     0.489173        0.869389   0.019272   0.309267   \n",
       "2023-03-27 19:55:00     0.469202        0.869389   0.039300   0.197693   \n",
       "2023-03-27 19:55:05     0.514570        0.000000   0.079807   0.265204   \n",
       "\n",
       "                        FDOFI  \n",
       "scrape_time                    \n",
       "2023-03-27 10:30:36  0.828490  \n",
       "2023-03-27 10:30:41  0.798303  \n",
       "2023-03-27 10:30:45  0.655094  \n",
       "2023-03-27 10:30:50  0.625058  \n",
       "2023-03-27 10:30:54  0.035071  \n",
       "...                       ...  \n",
       "2023-03-27 19:54:46  0.512196  \n",
       "2023-03-27 19:54:51  0.154878  \n",
       "2023-03-27 19:54:56  0.093395  \n",
       "2023-03-27 19:55:00  0.247361  \n",
       "2023-03-27 19:55:05  0.332216  \n",
       "\n",
       "[7263 rows x 17 columns]"
      ]
     },
     "execution_count": 113,
     "metadata": {},
     "output_type": "execute_result"
    }
   ],
   "source": [
    "# MinMaxScaler (Normalizing): each feature will be in a fixed range in [0,1] & preserve matrix sparsity\n",
    "\n",
    "scaler = MinMaxScaler()\n",
    "df[df.columns] = scaler.fit_transform(df)\n",
    "df"
   ]
  },
  {
   "cell_type": "code",
   "execution_count": 117,
   "id": "49df5a8b",
   "metadata": {},
   "outputs": [
    {
     "data": {
      "image/png": "[encoded data removed]",
      "text/plain": [
       "<Figure size 640x480 with 1 Axes>"
      ]
     },
     "metadata": {},
     "output_type": "display_data"
    }
   ],
   "source": [
    "sns.histplot(df['volatility_t+1'], kde = True, stat='density');\n",
    "plt.show()"
   ]
  },
  {
   "cell_type": "markdown",
   "id": "d612a423",
   "metadata": {},
   "source": [
    "Temporary Classification\n",
    "\n",
    "- Above 0.75 -> high\n",
    "- Between 0.65 & 0.75 -> medium\n",
    "- Less than 0.65 -> low"
   ]
  },
  {
   "cell_type": "code",
   "execution_count": 119,
   "id": "48290335",
   "metadata": {},
   "outputs": [
    {
     "data": {
      "text/html": [
       "<div>\n",
       "<style scoped>\n",
       "    .dataframe tbody tr th:only-of-type {\n",
       "        vertical-align: middle;\n",
       "    }\n",
       "\n",
       "    .dataframe tbody tr th {\n",
       "        vertical-align: top;\n",
       "    }\n",
       "\n",
       "    .dataframe thead th {\n",
       "        text-align: right;\n",
       "    }\n",
       "</style>\n",
       "<table border=\"1\" class=\"dataframe\">\n",
       "  <thead>\n",
       "    <tr style=\"text-align: right;\">\n",
       "      <th></th>\n",
       "      <th>log_price</th>\n",
       "      <th>lastUpdateId</th>\n",
       "      <th>bids_price_01</th>\n",
       "      <th>bids_size_01</th>\n",
       "      <th>bids_price_02</th>\n",
       "      <th>bids_size_02</th>\n",
       "      <th>ask_price_01</th>\n",
       "      <th>ask_size_01</th>\n",
       "      <th>ask_price_02</th>\n",
       "      <th>ask_size_02</th>\n",
       "      <th>WAP</th>\n",
       "      <th>spread</th>\n",
       "      <th>log_returns</th>\n",
       "      <th>volatility_t+1</th>\n",
       "      <th>bid depth</th>\n",
       "      <th>ask depth</th>\n",
       "      <th>FDOFI</th>\n",
       "    </tr>\n",
       "    <tr>\n",
       "      <th>scrape_time</th>\n",
       "      <th></th>\n",
       "      <th></th>\n",
       "      <th></th>\n",
       "      <th></th>\n",
       "      <th></th>\n",
       "      <th></th>\n",
       "      <th></th>\n",
       "      <th></th>\n",
       "      <th></th>\n",
       "      <th></th>\n",
       "      <th></th>\n",
       "      <th></th>\n",
       "      <th></th>\n",
       "      <th></th>\n",
       "      <th></th>\n",
       "      <th></th>\n",
       "      <th></th>\n",
       "    </tr>\n",
       "  </thead>\n",
       "  <tbody>\n",
       "    <tr>\n",
       "      <th>2023-03-27 10:30:36</th>\n",
       "      <td>0.927579</td>\n",
       "      <td>0.000000</td>\n",
       "      <td>0.925868</td>\n",
       "      <td>0.309343</td>\n",
       "      <td>0.925703</td>\n",
       "      <td>0.002270</td>\n",
       "      <td>0.925721</td>\n",
       "      <td>0.104673</td>\n",
       "      <td>0.925721</td>\n",
       "      <td>0.051879</td>\n",
       "      <td>0.925789</td>\n",
       "      <td>0.000004</td>\n",
       "      <td>0.514758</td>\n",
       "      <td>0.000000</td>\n",
       "      <td>0.309788</td>\n",
       "      <td>0.106035</td>\n",
       "      <td>0.828490</td>\n",
       "    </tr>\n",
       "    <tr>\n",
       "      <th>2023-03-27 10:30:41</th>\n",
       "      <td>0.927579</td>\n",
       "      <td>0.000044</td>\n",
       "      <td>0.925868</td>\n",
       "      <td>0.320645</td>\n",
       "      <td>0.925862</td>\n",
       "      <td>0.000245</td>\n",
       "      <td>0.925721</td>\n",
       "      <td>0.217712</td>\n",
       "      <td>0.925721</td>\n",
       "      <td>0.000127</td>\n",
       "      <td>0.925789</td>\n",
       "      <td>0.000004</td>\n",
       "      <td>0.514758</td>\n",
       "      <td>0.000000</td>\n",
       "      <td>0.320670</td>\n",
       "      <td>0.133956</td>\n",
       "      <td>0.798303</td>\n",
       "    </tr>\n",
       "    <tr>\n",
       "      <th>2023-03-27 10:30:45</th>\n",
       "      <td>0.930197</td>\n",
       "      <td>0.000184</td>\n",
       "      <td>0.928539</td>\n",
       "      <td>0.248722</td>\n",
       "      <td>0.928547</td>\n",
       "      <td>0.010752</td>\n",
       "      <td>0.928397</td>\n",
       "      <td>0.348780</td>\n",
       "      <td>0.928938</td>\n",
       "      <td>0.004950</td>\n",
       "      <td>0.928466</td>\n",
       "      <td>0.000004</td>\n",
       "      <td>0.537461</td>\n",
       "      <td>0.219483</td>\n",
       "      <td>0.250933</td>\n",
       "      <td>0.218423</td>\n",
       "      <td>0.655094</td>\n",
       "    </tr>\n",
       "    <tr>\n",
       "      <th>2023-03-27 10:30:50</th>\n",
       "      <td>0.930194</td>\n",
       "      <td>0.000224</td>\n",
       "      <td>0.928539</td>\n",
       "      <td>0.236681</td>\n",
       "      <td>0.928547</td>\n",
       "      <td>0.010752</td>\n",
       "      <td>0.928397</td>\n",
       "      <td>0.385052</td>\n",
       "      <td>0.928397</td>\n",
       "      <td>0.000202</td>\n",
       "      <td>0.928463</td>\n",
       "      <td>0.000004</td>\n",
       "      <td>0.514730</td>\n",
       "      <td>0.207057</td>\n",
       "      <td>0.238891</td>\n",
       "      <td>0.236911</td>\n",
       "      <td>0.625058</td>\n",
       "    </tr>\n",
       "    <tr>\n",
       "      <th>2023-03-27 10:30:54</th>\n",
       "      <td>0.930198</td>\n",
       "      <td>0.000256</td>\n",
       "      <td>0.928539</td>\n",
       "      <td>0.005513</td>\n",
       "      <td>0.928249</td>\n",
       "      <td>0.000660</td>\n",
       "      <td>0.928397</td>\n",
       "      <td>0.417126</td>\n",
       "      <td>0.928397</td>\n",
       "      <td>0.000202</td>\n",
       "      <td>0.928467</td>\n",
       "      <td>0.000004</td>\n",
       "      <td>0.514793</td>\n",
       "      <td>0.190057</td>\n",
       "      <td>0.005640</td>\n",
       "      <td>0.256633</td>\n",
       "      <td>0.035071</td>\n",
       "    </tr>\n",
       "  </tbody>\n",
       "</table>\n",
       "</div>"
      ],
      "text/plain": [
       "                     log_price  lastUpdateId  bids_price_01  bids_size_01  \\\n",
       "scrape_time                                                                 \n",
       "2023-03-27 10:30:36   0.927579      0.000000       0.925868      0.309343   \n",
       "2023-03-27 10:30:41   0.927579      0.000044       0.925868      0.320645   \n",
       "2023-03-27 10:30:45   0.930197      0.000184       0.928539      0.248722   \n",
       "2023-03-27 10:30:50   0.930194      0.000224       0.928539      0.236681   \n",
       "2023-03-27 10:30:54   0.930198      0.000256       0.928539      0.005513   \n",
       "\n",
       "                     bids_price_02  bids_size_02  ask_price_01  ask_size_01  \\\n",
       "scrape_time                                                                   \n",
       "2023-03-27 10:30:36       0.925703      0.002270      0.925721     0.104673   \n",
       "2023-03-27 10:30:41       0.925862      0.000245      0.925721     0.217712   \n",
       "2023-03-27 10:30:45       0.928547      0.010752      0.928397     0.348780   \n",
       "2023-03-27 10:30:50       0.928547      0.010752      0.928397     0.385052   \n",
       "2023-03-27 10:30:54       0.928249      0.000660      0.928397     0.417126   \n",
       "\n",
       "                     ask_price_02  ask_size_02       WAP    spread  \\\n",
       "scrape_time                                                          \n",
       "2023-03-27 10:30:36      0.925721     0.051879  0.925789  0.000004   \n",
       "2023-03-27 10:30:41      0.925721     0.000127  0.925789  0.000004   \n",
       "2023-03-27 10:30:45      0.928938     0.004950  0.928466  0.000004   \n",
       "2023-03-27 10:30:50      0.928397     0.000202  0.928463  0.000004   \n",
       "2023-03-27 10:30:54      0.928397     0.000202  0.928467  0.000004   \n",
       "\n",
       "                     log_returns  volatility_t+1  bid depth  ask depth  \\\n",
       "scrape_time                                                              \n",
       "2023-03-27 10:30:36     0.514758        0.000000   0.309788   0.106035   \n",
       "2023-03-27 10:30:41     0.514758        0.000000   0.320670   0.133956   \n",
       "2023-03-27 10:30:45     0.537461        0.219483   0.250933   0.218423   \n",
       "2023-03-27 10:30:50     0.514730        0.207057   0.238891   0.236911   \n",
       "2023-03-27 10:30:54     0.514793        0.190057   0.005640   0.256633   \n",
       "\n",
       "                        FDOFI  \n",
       "scrape_time                    \n",
       "2023-03-27 10:30:36  0.828490  \n",
       "2023-03-27 10:30:41  0.798303  \n",
       "2023-03-27 10:30:45  0.655094  \n",
       "2023-03-27 10:30:50  0.625058  \n",
       "2023-03-27 10:30:54  0.035071  "
      ]
     },
     "execution_count": 119,
     "metadata": {},
     "output_type": "execute_result"
    }
   ],
   "source": [
    "df.head()"
   ]
  },
  {
   "cell_type": "code",
   "execution_count": 155,
   "id": "99de629a",
   "metadata": {},
   "outputs": [],
   "source": [
    "y = y.set_index(data['scrape_time'])"
   ]
  },
  {
   "cell_type": "code",
   "execution_count": 164,
   "id": "9225f08d",
   "metadata": {},
   "outputs": [],
   "source": [
    "df['realized_volatility'] = y['realized_volatility']"
   ]
  },
  {
   "cell_type": "code",
   "execution_count": 165,
   "id": "5c07a82b",
   "metadata": {},
   "outputs": [
    {
     "data": {
      "text/html": [
       "<div>\n",
       "<style scoped>\n",
       "    .dataframe tbody tr th:only-of-type {\n",
       "        vertical-align: middle;\n",
       "    }\n",
       "\n",
       "    .dataframe tbody tr th {\n",
       "        vertical-align: top;\n",
       "    }\n",
       "\n",
       "    .dataframe thead th {\n",
       "        text-align: right;\n",
       "    }\n",
       "</style>\n",
       "<table border=\"1\" class=\"dataframe\">\n",
       "  <thead>\n",
       "    <tr style=\"text-align: right;\">\n",
       "      <th></th>\n",
       "      <th>log_price</th>\n",
       "      <th>lastUpdateId</th>\n",
       "      <th>bids_price_01</th>\n",
       "      <th>bids_size_01</th>\n",
       "      <th>bids_price_02</th>\n",
       "      <th>bids_size_02</th>\n",
       "      <th>ask_price_01</th>\n",
       "      <th>ask_size_01</th>\n",
       "      <th>ask_price_02</th>\n",
       "      <th>ask_size_02</th>\n",
       "      <th>WAP</th>\n",
       "      <th>spread</th>\n",
       "      <th>log_returns</th>\n",
       "      <th>volatility_t+1</th>\n",
       "      <th>bid depth</th>\n",
       "      <th>ask depth</th>\n",
       "      <th>FDOFI</th>\n",
       "      <th>realized_volatility</th>\n",
       "    </tr>\n",
       "    <tr>\n",
       "      <th>scrape_time</th>\n",
       "      <th></th>\n",
       "      <th></th>\n",
       "      <th></th>\n",
       "      <th></th>\n",
       "      <th></th>\n",
       "      <th></th>\n",
       "      <th></th>\n",
       "      <th></th>\n",
       "      <th></th>\n",
       "      <th></th>\n",
       "      <th></th>\n",
       "      <th></th>\n",
       "      <th></th>\n",
       "      <th></th>\n",
       "      <th></th>\n",
       "      <th></th>\n",
       "      <th></th>\n",
       "      <th></th>\n",
       "    </tr>\n",
       "  </thead>\n",
       "  <tbody>\n",
       "    <tr>\n",
       "      <th>2023-03-27 10:30:36</th>\n",
       "      <td>0.927579</td>\n",
       "      <td>0.000000</td>\n",
       "      <td>0.925868</td>\n",
       "      <td>0.309343</td>\n",
       "      <td>0.925703</td>\n",
       "      <td>0.002270</td>\n",
       "      <td>0.925721</td>\n",
       "      <td>0.104673</td>\n",
       "      <td>0.925721</td>\n",
       "      <td>0.051879</td>\n",
       "      <td>0.925789</td>\n",
       "      <td>0.000004</td>\n",
       "      <td>0.514758</td>\n",
       "      <td>0.000000</td>\n",
       "      <td>0.309788</td>\n",
       "      <td>0.106035</td>\n",
       "      <td>0.828490</td>\n",
       "      <td>0.000000</td>\n",
       "    </tr>\n",
       "    <tr>\n",
       "      <th>2023-03-27 10:30:41</th>\n",
       "      <td>0.927579</td>\n",
       "      <td>0.000044</td>\n",
       "      <td>0.925868</td>\n",
       "      <td>0.320645</td>\n",
       "      <td>0.925862</td>\n",
       "      <td>0.000245</td>\n",
       "      <td>0.925721</td>\n",
       "      <td>0.217712</td>\n",
       "      <td>0.925721</td>\n",
       "      <td>0.000127</td>\n",
       "      <td>0.925789</td>\n",
       "      <td>0.000004</td>\n",
       "      <td>0.514758</td>\n",
       "      <td>0.000000</td>\n",
       "      <td>0.320670</td>\n",
       "      <td>0.133956</td>\n",
       "      <td>0.798303</td>\n",
       "      <td>0.000000</td>\n",
       "    </tr>\n",
       "    <tr>\n",
       "      <th>2023-03-27 10:30:45</th>\n",
       "      <td>0.930197</td>\n",
       "      <td>0.000184</td>\n",
       "      <td>0.928539</td>\n",
       "      <td>0.248722</td>\n",
       "      <td>0.928547</td>\n",
       "      <td>0.010752</td>\n",
       "      <td>0.928397</td>\n",
       "      <td>0.348780</td>\n",
       "      <td>0.928938</td>\n",
       "      <td>0.004950</td>\n",
       "      <td>0.928466</td>\n",
       "      <td>0.000004</td>\n",
       "      <td>0.537461</td>\n",
       "      <td>0.219483</td>\n",
       "      <td>0.250933</td>\n",
       "      <td>0.218423</td>\n",
       "      <td>0.655094</td>\n",
       "      <td>0.000000</td>\n",
       "    </tr>\n",
       "    <tr>\n",
       "      <th>2023-03-27 10:30:50</th>\n",
       "      <td>0.930194</td>\n",
       "      <td>0.000224</td>\n",
       "      <td>0.928539</td>\n",
       "      <td>0.236681</td>\n",
       "      <td>0.928547</td>\n",
       "      <td>0.010752</td>\n",
       "      <td>0.928397</td>\n",
       "      <td>0.385052</td>\n",
       "      <td>0.928397</td>\n",
       "      <td>0.000202</td>\n",
       "      <td>0.928463</td>\n",
       "      <td>0.000004</td>\n",
       "      <td>0.514730</td>\n",
       "      <td>0.207057</td>\n",
       "      <td>0.238891</td>\n",
       "      <td>0.236911</td>\n",
       "      <td>0.625058</td>\n",
       "      <td>0.000069</td>\n",
       "    </tr>\n",
       "    <tr>\n",
       "      <th>2023-03-27 10:30:54</th>\n",
       "      <td>0.930198</td>\n",
       "      <td>0.000256</td>\n",
       "      <td>0.928539</td>\n",
       "      <td>0.005513</td>\n",
       "      <td>0.928249</td>\n",
       "      <td>0.000660</td>\n",
       "      <td>0.928397</td>\n",
       "      <td>0.417126</td>\n",
       "      <td>0.928397</td>\n",
       "      <td>0.000202</td>\n",
       "      <td>0.928467</td>\n",
       "      <td>0.000004</td>\n",
       "      <td>0.514793</td>\n",
       "      <td>0.190057</td>\n",
       "      <td>0.005640</td>\n",
       "      <td>0.256633</td>\n",
       "      <td>0.035071</td>\n",
       "      <td>0.000065</td>\n",
       "    </tr>\n",
       "    <tr>\n",
       "      <th>...</th>\n",
       "      <td>...</td>\n",
       "      <td>...</td>\n",
       "      <td>...</td>\n",
       "      <td>...</td>\n",
       "      <td>...</td>\n",
       "      <td>...</td>\n",
       "      <td>...</td>\n",
       "      <td>...</td>\n",
       "      <td>...</td>\n",
       "      <td>...</td>\n",
       "      <td>...</td>\n",
       "      <td>...</td>\n",
       "      <td>...</td>\n",
       "      <td>...</td>\n",
       "      <td>...</td>\n",
       "      <td>...</td>\n",
       "      <td>...</td>\n",
       "      <td>...</td>\n",
       "    </tr>\n",
       "    <tr>\n",
       "      <th>2023-03-27 19:54:46</th>\n",
       "      <td>0.354159</td>\n",
       "      <td>0.999455</td>\n",
       "      <td>0.348817</td>\n",
       "      <td>0.096719</td>\n",
       "      <td>0.348846</td>\n",
       "      <td>0.000273</td>\n",
       "      <td>0.347526</td>\n",
       "      <td>0.201124</td>\n",
       "      <td>0.347547</td>\n",
       "      <td>0.035712</td>\n",
       "      <td>0.348123</td>\n",
       "      <td>0.000041</td>\n",
       "      <td>0.514777</td>\n",
       "      <td>0.869490</td>\n",
       "      <td>0.096762</td>\n",
       "      <td>0.152350</td>\n",
       "      <td>0.512196</td>\n",
       "      <td>0.000274</td>\n",
       "    </tr>\n",
       "    <tr>\n",
       "      <th>2023-03-27 19:54:51</th>\n",
       "      <td>0.354166</td>\n",
       "      <td>0.999498</td>\n",
       "      <td>0.348817</td>\n",
       "      <td>0.025913</td>\n",
       "      <td>0.348846</td>\n",
       "      <td>0.000273</td>\n",
       "      <td>0.347526</td>\n",
       "      <td>0.334725</td>\n",
       "      <td>0.347588</td>\n",
       "      <td>0.035328</td>\n",
       "      <td>0.348130</td>\n",
       "      <td>0.000041</td>\n",
       "      <td>0.514819</td>\n",
       "      <td>0.869430</td>\n",
       "      <td>0.025959</td>\n",
       "      <td>0.234191</td>\n",
       "      <td>0.154878</td>\n",
       "      <td>0.000274</td>\n",
       "    </tr>\n",
       "    <tr>\n",
       "      <th>2023-03-27 19:54:56</th>\n",
       "      <td>0.351217</td>\n",
       "      <td>0.999673</td>\n",
       "      <td>0.345904</td>\n",
       "      <td>0.009905</td>\n",
       "      <td>0.345829</td>\n",
       "      <td>0.045158</td>\n",
       "      <td>0.344607</td>\n",
       "      <td>0.482708</td>\n",
       "      <td>0.344628</td>\n",
       "      <td>0.015520</td>\n",
       "      <td>0.345204</td>\n",
       "      <td>0.000041</td>\n",
       "      <td>0.489173</td>\n",
       "      <td>0.869389</td>\n",
       "      <td>0.019272</td>\n",
       "      <td>0.309267</td>\n",
       "      <td>0.093395</td>\n",
       "      <td>0.000274</td>\n",
       "    </tr>\n",
       "    <tr>\n",
       "      <th>2023-03-27 19:55:00</th>\n",
       "      <td>0.345964</td>\n",
       "      <td>0.999903</td>\n",
       "      <td>0.340667</td>\n",
       "      <td>0.036905</td>\n",
       "      <td>0.340066</td>\n",
       "      <td>0.011587</td>\n",
       "      <td>0.339360</td>\n",
       "      <td>0.284927</td>\n",
       "      <td>0.339817</td>\n",
       "      <td>0.028012</td>\n",
       "      <td>0.339994</td>\n",
       "      <td>0.000041</td>\n",
       "      <td>0.469202</td>\n",
       "      <td>0.869389</td>\n",
       "      <td>0.039300</td>\n",
       "      <td>0.197693</td>\n",
       "      <td>0.247361</td>\n",
       "      <td>0.000274</td>\n",
       "    </tr>\n",
       "    <tr>\n",
       "      <th>2023-03-27 19:55:05</th>\n",
       "      <td>0.345943</td>\n",
       "      <td>1.000000</td>\n",
       "      <td>0.340667</td>\n",
       "      <td>0.079690</td>\n",
       "      <td>0.340695</td>\n",
       "      <td>0.000626</td>\n",
       "      <td>0.339360</td>\n",
       "      <td>0.380754</td>\n",
       "      <td>0.339471</td>\n",
       "      <td>0.038701</td>\n",
       "      <td>0.339972</td>\n",
       "      <td>0.000041</td>\n",
       "      <td>0.514570</td>\n",
       "      <td>0.000000</td>\n",
       "      <td>0.079807</td>\n",
       "      <td>0.265204</td>\n",
       "      <td>0.332216</td>\n",
       "      <td>0.000274</td>\n",
       "    </tr>\n",
       "  </tbody>\n",
       "</table>\n",
       "<p>7263 rows × 18 columns</p>\n",
       "</div>"
      ],
      "text/plain": [
       "                     log_price  lastUpdateId  bids_price_01  bids_size_01  \\\n",
       "scrape_time                                                                 \n",
       "2023-03-27 10:30:36   0.927579      0.000000       0.925868      0.309343   \n",
       "2023-03-27 10:30:41   0.927579      0.000044       0.925868      0.320645   \n",
       "2023-03-27 10:30:45   0.930197      0.000184       0.928539      0.248722   \n",
       "2023-03-27 10:30:50   0.930194      0.000224       0.928539      0.236681   \n",
       "2023-03-27 10:30:54   0.930198      0.000256       0.928539      0.005513   \n",
       "...                        ...           ...            ...           ...   \n",
       "2023-03-27 19:54:46   0.354159      0.999455       0.348817      0.096719   \n",
       "2023-03-27 19:54:51   0.354166      0.999498       0.348817      0.025913   \n",
       "2023-03-27 19:54:56   0.351217      0.999673       0.345904      0.009905   \n",
       "2023-03-27 19:55:00   0.345964      0.999903       0.340667      0.036905   \n",
       "2023-03-27 19:55:05   0.345943      1.000000       0.340667      0.079690   \n",
       "\n",
       "                     bids_price_02  bids_size_02  ask_price_01  ask_size_01  \\\n",
       "scrape_time                                                                   \n",
       "2023-03-27 10:30:36       0.925703      0.002270      0.925721     0.104673   \n",
       "2023-03-27 10:30:41       0.925862      0.000245      0.925721     0.217712   \n",
       "2023-03-27 10:30:45       0.928547      0.010752      0.928397     0.348780   \n",
       "2023-03-27 10:30:50       0.928547      0.010752      0.928397     0.385052   \n",
       "2023-03-27 10:30:54       0.928249      0.000660      0.928397     0.417126   \n",
       "...                            ...           ...           ...          ...   \n",
       "2023-03-27 19:54:46       0.348846      0.000273      0.347526     0.201124   \n",
       "2023-03-27 19:54:51       0.348846      0.000273      0.347526     0.334725   \n",
       "2023-03-27 19:54:56       0.345829      0.045158      0.344607     0.482708   \n",
       "2023-03-27 19:55:00       0.340066      0.011587      0.339360     0.284927   \n",
       "2023-03-27 19:55:05       0.340695      0.000626      0.339360     0.380754   \n",
       "\n",
       "                     ask_price_02  ask_size_02       WAP    spread  \\\n",
       "scrape_time                                                          \n",
       "2023-03-27 10:30:36      0.925721     0.051879  0.925789  0.000004   \n",
       "2023-03-27 10:30:41      0.925721     0.000127  0.925789  0.000004   \n",
       "2023-03-27 10:30:45      0.928938     0.004950  0.928466  0.000004   \n",
       "2023-03-27 10:30:50      0.928397     0.000202  0.928463  0.000004   \n",
       "2023-03-27 10:30:54      0.928397     0.000202  0.928467  0.000004   \n",
       "...                           ...          ...       ...       ...   \n",
       "2023-03-27 19:54:46      0.347547     0.035712  0.348123  0.000041   \n",
       "2023-03-27 19:54:51      0.347588     0.035328  0.348130  0.000041   \n",
       "2023-03-27 19:54:56      0.344628     0.015520  0.345204  0.000041   \n",
       "2023-03-27 19:55:00      0.339817     0.028012  0.339994  0.000041   \n",
       "2023-03-27 19:55:05      0.339471     0.038701  0.339972  0.000041   \n",
       "\n",
       "                     log_returns  volatility_t+1  bid depth  ask depth  \\\n",
       "scrape_time                                                              \n",
       "2023-03-27 10:30:36     0.514758        0.000000   0.309788   0.106035   \n",
       "2023-03-27 10:30:41     0.514758        0.000000   0.320670   0.133956   \n",
       "2023-03-27 10:30:45     0.537461        0.219483   0.250933   0.218423   \n",
       "2023-03-27 10:30:50     0.514730        0.207057   0.238891   0.236911   \n",
       "2023-03-27 10:30:54     0.514793        0.190057   0.005640   0.256633   \n",
       "...                          ...             ...        ...        ...   \n",
       "2023-03-27 19:54:46     0.514777        0.869490   0.096762   0.152350   \n",
       "2023-03-27 19:54:51     0.514819        0.869430   0.025959   0.234191   \n",
       "2023-03-27 19:54:56     0.489173        0.869389   0.019272   0.309267   \n",
       "2023-03-27 19:55:00     0.469202        0.869389   0.039300   0.197693   \n",
       "2023-03-27 19:55:05     0.514570        0.000000   0.079807   0.265204   \n",
       "\n",
       "                        FDOFI  realized_volatility  \n",
       "scrape_time                                         \n",
       "2023-03-27 10:30:36  0.828490             0.000000  \n",
       "2023-03-27 10:30:41  0.798303             0.000000  \n",
       "2023-03-27 10:30:45  0.655094             0.000000  \n",
       "2023-03-27 10:30:50  0.625058             0.000069  \n",
       "2023-03-27 10:30:54  0.035071             0.000065  \n",
       "...                       ...                  ...  \n",
       "2023-03-27 19:54:46  0.512196             0.000274  \n",
       "2023-03-27 19:54:51  0.154878             0.000274  \n",
       "2023-03-27 19:54:56  0.093395             0.000274  \n",
       "2023-03-27 19:55:00  0.247361             0.000274  \n",
       "2023-03-27 19:55:05  0.332216             0.000274  \n",
       "\n",
       "[7263 rows x 18 columns]"
      ]
     },
     "execution_count": 165,
     "metadata": {},
     "output_type": "execute_result"
    }
   ],
   "source": [
    "df"
   ]
  },
  {
   "cell_type": "code",
   "execution_count": 167,
   "id": "f738f952",
   "metadata": {},
   "outputs": [],
   "source": [
    "# df['volatility_levels'] = pd.cut(x = df['realized_volatility'],\n",
    "#                        bins=[df['realized_volatility'].min()-1,\n",
    "#                              np.percentile(df['realized_volatility'], 25),\n",
    "#                              np.percentile(df['realized_volatility'], 50),\n",
    "#                              np.percentile(df['realized_volatility'],75),\n",
    "#                              df['realized_volatility'].max()+1], \n",
    "#                        labels=['low', 'medium','high'])"
   ]
  },
  {
   "cell_type": "code",
   "execution_count": 170,
   "id": "6e52c6b9",
   "metadata": {},
   "outputs": [
    {
     "data": {
      "text/plain": [
       "(0.34060535493594907, 0.8740633965930373, 0.9595653044630515)"
      ]
     },
     "execution_count": 170,
     "metadata": {},
     "output_type": "execute_result"
    }
   ],
   "source": [
    "np.percentile(df['volatility_t+1'], 25), np.percentile(df['volatility_t+1'], 50), np.percentile(df['volatility_t+1'],75),"
   ]
  },
  {
   "cell_type": "markdown",
   "id": "1d5fabe2",
   "metadata": {},
   "source": [
    "Temporary Classification \n",
    "\n",
    "- Above 0.75 -> high\n",
    "- Between 0.65 & 0.75 -> medium\n",
    "- Less than 0.65 -> low"
   ]
  },
  {
   "cell_type": "markdown",
   "id": "27446f87",
   "metadata": {},
   "source": [
    "# Models"
   ]
  },
  {
   "cell_type": "markdown",
   "id": "5c06b49f",
   "metadata": {},
   "source": [
    "Let Baseline be predicting the previous value."
   ]
  },
  {
   "cell_type": "markdown",
   "id": "b11a93f3",
   "metadata": {},
   "source": [
    "List of methods to try:\n",
    "- ARIMA Time Series ✅ \n",
    "- RNN\n",
    "- LSTM"
   ]
  },
  {
   "cell_type": "markdown",
   "id": "04dadbb3",
   "metadata": {},
   "source": [
    "## Baseline Model  ✅"
   ]
  },
  {
   "cell_type": "code",
   "execution_count": 198,
   "id": "35ec041d",
   "metadata": {},
   "outputs": [],
   "source": [
    "df_vol= df['volatility_t+1'].to_frame()"
   ]
  },
  {
   "cell_type": "code",
   "execution_count": 200,
   "id": "ddb1d909",
   "metadata": {},
   "outputs": [],
   "source": [
    "# Let's keep the last 40% of the values out for testing purposes\n",
    "train_size = 0.6\n",
    "index = round(train_size*df_vol.shape[0])\n",
    "\n",
    "df_train = df_vol.iloc[:index]\n",
    "df_test = df_vol.iloc[index:]"
   ]
  },
  {
   "cell_type": "code",
   "execution_count": 201,
   "id": "6404078c",
   "metadata": {},
   "outputs": [
    {
     "data": {
      "text/html": [
       "<div>\n",
       "<style scoped>\n",
       "    .dataframe tbody tr th:only-of-type {\n",
       "        vertical-align: middle;\n",
       "    }\n",
       "\n",
       "    .dataframe tbody tr th {\n",
       "        vertical-align: top;\n",
       "    }\n",
       "\n",
       "    .dataframe thead th {\n",
       "        text-align: right;\n",
       "    }\n",
       "</style>\n",
       "<table border=\"1\" class=\"dataframe\">\n",
       "  <thead>\n",
       "    <tr style=\"text-align: right;\">\n",
       "      <th></th>\n",
       "      <th>volatility_t+1</th>\n",
       "    </tr>\n",
       "    <tr>\n",
       "      <th>scrape_time</th>\n",
       "      <th></th>\n",
       "    </tr>\n",
       "  </thead>\n",
       "  <tbody>\n",
       "    <tr>\n",
       "      <th>2023-03-27 16:12:18</th>\n",
       "      <td>NaN</td>\n",
       "    </tr>\n",
       "    <tr>\n",
       "      <th>2023-03-27 16:12:23</th>\n",
       "      <td>0.996080</td>\n",
       "    </tr>\n",
       "    <tr>\n",
       "      <th>2023-03-27 16:12:27</th>\n",
       "      <td>0.995972</td>\n",
       "    </tr>\n",
       "    <tr>\n",
       "      <th>2023-03-27 16:12:33</th>\n",
       "      <td>0.995858</td>\n",
       "    </tr>\n",
       "    <tr>\n",
       "      <th>2023-03-27 16:12:38</th>\n",
       "      <td>0.995939</td>\n",
       "    </tr>\n",
       "    <tr>\n",
       "      <th>...</th>\n",
       "      <td>...</td>\n",
       "    </tr>\n",
       "    <tr>\n",
       "      <th>2023-03-27 19:54:46</th>\n",
       "      <td>0.869550</td>\n",
       "    </tr>\n",
       "    <tr>\n",
       "      <th>2023-03-27 19:54:51</th>\n",
       "      <td>0.869490</td>\n",
       "    </tr>\n",
       "    <tr>\n",
       "      <th>2023-03-27 19:54:56</th>\n",
       "      <td>0.869430</td>\n",
       "    </tr>\n",
       "    <tr>\n",
       "      <th>2023-03-27 19:55:00</th>\n",
       "      <td>0.869389</td>\n",
       "    </tr>\n",
       "    <tr>\n",
       "      <th>2023-03-27 19:55:05</th>\n",
       "      <td>0.869389</td>\n",
       "    </tr>\n",
       "  </tbody>\n",
       "</table>\n",
       "<p>2905 rows × 1 columns</p>\n",
       "</div>"
      ],
      "text/plain": [
       "                     volatility_t+1\n",
       "scrape_time                        \n",
       "2023-03-27 16:12:18             NaN\n",
       "2023-03-27 16:12:23        0.996080\n",
       "2023-03-27 16:12:27        0.995972\n",
       "2023-03-27 16:12:33        0.995858\n",
       "2023-03-27 16:12:38        0.995939\n",
       "...                             ...\n",
       "2023-03-27 19:54:46        0.869550\n",
       "2023-03-27 19:54:51        0.869490\n",
       "2023-03-27 19:54:56        0.869430\n",
       "2023-03-27 19:55:00        0.869389\n",
       "2023-03-27 19:55:05        0.869389\n",
       "\n",
       "[2905 rows x 1 columns]"
      ]
     },
     "execution_count": 201,
     "metadata": {},
     "output_type": "execute_result"
    }
   ],
   "source": [
    "y_pred = df_test.shift(1)\n",
    "y_pred"
   ]
  },
  {
   "cell_type": "code",
   "execution_count": 202,
   "id": "e5a076b0",
   "metadata": {},
   "outputs": [
    {
     "name": "stdout",
     "output_type": "stream",
     "text": [
      "R2: 0.8615538391630807\n"
     ]
    }
   ],
   "source": [
    "y_pred = df_test.shift(1).dropna()\n",
    "y_true = df_test[1:]\n",
    "\n",
    "print(f\"R2: {r2_score(y_true, y_pred)}\")"
   ]
  },
  {
   "cell_type": "markdown",
   "id": "7200f685",
   "metadata": {
    "heading_collapsed": true
   },
   "source": [
    "## Linear Regression on Time Series  ✅"
   ]
  },
  {
   "cell_type": "code",
   "execution_count": 204,
   "id": "7254021f",
   "metadata": {
    "hidden": true
   },
   "outputs": [
    {
     "data": {
      "text/html": [
       "<div>\n",
       "<style scoped>\n",
       "    .dataframe tbody tr th:only-of-type {\n",
       "        vertical-align: middle;\n",
       "    }\n",
       "\n",
       "    .dataframe tbody tr th {\n",
       "        vertical-align: top;\n",
       "    }\n",
       "\n",
       "    .dataframe thead th {\n",
       "        text-align: right;\n",
       "    }\n",
       "</style>\n",
       "<table border=\"1\" class=\"dataframe\">\n",
       "  <thead>\n",
       "    <tr style=\"text-align: right;\">\n",
       "      <th></th>\n",
       "      <th>volatility_t+1</th>\n",
       "      <th>t - 1</th>\n",
       "      <th>t - 2</th>\n",
       "      <th>t - 3</th>\n",
       "      <th>t - 4</th>\n",
       "      <th>t - 5</th>\n",
       "      <th>t - 6</th>\n",
       "      <th>t - 7</th>\n",
       "      <th>t - 8</th>\n",
       "      <th>t - 9</th>\n",
       "      <th>t - 10</th>\n",
       "      <th>t - 11</th>\n",
       "      <th>t - 12</th>\n",
       "    </tr>\n",
       "    <tr>\n",
       "      <th>scrape_time</th>\n",
       "      <th></th>\n",
       "      <th></th>\n",
       "      <th></th>\n",
       "      <th></th>\n",
       "      <th></th>\n",
       "      <th></th>\n",
       "      <th></th>\n",
       "      <th></th>\n",
       "      <th></th>\n",
       "      <th></th>\n",
       "      <th></th>\n",
       "      <th></th>\n",
       "      <th></th>\n",
       "    </tr>\n",
       "  </thead>\n",
       "  <tbody>\n",
       "    <tr>\n",
       "      <th>2023-03-27 10:31:33</th>\n",
       "      <td>0.176383</td>\n",
       "      <td>0.182780</td>\n",
       "      <td>0.189849</td>\n",
       "      <td>0.141815</td>\n",
       "      <td>0.149614</td>\n",
       "      <td>0.158785</td>\n",
       "      <td>0.169856</td>\n",
       "      <td>0.183520</td>\n",
       "      <td>0.190057</td>\n",
       "      <td>0.207057</td>\n",
       "      <td>0.219483</td>\n",
       "      <td>0.000000</td>\n",
       "      <td>0.000000</td>\n",
       "    </tr>\n",
       "    <tr>\n",
       "      <th>2023-03-27 10:31:38</th>\n",
       "      <td>0.170514</td>\n",
       "      <td>0.176383</td>\n",
       "      <td>0.182780</td>\n",
       "      <td>0.189849</td>\n",
       "      <td>0.141815</td>\n",
       "      <td>0.149614</td>\n",
       "      <td>0.158785</td>\n",
       "      <td>0.169856</td>\n",
       "      <td>0.183520</td>\n",
       "      <td>0.190057</td>\n",
       "      <td>0.207057</td>\n",
       "      <td>0.219483</td>\n",
       "      <td>0.000000</td>\n",
       "    </tr>\n",
       "    <tr>\n",
       "      <th>2023-03-27 10:31:42</th>\n",
       "      <td>0.165146</td>\n",
       "      <td>0.170514</td>\n",
       "      <td>0.176383</td>\n",
       "      <td>0.182780</td>\n",
       "      <td>0.189849</td>\n",
       "      <td>0.141815</td>\n",
       "      <td>0.149614</td>\n",
       "      <td>0.158785</td>\n",
       "      <td>0.169856</td>\n",
       "      <td>0.183520</td>\n",
       "      <td>0.190057</td>\n",
       "      <td>0.207057</td>\n",
       "      <td>0.219483</td>\n",
       "    </tr>\n",
       "    <tr>\n",
       "      <th>2023-03-27 10:31:47</th>\n",
       "      <td>0.160307</td>\n",
       "      <td>0.165146</td>\n",
       "      <td>0.170514</td>\n",
       "      <td>0.176383</td>\n",
       "      <td>0.182780</td>\n",
       "      <td>0.189849</td>\n",
       "      <td>0.141815</td>\n",
       "      <td>0.149614</td>\n",
       "      <td>0.158785</td>\n",
       "      <td>0.169856</td>\n",
       "      <td>0.183520</td>\n",
       "      <td>0.190057</td>\n",
       "      <td>0.207057</td>\n",
       "    </tr>\n",
       "    <tr>\n",
       "      <th>2023-03-27 10:31:51</th>\n",
       "      <td>0.155851</td>\n",
       "      <td>0.160307</td>\n",
       "      <td>0.165146</td>\n",
       "      <td>0.170514</td>\n",
       "      <td>0.176383</td>\n",
       "      <td>0.182780</td>\n",
       "      <td>0.189849</td>\n",
       "      <td>0.141815</td>\n",
       "      <td>0.149614</td>\n",
       "      <td>0.158785</td>\n",
       "      <td>0.169856</td>\n",
       "      <td>0.183520</td>\n",
       "      <td>0.190057</td>\n",
       "    </tr>\n",
       "  </tbody>\n",
       "</table>\n",
       "</div>"
      ],
      "text/plain": [
       "                     volatility_t+1     t - 1     t - 2     t - 3     t - 4  \\\n",
       "scrape_time                                                                   \n",
       "2023-03-27 10:31:33        0.176383  0.182780  0.189849  0.141815  0.149614   \n",
       "2023-03-27 10:31:38        0.170514  0.176383  0.182780  0.189849  0.141815   \n",
       "2023-03-27 10:31:42        0.165146  0.170514  0.176383  0.182780  0.189849   \n",
       "2023-03-27 10:31:47        0.160307  0.165146  0.170514  0.176383  0.182780   \n",
       "2023-03-27 10:31:51        0.155851  0.160307  0.165146  0.170514  0.176383   \n",
       "\n",
       "                        t - 5     t - 6     t - 7     t - 8     t - 9  \\\n",
       "scrape_time                                                             \n",
       "2023-03-27 10:31:33  0.158785  0.169856  0.183520  0.190057  0.207057   \n",
       "2023-03-27 10:31:38  0.149614  0.158785  0.169856  0.183520  0.190057   \n",
       "2023-03-27 10:31:42  0.141815  0.149614  0.158785  0.169856  0.183520   \n",
       "2023-03-27 10:31:47  0.189849  0.141815  0.149614  0.158785  0.169856   \n",
       "2023-03-27 10:31:51  0.182780  0.189849  0.141815  0.149614  0.158785   \n",
       "\n",
       "                       t - 10    t - 11    t - 12  \n",
       "scrape_time                                        \n",
       "2023-03-27 10:31:33  0.219483  0.000000  0.000000  \n",
       "2023-03-27 10:31:38  0.207057  0.219483  0.000000  \n",
       "2023-03-27 10:31:42  0.190057  0.207057  0.219483  \n",
       "2023-03-27 10:31:47  0.183520  0.190057  0.207057  \n",
       "2023-03-27 10:31:51  0.169856  0.183520  0.190057  "
      ]
     },
     "execution_count": 204,
     "metadata": {},
     "output_type": "execute_result"
    }
   ],
   "source": [
    "df2 = df.copy(); df2_train = df_train.copy(); df2_test = df_test.copy()\n",
    "\n",
    "for i in range(1, 13):\n",
    "    df2_train[f't - {i}'] = df_train['volatility_t+1'].shift(i)\n",
    "    df2_test[f't - {i}'] = df_test['volatility_t+1'].shift(i)\n",
    "\n",
    "df2_train.dropna(inplace=True)\n",
    "df2_test.dropna(inplace=True)\n",
    "\n",
    "df2_train.head()"
   ]
  },
  {
   "cell_type": "code",
   "execution_count": 206,
   "id": "c6d54a12",
   "metadata": {
    "hidden": true
   },
   "outputs": [
    {
     "name": "stdout",
     "output_type": "stream",
     "text": [
      "(4346, 12) (4346,) (2893, 12) (2893,)\n"
     ]
    }
   ],
   "source": [
    "# Train Test Split\n",
    "X2_train = df2_train.drop(columns = ['volatility_t+1'])\n",
    "y2_train = df2_train['volatility_t+1']\n",
    "X2_test = df2_test.drop(columns = ['volatility_t+1'])\n",
    "y2_test = df2_test['volatility_t+1']\n",
    "\n",
    "print(X2_train.shape,y2_train.shape, X2_test.shape,y2_test.shape)"
   ]
  },
  {
   "cell_type": "code",
   "execution_count": 209,
   "id": "78103895",
   "metadata": {
    "hidden": true
   },
   "outputs": [
    {
     "name": "stdout",
     "output_type": "stream",
     "text": [
      "R2:  0.8606333122223265\n"
     ]
    }
   ],
   "source": [
    "# Predict and measure R2\n",
    "model = LinearRegression()\n",
    "model = model.fit(X2_train, y2_train)\n",
    "\n",
    "print('R2: ', r2_score(y2_test, model.predict(X2_test)))\n",
    "pd.Series(model.coef_).plot(kind='bar')\n",
    "plt.title('partial regression coefficients');"
   ]
  },
  {
   "cell_type": "markdown",
   "id": "04997d18",
   "metadata": {
    "heading_collapsed": true
   },
   "source": [
    "## ARIMA Time Series ✅"
   ]
  },
  {
   "cell_type": "markdown",
   "id": "27708856",
   "metadata": {
    "hidden": true
   },
   "source": [
    "FYI\n",
    "What is ARIMA: https://medium.com/@pavanmeduri1_55193/time-series-forecasting-arima-model-d1e0c38770c0"
   ]
  },
  {
   "cell_type": "markdown",
   "id": "b2177fad",
   "metadata": {
    "hidden": true
   },
   "source": [
    "👉 Example: ARIMA models recursively predict the next data points one after the other"
   ]
  },
  {
   "cell_type": "markdown",
   "id": "a3d4fbbe",
   "metadata": {
    "heading_collapsed": true,
    "hidden": true
   },
   "source": [
    "### ARIMA data processing "
   ]
  },
  {
   "cell_type": "markdown",
   "id": "2351719c",
   "metadata": {
    "hidden": true
   },
   "source": [
    "We don't need to additive decomposition nor multiplicative decomposition here since each volatility is not accumulative."
   ]
  },
  {
   "cell_type": "code",
   "execution_count": 305,
   "id": "cc504284",
   "metadata": {
    "hidden": true,
    "scrolled": true
   },
   "outputs": [],
   "source": [
    "y_arima = df_vol.reset_index()[\"volatility_t+1\"][2:-1]"
   ]
  },
  {
   "cell_type": "code",
   "execution_count": 306,
   "id": "abe0b033",
   "metadata": {
    "hidden": true
   },
   "outputs": [
    {
     "data": {
      "text/plain": [
       "0.14835862802530692"
      ]
     },
     "execution_count": 306,
     "metadata": {},
     "output_type": "execute_result"
    }
   ],
   "source": [
    "##### Ensure stationarity ########\n",
    "from statsmodels.tsa.stattools import adfuller\n",
    "\n",
    "adfuller(y_arima)[1]  # p-value"
   ]
  },
  {
   "cell_type": "markdown",
   "id": "6201e76d",
   "metadata": {
    "hidden": true
   },
   "source": [
    "ADF tests the following precedure:\n",
    "\n",
    "- The p-value should be less than 0.05 to have a 95% confidence in the stationarity.\n",
    "\n",
    "- If the p-value is larger than 0.05, we cannot reject the null hypothesis (null hypothesis = \"the process is not stationary\").\n",
    "\n"
   ]
  },
  {
   "cell_type": "markdown",
   "id": "cfe1f3c7",
   "metadata": {
    "hidden": true
   },
   "source": [
    "Steps:\n",
    "\n",
    "1. Convert a non-stationary TS to stationary\n",
    "\n",
    "2. Forecast stationary TS by extrapolating stationary properties\n",
    "\n",
    "3. Reintroduce seasonality and the rest"
   ]
  },
  {
   "cell_type": "code",
   "execution_count": 307,
   "id": "329a7fae",
   "metadata": {
    "hidden": true
   },
   "outputs": [],
   "source": [
    "differenced_1 = y_arima.diff().dropna()\n",
    "differenced_2 = differenced_1.diff().dropna()"
   ]
  },
  {
   "cell_type": "code",
   "execution_count": 308,
   "id": "86904586",
   "metadata": {
    "hidden": true
   },
   "outputs": [
    {
     "data": {
      "image/png": "[encoded data removed]",
      "text/plain": [
       "<Figure size 2000x400 with 3 Axes>"
      ]
     },
     "metadata": {},
     "output_type": "display_data"
    }
   ],
   "source": [
    "zero_diff = y_arima\n",
    "first_order_diff = differenced_1\n",
    "second_order_diff = differenced_2\n",
    "\n",
    "\n",
    "fig, (ax1, ax2, ax3) = plt.subplots(1, 3, figsize=(20,4))\n",
    "ax1.plot(zero_diff); ax1.set_title('Original Series')\n",
    "ax2.plot(first_order_diff); ax2.set_title('1st Order Differencing')\n",
    "ax3.plot(second_order_diff); ax3.set_title('2nd Order Differencing');\n",
    "plt.show()"
   ]
  },
  {
   "cell_type": "markdown",
   "id": "5193a2e2",
   "metadata": {
    "hidden": true
   },
   "source": [
    "### Auto-ARIMA (mape:0.1)"
   ]
  },
  {
   "cell_type": "markdown",
   "id": "c392c7c9",
   "metadata": {
    "heading_collapsed": true,
    "hidden": true
   },
   "source": [
    "#### Autocorrelation(q) and Partial Autocorrelation(p)"
   ]
  },
  {
   "cell_type": "code",
   "execution_count": 315,
   "id": "0097eb0d",
   "metadata": {
    "hidden": true
   },
   "outputs": [
    {
     "data": {
      "image/png": "[encoded data removed]",
      "text/plain": [
       "<Figure size 1600x300 with 2 Axes>"
      ]
     },
     "metadata": {},
     "output_type": "display_data"
    }
   ],
   "source": [
    "fig, axes = plt.subplots(1,2, figsize=(16,3))\n",
    "\n",
    "plot_acf(differenced_1, lags=60, ax=axes[0])\n",
    "\n",
    "plot_pacf(differenced_2, lags=60, ax=axes[1], color='r');\n",
    "plt.ylim(-0.05, 0.05)\n",
    "plt.show()"
   ]
  },
  {
   "cell_type": "code",
   "execution_count": 327,
   "id": "66292617",
   "metadata": {
    "hidden": true
   },
   "outputs": [
    {
     "data": {
      "image/png": "[encoded data removed]",
      "text/plain": [
       "<Figure size 640x480 with 1 Axes>"
      ]
     },
     "metadata": {},
     "output_type": "display_data"
    }
   ],
   "source": [
    "plot_acf(differenced_1, lags=10);\n",
    "plt.ylim(-0.05, 0.05)\n",
    "plt.show()\n",
    "# q = 5"
   ]
  },
  {
   "cell_type": "code",
   "execution_count": 324,
   "id": "fa67e97d",
   "metadata": {
    "hidden": true
   },
   "outputs": [
    {
     "data": {
      "image/png": "[encoded data removed]",
      "text/plain": [
       "<Figure size 640x480 with 1 Axes>"
      ]
     },
     "metadata": {},
     "output_type": "display_data"
    }
   ],
   "source": [
    "plot_pacf(differenced_2, lags=16, color='r');\n",
    "plt.ylim(-0.05, 0.05)\n",
    "plt.show()\n",
    "\n",
    "# p = 14"
   ]
  },
  {
   "cell_type": "code",
   "execution_count": 336,
   "id": "41ca7b5c",
   "metadata": {
    "hidden": true
   },
   "outputs": [
    {
     "data": {
      "text/html": [
       "<table class=\"simpletable\">\n",
       "<caption>SARIMAX Results</caption>\n",
       "<tr>\n",
       "  <th>Dep. Variable:</th>    <td>volatility_t+1</td>  <th>  No. Observations:  </th>    <td>7260</td>   \n",
       "</tr>\n",
       "<tr>\n",
       "  <th>Model:</th>            <td>ARIMA(5, 1, 10)</td> <th>  Log Likelihood     </th>  <td>37669.850</td>\n",
       "</tr>\n",
       "<tr>\n",
       "  <th>Date:</th>            <td>Tue, 28 Mar 2023</td> <th>  AIC                </th> <td>-75305.700</td>\n",
       "</tr>\n",
       "<tr>\n",
       "  <th>Time:</th>                <td>18:42:38</td>     <th>  BIC                </th> <td>-75188.570</td>\n",
       "</tr>\n",
       "<tr>\n",
       "  <th>Sample:</th>                  <td>0</td>        <th>  HQIC               </th> <td>-75265.413</td>\n",
       "</tr>\n",
       "<tr>\n",
       "  <th></th>                      <td> - 7260</td>     <th>                     </th>      <td> </td>    \n",
       "</tr>\n",
       "<tr>\n",
       "  <th>Covariance Type:</th>        <td>opg</td>       <th>                     </th>      <td> </td>    \n",
       "</tr>\n",
       "</table>\n",
       "<table class=\"simpletable\">\n",
       "<tr>\n",
       "     <td></td>       <th>coef</th>     <th>std err</th>      <th>z</th>      <th>P>|z|</th>  <th>[0.025</th>    <th>0.975]</th>  \n",
       "</tr>\n",
       "<tr>\n",
       "  <th>x1</th>     <td> 8.387e-05</td> <td> 4.74e-05</td> <td>    1.771</td> <td> 0.077</td> <td>-8.97e-06</td> <td>    0.000</td>\n",
       "</tr>\n",
       "<tr>\n",
       "  <th>ar.L1</th>  <td>    0.2221</td> <td>    0.005</td> <td>   48.917</td> <td> 0.000</td> <td>    0.213</td> <td>    0.231</td>\n",
       "</tr>\n",
       "<tr>\n",
       "  <th>ar.L2</th>  <td>    0.2383</td> <td>    0.006</td> <td>   39.408</td> <td> 0.000</td> <td>    0.226</td> <td>    0.250</td>\n",
       "</tr>\n",
       "<tr>\n",
       "  <th>ar.L3</th>  <td>    0.4916</td> <td>    0.006</td> <td>   85.870</td> <td> 0.000</td> <td>    0.480</td> <td>    0.503</td>\n",
       "</tr>\n",
       "<tr>\n",
       "  <th>ar.L4</th>  <td>    0.0217</td> <td>    0.005</td> <td>    4.308</td> <td> 0.000</td> <td>    0.012</td> <td>    0.032</td>\n",
       "</tr>\n",
       "<tr>\n",
       "  <th>ar.L5</th>  <td>   -0.1522</td> <td>    0.007</td> <td>  -22.517</td> <td> 0.000</td> <td>   -0.165</td> <td>   -0.139</td>\n",
       "</tr>\n",
       "<tr>\n",
       "  <th>ma.L1</th>  <td>   -0.0630</td> <td>    0.005</td> <td>  -12.935</td> <td> 0.000</td> <td>   -0.073</td> <td>   -0.053</td>\n",
       "</tr>\n",
       "<tr>\n",
       "  <th>ma.L2</th>  <td>   -0.2401</td> <td>    0.007</td> <td>  -35.920</td> <td> 0.000</td> <td>   -0.253</td> <td>   -0.227</td>\n",
       "</tr>\n",
       "<tr>\n",
       "  <th>ma.L3</th>  <td>   -0.4551</td> <td>    0.007</td> <td>  -63.806</td> <td> 0.000</td> <td>   -0.469</td> <td>   -0.441</td>\n",
       "</tr>\n",
       "<tr>\n",
       "  <th>ma.L4</th>  <td>   -0.0484</td> <td>    0.007</td> <td>   -6.595</td> <td> 0.000</td> <td>   -0.063</td> <td>   -0.034</td>\n",
       "</tr>\n",
       "<tr>\n",
       "  <th>ma.L5</th>  <td>    0.1551</td> <td>    0.009</td> <td>   17.303</td> <td> 0.000</td> <td>    0.138</td> <td>    0.173</td>\n",
       "</tr>\n",
       "<tr>\n",
       "  <th>ma.L6</th>  <td>   -0.0288</td> <td>    0.007</td> <td>   -4.068</td> <td> 0.000</td> <td>   -0.043</td> <td>   -0.015</td>\n",
       "</tr>\n",
       "<tr>\n",
       "  <th>ma.L7</th>  <td>   -0.0242</td> <td>    0.007</td> <td>   -3.695</td> <td> 0.000</td> <td>   -0.037</td> <td>   -0.011</td>\n",
       "</tr>\n",
       "<tr>\n",
       "  <th>ma.L8</th>  <td>   -0.0254</td> <td>    0.010</td> <td>   -2.623</td> <td> 0.009</td> <td>   -0.044</td> <td>   -0.006</td>\n",
       "</tr>\n",
       "<tr>\n",
       "  <th>ma.L9</th>  <td>    0.0328</td> <td>    0.006</td> <td>    5.138</td> <td> 0.000</td> <td>    0.020</td> <td>    0.045</td>\n",
       "</tr>\n",
       "<tr>\n",
       "  <th>ma.L10</th> <td>    0.0416</td> <td>    0.006</td> <td>    6.968</td> <td> 0.000</td> <td>    0.030</td> <td>    0.053</td>\n",
       "</tr>\n",
       "<tr>\n",
       "  <th>sigma2</th> <td> 1.807e-06</td> <td> 4.54e-09</td> <td>  398.091</td> <td> 0.000</td> <td>  1.8e-06</td> <td> 1.82e-06</td>\n",
       "</tr>\n",
       "</table>\n",
       "<table class=\"simpletable\">\n",
       "<tr>\n",
       "  <th>Ljung-Box (L1) (Q):</th>     <td>4.31</td> <th>  Jarque-Bera (JB):  </th> <td>80770711.01</td>\n",
       "</tr>\n",
       "<tr>\n",
       "  <th>Prob(Q):</th>                <td>0.04</td> <th>  Prob(JB):          </th>    <td>0.00</td>    \n",
       "</tr>\n",
       "<tr>\n",
       "  <th>Heteroskedasticity (H):</th> <td>0.00</td> <th>  Skew:              </th>    <td>17.65</td>   \n",
       "</tr>\n",
       "<tr>\n",
       "  <th>Prob(H) (two-sided):</th>    <td>0.00</td> <th>  Kurtosis:          </th>   <td>518.56</td>   \n",
       "</tr>\n",
       "</table><br/><br/>Warnings:<br/>[1] Covariance matrix calculated using the outer product of gradients (complex-step).<br/>[2] Covariance matrix is singular or near-singular, with condition number 7.12e+17. Standard errors may be unstable."
      ],
      "text/plain": [
       "<class 'statsmodels.iolib.summary.Summary'>\n",
       "\"\"\"\n",
       "                               SARIMAX Results                                \n",
       "==============================================================================\n",
       "Dep. Variable:         volatility_t+1   No. Observations:                 7260\n",
       "Model:                ARIMA(5, 1, 10)   Log Likelihood               37669.850\n",
       "Date:                Tue, 28 Mar 2023   AIC                         -75305.700\n",
       "Time:                        18:42:38   BIC                         -75188.570\n",
       "Sample:                             0   HQIC                        -75265.413\n",
       "                               - 7260                                         \n",
       "Covariance Type:                  opg                                         \n",
       "==============================================================================\n",
       "                 coef    std err          z      P>|z|      [0.025      0.975]\n",
       "------------------------------------------------------------------------------\n",
       "x1          8.387e-05   4.74e-05      1.771      0.077   -8.97e-06       0.000\n",
       "ar.L1          0.2221      0.005     48.917      0.000       0.213       0.231\n",
       "ar.L2          0.2383      0.006     39.408      0.000       0.226       0.250\n",
       "ar.L3          0.4916      0.006     85.870      0.000       0.480       0.503\n",
       "ar.L4          0.0217      0.005      4.308      0.000       0.012       0.032\n",
       "ar.L5         -0.1522      0.007    -22.517      0.000      -0.165      -0.139\n",
       "ma.L1         -0.0630      0.005    -12.935      0.000      -0.073      -0.053\n",
       "ma.L2         -0.2401      0.007    -35.920      0.000      -0.253      -0.227\n",
       "ma.L3         -0.4551      0.007    -63.806      0.000      -0.469      -0.441\n",
       "ma.L4         -0.0484      0.007     -6.595      0.000      -0.063      -0.034\n",
       "ma.L5          0.1551      0.009     17.303      0.000       0.138       0.173\n",
       "ma.L6         -0.0288      0.007     -4.068      0.000      -0.043      -0.015\n",
       "ma.L7         -0.0242      0.007     -3.695      0.000      -0.037      -0.011\n",
       "ma.L8         -0.0254      0.010     -2.623      0.009      -0.044      -0.006\n",
       "ma.L9          0.0328      0.006      5.138      0.000       0.020       0.045\n",
       "ma.L10         0.0416      0.006      6.968      0.000       0.030       0.053\n",
       "sigma2      1.807e-06   4.54e-09    398.091      0.000     1.8e-06    1.82e-06\n",
       "===================================================================================\n",
       "Ljung-Box (L1) (Q):                   4.31   Jarque-Bera (JB):          80770711.01\n",
       "Prob(Q):                              0.04   Prob(JB):                         0.00\n",
       "Heteroskedasticity (H):               0.00   Skew:                            17.65\n",
       "Prob(H) (two-sided):                  0.00   Kurtosis:                       518.56\n",
       "===================================================================================\n",
       "\n",
       "Warnings:\n",
       "[1] Covariance matrix calculated using the outer product of gradients (complex-step).\n",
       "[2] Covariance matrix is singular or near-singular, with condition number 7.12e+17. Standard errors may be unstable.\n",
       "\"\"\""
      ]
     },
     "execution_count": 336,
     "metadata": {},
     "output_type": "execute_result"
    }
   ],
   "source": [
    "## p,d,q\n",
    "from statsmodels.tsa.arima.model import ARIMA\n",
    "\n",
    "arima = ARIMA(y_arima, order=(5, 1, 10), trend='t')\n",
    "arima = arima.fit()\n",
    "arima.summary()"
   ]
  },
  {
   "cell_type": "markdown",
   "id": "ec77e130",
   "metadata": {
    "heading_collapsed": true,
    "hidden": true
   },
   "source": [
    "#### Forcasting plots (Evaluate model performance)"
   ]
  },
  {
   "cell_type": "code",
   "execution_count": 340,
   "id": "945a80ba",
   "metadata": {
    "hidden": true
   },
   "outputs": [
    {
     "data": {
      "image/png": "[encoded data removed]",
      "text/plain": [
       "<Figure size 1200x500 with 1 Axes>"
      ]
     },
     "metadata": {},
     "output_type": "display_data"
    }
   ],
   "source": [
    "fig, axs = plt.subplots(1, 1, figsize=(12, 5))\n",
    "axs.plot(y_arima, label='y_arima');\n",
    "plot_predict(arima, start=1, end=8000, ax=axs);\n",
    "\n",
    "plt.show()"
   ]
  },
  {
   "cell_type": "code",
   "execution_count": 343,
   "id": "2d70c8a8",
   "metadata": {
    "hidden": true
   },
   "outputs": [
    {
     "data": {
      "image/png": "[encoded data removed]",
      "text/plain": [
       "<Figure size 1200x500 with 1 Axes>"
      ]
     },
     "metadata": {},
     "output_type": "display_data"
    }
   ],
   "source": [
    "fig, axs = plt.subplots(1, 1, figsize=(12, 5))\n",
    "axs.plot(y_arima, label='y')\n",
    "plot_predict(arima, start=1, end=8000, ax=axs, dynamic=True);\n",
    "plt.show()"
   ]
  },
  {
   "cell_type": "markdown",
   "id": "efe3775e",
   "metadata": {
    "heading_collapsed": true,
    "hidden": true
   },
   "source": [
    "#### Out-of-Sample Forecasts (real \"future\")"
   ]
  },
  {
   "cell_type": "code",
   "execution_count": 347,
   "id": "942539cf",
   "metadata": {
    "hidden": true
   },
   "outputs": [],
   "source": [
    "y_arima = y_arima.reset_index()"
   ]
  },
  {
   "cell_type": "code",
   "execution_count": 349,
   "id": "447822fe",
   "metadata": {
    "hidden": true
   },
   "outputs": [],
   "source": [
    "y = y_arima['volatility_t+1']"
   ]
  },
  {
   "cell_type": "code",
   "execution_count": 374,
   "id": "b5e9e35a",
   "metadata": {
    "hidden": true
   },
   "outputs": [
    {
     "data": {
      "image/png": "[encoded data removed]",
      "text/plain": [
       "<Figure size 1200x500 with 1 Axes>"
      ]
     },
     "metadata": {},
     "output_type": "display_data"
    }
   ],
   "source": [
    "train = y[0:6170]\n",
    "test = y[6170:]\n",
    "\n",
    "arima2 = ARIMA(train, order=(5, 1, 10), trend='t')\n",
    "arima2 = arima2.fit()\n",
    "\n",
    "fig, axs = plt.subplots(1, 1, figsize=(12, 5))\n",
    "axs.plot(train, label='train y (first 6170)')\n",
    "plot_predict(arima2, start=1, end=7000, ax=axs, dynamic=False);\n",
    "plt.show()"
   ]
  },
  {
   "cell_type": "code",
   "execution_count": 375,
   "id": "cb88027a",
   "metadata": {
    "hidden": true
   },
   "outputs": [],
   "source": [
    "forecast_results = arima2.get_forecast(len(test), alpha=0.05)\n",
    "\n",
    "## Here are the forcasts\n",
    "forecast_train = forecast_results.predicted_mean\n",
    "\n",
    "## Here are the confidence intervals\n",
    "confidence_int = forecast_results.conf_int().values"
   ]
  },
  {
   "cell_type": "code",
   "execution_count": 376,
   "id": "23359111",
   "metadata": {
    "hidden": true
   },
   "outputs": [],
   "source": [
    "# We define here a \"Plot forecast vs. real\", which also shows historical training set\n",
    "\n",
    "def plot_forecast(fc, train, test, upper=None, lower=None):\n",
    "    is_confidence_int = isinstance(upper, np.ndarray) and isinstance(lower, np.ndarray)\n",
    "    # Prepare plot series\n",
    "    fc_series = pd.Series(fc, index=test.index)\n",
    "    lower_series = pd.Series(upper, index=test.index) if is_confidence_int else None\n",
    "    upper_series = pd.Series(lower, index=test.index) if is_confidence_int else None\n",
    "\n",
    "    # Plot\n",
    "    plt.figure(figsize=(10,4), dpi=100)\n",
    "    plt.plot(train, label='training', color='black')\n",
    "    plt.plot(test, label='actual', color='black', ls='--')\n",
    "    plt.plot(fc_series, label='forecast', color='orange')\n",
    "    if is_confidence_int:\n",
    "        plt.fill_between(lower_series.index, lower_series, upper_series, color='k', alpha=.15)\n",
    "    plt.title('Forecast vs Actuals')\n",
    "    plt.legend(loc='upper left', fontsize=8);"
   ]
  },
  {
   "cell_type": "code",
   "execution_count": 378,
   "id": "884657f6",
   "metadata": {
    "hidden": true
   },
   "outputs": [
    {
     "data": {
      "image/png": "[encoded data removed]",
      "text/plain": [
       "<Figure size 1000x400 with 1 Axes>"
      ]
     },
     "metadata": {},
     "output_type": "display_data"
    },
    {
     "data": {
      "image/png": "[encoded data removed]",
      "text/plain": [
       "<Figure size 1000x400 with 1 Axes>"
      ]
     },
     "metadata": {},
     "output_type": "display_data"
    }
   ],
   "source": [
    "plot_forecast(forecast_train, train, test, confidence_int[:,0], confidence_int[:,1])\n",
    "plt.show()"
   ]
  },
  {
   "cell_type": "markdown",
   "id": "7750bab9",
   "metadata": {
    "heading_collapsed": true,
    "hidden": true
   },
   "source": [
    "#### Condition for inference"
   ]
  },
  {
   "cell_type": "code",
   "execution_count": 379,
   "id": "9bd33175",
   "metadata": {
    "hidden": true
   },
   "outputs": [
    {
     "data": {
      "image/png": "[encoded data removed]",
      "text/plain": [
       "<Figure size 1600x300 with 2 Axes>"
      ]
     },
     "metadata": {},
     "output_type": "display_data"
    }
   ],
   "source": [
    "residuals = pd.DataFrame(arima2.resid)\n",
    "\n",
    "fig, ax = plt.subplots(1,2, figsize=(16,3))\n",
    "residuals.plot(title=\"Residuals\", ax=ax[0])\n",
    "residuals.plot(kind='kde', title='Density', ax=ax[1]);\n",
    "plt.show()"
   ]
  },
  {
   "cell_type": "markdown",
   "id": "ebd0a8fc",
   "metadata": {
    "hidden": true
   },
   "source": [
    "#### Cross-validation perfromance matrics"
   ]
  },
  {
   "cell_type": "code",
   "execution_count": 382,
   "id": "7dd83a23",
   "metadata": {
    "hidden": true
   },
   "outputs": [],
   "source": [
    "def forecast_accuracy(y_pred: pd.Series, y_true: pd.Series) -> float:\n",
    "    \n",
    "    mape = np.mean(np.abs(y_pred - y_true)/np.abs(y_true))  # Mean Absolute Percentage Error\n",
    "    me = np.mean(y_pred - y_true)             # ME\n",
    "    mae = np.mean(np.abs(y_pred - y_true))    # MAE\n",
    "    mpe = np.mean((y_pred - y_true)/y_true)   # MPE\n",
    "    rmse = np.mean((y_pred - y_true)**2)**.5  # RMSE\n",
    "    corr = np.corrcoef(y_pred, y_true)[0,1]   # Correlation between the Actual and the Forecast\n",
    "    mins = np.amin(np.hstack([y_pred.values.reshape(-1,1), y_true.values.reshape(-1,1)]), axis=1)\n",
    "    maxs = np.amax(np.hstack([y_pred.values.reshape(-1,1), y_true.values.reshape(-1,1)]), axis=1)\n",
    "    minmax = 1 - np.mean(mins/maxs)             # minmax\n",
    "    acf1 = acf(y_pred-y_true, fft=False)[1]                      # Lag 1 Autocorrelation of Error\n",
    "\n",
    "    forecast = ({\n",
    "        'mape':mape,\n",
    "        'me':me,\n",
    "        'mae': mae,\n",
    "        'mpe': mpe,\n",
    "        'rmse':rmse,\n",
    "        'acf1':acf1,\n",
    "        'corr':corr,\n",
    "        'minmax':minmax\n",
    "    })\n",
    "\n",
    "    return forecast"
   ]
  },
  {
   "cell_type": "code",
   "execution_count": 383,
   "id": "8a1fd8d6",
   "metadata": {
    "hidden": true,
    "scrolled": true
   },
   "outputs": [
    {
     "data": {
      "text/plain": [
       "{'mape': 0.09992800978516414,\n",
       " 'me': 0.08861209421815305,\n",
       " 'mae': 0.08861209421815305,\n",
       " 'mpe': 0.09992800978516414,\n",
       " 'rmse': 0.102087480133344,\n",
       " 'acf1': 0.9972836417074067,\n",
       " 'corr': -0.9987079501490795,\n",
       " 'minmax': 0.0882766644398264}"
      ]
     },
     "execution_count": 383,
     "metadata": {},
     "output_type": "execute_result"
    }
   ],
   "source": [
    "forecast_accuracy(forecast_train, test)"
   ]
  },
  {
   "cell_type": "markdown",
   "id": "738670e7",
   "metadata": {
    "heading_collapsed": true,
    "hidden": true
   },
   "source": [
    "#### Grid Search for further improvements"
   ]
  },
  {
   "cell_type": "code",
   "execution_count": 388,
   "id": "04e7d58a",
   "metadata": {
    "hidden": true
   },
   "outputs": [
    {
     "name": "stdout",
     "output_type": "stream",
     "text": [
      "Performing stepwise search to minimize aic\n",
      " ARIMA(0,1,0)(0,0,0)[0] intercept   : AIC=-62659.075, Time=0.45 sec\n",
      " ARIMA(1,1,0)(0,0,0)[0] intercept   : AIC=-62835.645, Time=0.77 sec\n",
      " ARIMA(0,1,1)(0,0,0)[0] intercept   : AIC=-62816.826, Time=0.81 sec\n",
      " ARIMA(0,1,0)(0,0,0)[0]             : AIC=-62625.393, Time=0.09 sec\n",
      " ARIMA(2,1,0)(0,0,0)[0] intercept   : AIC=-62847.441, Time=1.11 sec\n",
      " ARIMA(3,1,0)(0,0,0)[0] intercept   : AIC=-62888.482, Time=1.02 sec\n",
      " ARIMA(3,1,1)(0,0,0)[0] intercept   : AIC=-62883.497, Time=0.88 sec\n",
      " ARIMA(2,1,1)(0,0,0)[0] intercept   : AIC=-62840.424, Time=1.32 sec\n",
      " ARIMA(3,1,0)(0,0,0)[0]             : AIC=-62872.245, Time=0.53 sec\n",
      "\n",
      "Best model:  ARIMA(3,1,0)(0,0,0)[0] intercept\n",
      "Total fit time: 7.079 seconds\n",
      "                               SARIMAX Results                                \n",
      "==============================================================================\n",
      "Dep. Variable:                      y   No. Observations:                 6170\n",
      "Model:               SARIMAX(3, 1, 0)   Log Likelihood               31449.241\n",
      "Date:                Tue, 28 Mar 2023   AIC                         -62888.482\n",
      "Time:                        22:13:05   BIC                         -62854.845\n",
      "Sample:                             0   HQIC                        -62876.817\n",
      "                               - 6170                                         \n",
      "Covariance Type:                  opg                                         \n",
      "==============================================================================\n",
      "                 coef    std err          z      P>|z|      [0.025      0.975]\n",
      "------------------------------------------------------------------------------\n",
      "intercept   8.396e-05   3.07e-05      2.737      0.006    2.38e-05       0.000\n",
      "ar.L1          0.1378      0.003     54.340      0.000       0.133       0.143\n",
      "ar.L2          0.0331      0.004      8.180      0.000       0.025       0.041\n",
      "ar.L3          0.0835      0.003     27.493      0.000       0.078       0.089\n",
      "sigma2      2.181e-06   5.06e-09    430.634      0.000    2.17e-06    2.19e-06\n",
      "===================================================================================\n",
      "Ljung-Box (L1) (Q):                   1.27   Jarque-Bera (JB):          42887764.66\n",
      "Prob(Q):                              0.26   Prob(JB):                         0.00\n",
      "Heteroskedasticity (H):               0.01   Skew:                            15.62\n",
      "Prob(H) (two-sided):                  0.00   Kurtosis:                       410.28\n",
      "===================================================================================\n",
      "\n",
      "Warnings:\n",
      "[1] Covariance matrix calculated using the outer product of gradients (complex-step).\n"
     ]
    }
   ],
   "source": [
    "model = pm.auto_arima(\n",
    "    train, \n",
    "    start_p=0, max_p=3,\n",
    "    start_q=0, max_q=3, \n",
    "    d=None,           # let model determine 'd'\n",
    "    test='adf',       # using adf test to find optimal 'd'\n",
    "    trace=True, error_action='ignore',  suppress_warnings=True\n",
    ")\n",
    "\n",
    "print(model.summary())\n",
    "## optimal is (0,2,3)"
   ]
  },
  {
   "cell_type": "markdown",
   "id": "fe0d29d8",
   "metadata": {
    "hidden": true
   },
   "source": [
    "The best model suggested here is ARMIA (3,1,0) (0,0,0) [0] intercept"
   ]
  },
  {
   "cell_type": "markdown",
   "id": "019bdbb7",
   "metadata": {
    "heading_collapsed": true,
    "hidden": true
   },
   "source": [
    "#### Attempt with the suggested params"
   ]
  },
  {
   "cell_type": "markdown",
   "id": "130ef05c",
   "metadata": {
    "hidden": true
   },
   "source": [
    "The best model suggested here is ARMIA (3,1,0) (0,0,0) [0] intercept"
   ]
  },
  {
   "cell_type": "code",
   "execution_count": 396,
   "id": "4a3ead8a",
   "metadata": {
    "hidden": true
   },
   "outputs": [
    {
     "name": "stderr",
     "output_type": "stream",
     "text": [
      "/opt/homebrew/lib/python3.10/site-packages/statsmodels/base/model.py:604: ConvergenceWarning: Maximum Likelihood optimization failed to converge. Check mle_retvals\n",
      "  warnings.warn(\"Maximum Likelihood optimization failed to \"\n"
     ]
    },
    {
     "data": {
      "image/png": "[encoded data removed]",
      "text/plain": [
       "<Figure size 1200x500 with 1 Axes>"
      ]
     },
     "metadata": {},
     "output_type": "display_data"
    }
   ],
   "source": [
    "train = y[0:6170]\n",
    "test = y[6170:]\n",
    "\n",
    "arima3 = ARIMA(train, order=(3, 1, 0), trend='t')\n",
    "arima3 = arima3.fit()\n",
    "\n",
    "fig, axs = plt.subplots(1, 1, figsize=(12, 5))\n",
    "axs.plot(train, label='train y (first 6170)')\n",
    "plot_predict(arima2, start=1, end=7000, ax=axs, dynamic=False);\n",
    "plt.show()"
   ]
  },
  {
   "cell_type": "code",
   "execution_count": 397,
   "id": "f126e9cd",
   "metadata": {
    "hidden": true
   },
   "outputs": [],
   "source": [
    "forecast_results = arima3.get_forecast(len(test), alpha=0.05)\n",
    "\n",
    "## Here are the forcasts\n",
    "forecast_train = forecast_results.predicted_mean\n",
    "\n",
    "## Here are the confidence intervals\n",
    "confidence_int = forecast_results.conf_int().values"
   ]
  },
  {
   "cell_type": "code",
   "execution_count": 398,
   "id": "ee5672f8",
   "metadata": {
    "hidden": true
   },
   "outputs": [
    {
     "data": {
      "image/png": "[encoded data removed]",
      "text/plain": [
       "<Figure size 1000x400 with 1 Axes>"
      ]
     },
     "metadata": {},
     "output_type": "display_data"
    }
   ],
   "source": [
    "plot_forecast(forecast_train, train, test, confidence_int[:,0], confidence_int[:,1])\n",
    "plt.show()"
   ]
  },
  {
   "cell_type": "code",
   "execution_count": 399,
   "id": "7c09316c",
   "metadata": {
    "hidden": true
   },
   "outputs": [
    {
     "data": {
      "image/png": "[encoded data removed]",
      "text/plain": [
       "<Figure size 1600x300 with 2 Axes>"
      ]
     },
     "metadata": {},
     "output_type": "display_data"
    }
   ],
   "source": [
    "residuals = pd.DataFrame(arima3.resid)\n",
    "\n",
    "fig, ax = plt.subplots(1,2, figsize=(16,3))\n",
    "residuals.plot(title=\"Residuals\", ax=ax[0])\n",
    "residuals.plot(kind='kde', title='Density', ax=ax[1]);\n",
    "plt.show()"
   ]
  },
  {
   "cell_type": "code",
   "execution_count": 400,
   "id": "9c72f8fb",
   "metadata": {
    "hidden": true
   },
   "outputs": [
    {
     "data": {
      "text/plain": [
       "{'mape': 0.10393559272635704,\n",
       " 'me': 0.09217272798828029,\n",
       " 'mae': 0.09217272798828029,\n",
       " 'mpe': 0.10393559272635704,\n",
       " 'rmse': 0.10600693084028967,\n",
       " 'acf1': 0.9972635973200906,\n",
       " 'corr': -0.9987247987392772,\n",
       " 'minmax': 0.09143280605237325}"
      ]
     },
     "execution_count": 400,
     "metadata": {},
     "output_type": "execute_result"
    }
   ],
   "source": [
    "forecast_accuracy(forecast_train, test)"
   ]
  },
  {
   "cell_type": "markdown",
   "id": "a4e6387f",
   "metadata": {
    "heading_collapsed": true,
    "hidden": true
   },
   "source": [
    "### Boosted-Linear Auto-ARIMA (mape:0.047) "
   ]
  },
  {
   "cell_type": "markdown",
   "id": "a9fedb46",
   "metadata": {
    "hidden": true
   },
   "source": [
    "Source: https://towardsdatascience.com/gradient-boosted-arima-for-time-series-forecasting-e093f80772f6"
   ]
  },
  {
   "cell_type": "markdown",
   "id": "44c75a33",
   "metadata": {
    "hidden": true
   },
   "source": [
    "ThymeBoost: https://github.com/tblume1992/ThymeBoost"
   ]
  },
  {
   "cell_type": "code",
   "execution_count": 490,
   "id": "42be37b9",
   "metadata": {
    "hidden": true
   },
   "outputs": [
    {
     "name": "stdout",
     "output_type": "stream",
     "text": [
      "********** Round 1 **********\n",
      "Using Split: None\n",
      "Fitting initial trend globally with trend model:\n",
      "median()\n",
      "seasonal model:\n",
      "None\n",
      "cost: 0.09694846538052182\n",
      "********** Round 2 **********\n",
      "Using Split: None\n",
      "Fitting global with trend model:\n",
      "linear((1, None))\n",
      "seasonal model:\n",
      "None\n",
      "cost: 0.01240948787199412\n",
      "********** Round 3 **********\n",
      "Using Split: None\n",
      "Fitting global with trend model:\n",
      "arima(auto)\n",
      "seasonal model:\n",
      "None\n",
      "cost: 3.6970097191897893e-06\n",
      "==============================\n",
      "Boosting Terminated \n",
      "Using round 3\n"
     ]
    }
   ],
   "source": [
    "boosted_model = tb.ThymeBoost(verbose=1)\n",
    "output = boosted_model.fit(train,\n",
    "                            trend_estimator=['linear', 'arima'],\n",
    "                            arima_order='auto',\n",
    "                            global_cost='mse')\n",
    "predicted_output = boosted_model.predict(output, len(test))\n",
    "tb_mae = np.mean(np.abs(test - predicted_output['predictions']))\n",
    "tb_rmse = (np.mean((test - predicted_output['predictions'])**2))**.5\n",
    "tb_mape = np.sum(np.abs(predicted_output['predictions'] - test)) / (np.sum((np.abs(test))))"
   ]
  },
  {
   "cell_type": "code",
   "execution_count": 520,
   "id": "ddd577a9",
   "metadata": {
    "hidden": true
   },
   "outputs": [],
   "source": [
    "boosted_model2 = tb.ThymeBoost(verbose=0,\n",
    "                           split_strategy='gradient')\n",
    "output2 = boosted_model2.fit(train,\n",
    "                           min_sample_pct=.2,\n",
    "                           trend_estimator=['linear'],\n",
    "                           additive = False,\n",
    "                            seasonal_estimator='fourier',\n",
    "                           seasonal_period=2500,\n",
    "                           global_cost='maicc',\n",
    "                           fit_type=['global', 'local'],\n",
    "                           )\n",
    "predicted_output2 = boosted_model2.predict(output2, len(test))"
   ]
  },
  {
   "cell_type": "code",
   "execution_count": null,
   "id": "37e22c97",
   "metadata": {
    "hidden": true
   },
   "outputs": [],
   "source": [
    "boosted_mode3 = tb.ThymeBoost(verbose=1)\n",
    "output = boosted_model.fit(train,\n",
    "                            trend_estimator=['smoother'],\n",
    "                            arima_order='auto',\n",
    "                            global_cost='mse')\n",
    "predicted_output = boosted_model.predict(output, len(test))\n",
    "tb_mae = np.mean(np.abs(test - predicted_output['predictions']))\n",
    "tb_rmse = (np.mean((test - predicted_output['predictions'])**2))**.5\n",
    "tb_mape = np.sum(np.abs(predicted_output['predictions'] - test)) / (np.sum((np.abs(test))))"
   ]
  },
  {
   "cell_type": "code",
   "execution_count": null,
   "id": "44e5834c",
   "metadata": {
    "hidden": true
   },
   "outputs": [],
   "source": [
    "tb_mape, tb_mae, tb_rmse, "
   ]
  },
  {
   "cell_type": "code",
   "execution_count": 500,
   "id": "f498fd61",
   "metadata": {
    "hidden": true
   },
   "outputs": [
    {
     "data": {
      "image/png": "[encoded data removed]",
      "text/plain": [
       "<Figure size 640x480 with 1 Axes>"
      ]
     },
     "metadata": {},
     "output_type": "display_data"
    }
   ],
   "source": [
    "plt.plot(test)\n",
    "plt.show()"
   ]
  },
  {
   "cell_type": "code",
   "execution_count": 406,
   "id": "3f75cecc",
   "metadata": {
    "hidden": true
   },
   "outputs": [
    {
     "data": {
      "text/plain": [
       "(0.004742652647796939, 0.004252360467151375, 0.005463235452542654)"
      ]
     },
     "execution_count": 406,
     "metadata": {},
     "output_type": "execute_result"
    }
   ],
   "source": [
    "tb_mape, tb_mae, tb_rmse, "
   ]
  },
  {
   "cell_type": "code",
   "execution_count": 509,
   "id": "22556920",
   "metadata": {
    "hidden": true
   },
   "outputs": [],
   "source": [
    "# import sklearn.metrics as metrics\n",
    "# def regression_results(y_true, y_pred):\n",
    "#     # Regression metrics\n",
    "#     explained_variance=metrics.explained_variance_score(y_true, y_pred)\n",
    "#     mean_absolute_error=metrics.mean_absolute_error(y_true, y_pred) \n",
    "#     mse=metrics.mean_squared_error(y_true, y_pred) \n",
    "#     mean_squared_log_error=metrics.mean_squared_log_error(y_true, y_pred)\n",
    "#     median_absolute_error=metrics.median_absolute_error(y_true, y_pred)\n",
    "#     r2=metrics.r2_score(y_true, y_pred)\n",
    "#     print('explained_variance: ', round(explained_variance,4))    \n",
    "#     print('mean_squared_log_error: ', round(mean_squared_log_error,4))\n",
    "#     print('r2: ', round(r2,4))\n",
    "#     print('MAE: ', round(mean_absolute_error,4))\n",
    "#     print('MSE: ', round(mse,4))\n",
    "#     print('RMSE: ', round(np.sqrt(mse),4))"
   ]
  },
  {
   "cell_type": "code",
   "execution_count": 508,
   "id": "b91a009c",
   "metadata": {
    "hidden": true,
    "scrolled": true
   },
   "outputs": [],
   "source": [
    "# regression_results(test, predicted_output['predictions'])"
   ]
  },
  {
   "cell_type": "code",
   "execution_count": 511,
   "id": "cfa5b152",
   "metadata": {
    "hidden": true
   },
   "outputs": [
    {
     "data": {
      "text/plain": [
       "(0.06501758412746872, 0.05829611083615127, 0.06845419445042684)"
      ]
     },
     "execution_count": 511,
     "metadata": {},
     "output_type": "execute_result"
    }
   ],
   "source": [
    "tb2_mae = np.mean(np.abs(test - predicted_output2['predictions']))\n",
    "tb2_rmse = (np.mean((test - predicted_output2['predictions'])**2))**.5\n",
    "tb2_mape = np.sum(np.abs(predicted_output2['predictions'] - test)) / (np.sum((np.abs(test))))\n",
    "\n",
    "tb2_mape, tb2_mae, tb2_rmse, "
   ]
  },
  {
   "cell_type": "markdown",
   "id": "1f9b3faa",
   "metadata": {
    "heading_collapsed": true
   },
   "source": [
    "## Gradient Boosting Random Forest 🚫"
   ]
  },
  {
   "cell_type": "markdown",
   "id": "5b298eeb",
   "metadata": {
    "heading_collapsed": true
   },
   "source": [
    "## Time series prediction with LSTM in Tensorflow (On Hold)"
   ]
  },
  {
   "cell_type": "code",
   "execution_count": null,
   "id": "42f5367f",
   "metadata": {
    "hidden": true
   },
   "outputs": [],
   "source": []
  },
  {
   "cell_type": "code",
   "execution_count": null,
   "id": "7db9a4d3",
   "metadata": {
    "hidden": true
   },
   "outputs": [],
   "source": []
  },
  {
   "cell_type": "markdown",
   "id": "e2b71e82",
   "metadata": {
    "heading_collapsed": true
   },
   "source": [
    "# Test for overfitting using time split validation"
   ]
  },
  {
   "cell_type": "markdown",
   "id": "d2178afb",
   "metadata": {
    "hidden": true
   },
   "source": [
    "Might not be worth it: https://towardsdatascience.com/time-series-modeling-using-scikit-pandas-and-numpy-682e3b8db8d1"
   ]
  },
  {
   "cell_type": "code",
   "execution_count": 423,
   "id": "a6e8d043",
   "metadata": {
    "hidden": true
   },
   "outputs": [],
   "source": [
    "train = y[0:6170]\n",
    "test = y[6170:]"
   ]
  },
  {
   "cell_type": "code",
   "execution_count": 424,
   "id": "4b0b85b9",
   "metadata": {
    "hidden": true,
    "scrolled": true
   },
   "outputs": [
    {
     "data": {
      "text/plain": [
       "(6170, 1090)"
      ]
     },
     "execution_count": 424,
     "metadata": {},
     "output_type": "execute_result"
    }
   ],
   "source": [
    "len(train), len(test)"
   ]
  },
  {
   "cell_type": "code",
   "execution_count": 452,
   "id": "3ef66d09",
   "metadata": {
    "hidden": true
   },
   "outputs": [],
   "source": [
    "# # Spot Check Algorithms\n",
    "# models = []\n",
    "# models.append(('BARIMA', tb.ThymeBoost(verbose=1)))\n",
    "\n",
    "# # Evaluate each model in turn\n",
    "# results = []\n",
    "# names = []\n",
    "# for name, model in models:\n",
    "#     # TimeSeries Cross validation\n",
    "#     tscv = TimeSeriesSplit(n_splits=len(train))\n",
    "    \n",
    "#     cv_results = cross_val_score(model, train,test, cv=tscv, scoring='r2')\n",
    "#     results.append(cv_results)\n",
    "#     names.append(name)\n",
    "#     print('%s: %f (%f)' % (name, cv_results.mean(), cv_results.std()))\n",
    "    \n",
    "# # Compare Algorithms\n",
    "# plt.boxplot(results, labels=names)\n",
    "# plt.title('Algorithm Comparison')\n",
    "# plt.show()"
   ]
  },
  {
   "cell_type": "code",
   "execution_count": null,
   "id": "1f100b1a",
   "metadata": {
    "hidden": true
   },
   "outputs": [],
   "source": [
    "import numpy as np\n",
    "from sklearn.model_selection import learning_curve\n",
    "\n",
    "train_sizes = [25,50,75,100,250,500,750,1000,1150]\n",
    "# Get train scores (R2), train sizes, and validation scores using `learning_curve`\n",
    "train_sizes, train_scores, test_scores = learning_curve(\n",
    "    estimator=boosted_model(), X=train, y=test, train_sizes=train_sizes, cv=5)\n",
    "\n",
    "# Take the mean of cross-validated train scores and validation scores\n",
    "train_scores_mean = np.mean(train_scores, axis=1)\n",
    "test_scores_mean = np.mean(test_scores, axis=1)\n",
    "#plt.plot(train_sizes, train_scores_mean, label = 'Training score')\n",
    "#plt.plot(train_sizes, test_scores_mean, label = 'Test score')\n",
    "#plt.ylabel('r2 score', fontsize = 14)\n",
    "#plt.xlabel('Training set size', fontsize = 14)\n",
    "#plt.title('Learning curves', fontsize = 18, y = 1.03)\n",
    "#plt.legend()"
   ]
  },
  {
   "cell_type": "code",
   "execution_count": 453,
   "id": "b4d25b3e",
   "metadata": {
    "hidden": true
   },
   "outputs": [],
   "source": [
    "# X_train = data_consumption[:'2016'].drop(['Consumption'], axis = 1)\n",
    "# y_train = data_consumption.loc[:'2016', 'Consumption']\n",
    "# X_test = data_consumption['2017'].drop(['Consumption'], axis = 1)\n",
    "# y_test = data_consumption.loc['2017', 'Consumption']"
   ]
  },
  {
   "cell_type": "code",
   "execution_count": 454,
   "id": "0a6ce378",
   "metadata": {
    "hidden": true
   },
   "outputs": [],
   "source": [
    "# # Spot Check Algorithms\n",
    "# models = []\n",
    "# models.append(('LR', LinearRegression()))\n",
    "# models.append(('NN', MLPRegressor(solver = 'lbfgs')))  #neural network\n",
    "# models.append(('KNN', KNeighborsRegressor())) \n",
    "# models.append(('RF', RandomForestRegressor(n_estimators = 10))) # Ensemble method - collection of many decision trees\n",
    "# models.append(('SVR', SVR(gamma='auto'))) # kernel = linear\n",
    "# # Evaluate each model in turn\n",
    "# results = []\n",
    "# names = []\n",
    "# for name, model in models:\n",
    "#     # TimeSeries Cross validation\n",
    "#     tscv = TimeSeriesSplit(n_splits=10)\n",
    "    \n",
    "#     cv_results = cross_val_score(model, X_train, y_train, cv=tscv, scoring='r2')\n",
    "#     results.append(cv_results)\n",
    "#     names.append(name)\n",
    "#     print('%s: %f (%f)' % (name, cv_results.mean(), cv_results.std()))\n",
    "    \n",
    "# # Compare Algorithms\n",
    "# plt.boxplot(results, labels=names)\n",
    "# plt.title('Algorithm Comparison')\n",
    "# plt.show()"
   ]
  },
  {
   "cell_type": "markdown",
   "id": "d12af39f",
   "metadata": {
    "heading_collapsed": true
   },
   "source": [
    "# Random Trials"
   ]
  },
  {
   "cell_type": "code",
   "execution_count": 536,
   "id": "208365e4",
   "metadata": {
    "hidden": true
   },
   "outputs": [
    {
     "data": {
      "text/html": [
       "<div>\n",
       "<style scoped>\n",
       "    .dataframe tbody tr th:only-of-type {\n",
       "        vertical-align: middle;\n",
       "    }\n",
       "\n",
       "    .dataframe tbody tr th {\n",
       "        vertical-align: top;\n",
       "    }\n",
       "\n",
       "    .dataframe thead th {\n",
       "        text-align: right;\n",
       "    }\n",
       "</style>\n",
       "<table border=\"1\" class=\"dataframe\">\n",
       "  <thead>\n",
       "    <tr style=\"text-align: right;\">\n",
       "      <th></th>\n",
       "      <th>log_price</th>\n",
       "      <th>scrape_time</th>\n",
       "      <th>lastUpdateId</th>\n",
       "      <th>bids_price_01</th>\n",
       "      <th>bids_size_01</th>\n",
       "      <th>bids_price_02</th>\n",
       "      <th>bids_size_02</th>\n",
       "      <th>ask_price_01</th>\n",
       "      <th>ask_size_01</th>\n",
       "      <th>ask_price_02</th>\n",
       "      <th>ask_size_02</th>\n",
       "      <th>WAP</th>\n",
       "      <th>spread</th>\n",
       "      <th>log_returns</th>\n",
       "      <th>volatility_t+1</th>\n",
       "      <th>bid depth</th>\n",
       "      <th>ask depth</th>\n",
       "      <th>FDOFI</th>\n",
       "    </tr>\n",
       "  </thead>\n",
       "  <tbody>\n",
       "    <tr>\n",
       "      <th>0</th>\n",
       "      <td>10.236571</td>\n",
       "      <td>2023-03-27 10:30:36</td>\n",
       "      <td>17668615506</td>\n",
       "      <td>27905.28</td>\n",
       "      <td>12.59899</td>\n",
       "      <td>27904.92</td>\n",
       "      <td>0.01921</td>\n",
       "      <td>27905.29</td>\n",
       "      <td>1.58571</td>\n",
       "      <td>27905.30</td>\n",
       "      <td>1.02708</td>\n",
       "      <td>27905.281936</td>\n",
       "      <td>3.583551e-07</td>\n",
       "      <td>2.385111e-09</td>\n",
       "      <td>0.000000</td>\n",
       "      <td>12.61820</td>\n",
       "      <td>2.61279</td>\n",
       "      <td>0.656911</td>\n",
       "    </tr>\n",
       "    <tr>\n",
       "      <th>1</th>\n",
       "      <td>10.236571</td>\n",
       "      <td>2023-03-27 10:30:41</td>\n",
       "      <td>17668615812</td>\n",
       "      <td>27905.28</td>\n",
       "      <td>13.05932</td>\n",
       "      <td>27905.15</td>\n",
       "      <td>0.00208</td>\n",
       "      <td>27905.29</td>\n",
       "      <td>3.29816</td>\n",
       "      <td>27905.30</td>\n",
       "      <td>0.00252</td>\n",
       "      <td>27905.282002</td>\n",
       "      <td>3.583551e-07</td>\n",
       "      <td>2.385111e-09</td>\n",
       "      <td>0.000000</td>\n",
       "      <td>13.06140</td>\n",
       "      <td>3.30068</td>\n",
       "      <td>0.596545</td>\n",
       "    </tr>\n",
       "    <tr>\n",
       "      <th>2</th>\n",
       "      <td>10.236710</td>\n",
       "      <td>2023-03-27 10:30:45</td>\n",
       "      <td>17668616793</td>\n",
       "      <td>27909.14</td>\n",
       "      <td>10.13004</td>\n",
       "      <td>27909.03</td>\n",
       "      <td>0.09094</td>\n",
       "      <td>27909.15</td>\n",
       "      <td>5.28372</td>\n",
       "      <td>27909.94</td>\n",
       "      <td>0.09800</td>\n",
       "      <td>27909.147770</td>\n",
       "      <td>3.583056e-07</td>\n",
       "      <td>1.385222e-04</td>\n",
       "      <td>0.000069</td>\n",
       "      <td>10.22098</td>\n",
       "      <td>5.38172</td>\n",
       "      <td>0.310155</td>\n",
       "    </tr>\n",
       "    <tr>\n",
       "      <th>3</th>\n",
       "      <td>10.236710</td>\n",
       "      <td>2023-03-27 10:30:50</td>\n",
       "      <td>17668617069</td>\n",
       "      <td>27909.14</td>\n",
       "      <td>9.63960</td>\n",
       "      <td>27909.03</td>\n",
       "      <td>0.09094</td>\n",
       "      <td>27909.15</td>\n",
       "      <td>5.83321</td>\n",
       "      <td>27909.16</td>\n",
       "      <td>0.00401</td>\n",
       "      <td>27909.143110</td>\n",
       "      <td>3.583056e-07</td>\n",
       "      <td>-1.669880e-07</td>\n",
       "      <td>0.000065</td>\n",
       "      <td>9.73054</td>\n",
       "      <td>5.83722</td>\n",
       "      <td>0.250089</td>\n",
       "    </tr>\n",
       "    <tr>\n",
       "      <th>4</th>\n",
       "      <td>10.236710</td>\n",
       "      <td>2023-03-27 10:30:54</td>\n",
       "      <td>17668617292</td>\n",
       "      <td>27909.14</td>\n",
       "      <td>0.22453</td>\n",
       "      <td>27908.60</td>\n",
       "      <td>0.00559</td>\n",
       "      <td>27909.15</td>\n",
       "      <td>6.31910</td>\n",
       "      <td>27909.16</td>\n",
       "      <td>0.00401</td>\n",
       "      <td>27909.149194</td>\n",
       "      <td>3.583056e-07</td>\n",
       "      <td>2.180208e-07</td>\n",
       "      <td>0.000060</td>\n",
       "      <td>0.23012</td>\n",
       "      <td>6.32311</td>\n",
       "      <td>-0.929769</td>\n",
       "    </tr>\n",
       "    <tr>\n",
       "      <th>...</th>\n",
       "      <td>...</td>\n",
       "      <td>...</td>\n",
       "      <td>...</td>\n",
       "      <td>...</td>\n",
       "      <td>...</td>\n",
       "      <td>...</td>\n",
       "      <td>...</td>\n",
       "      <td>...</td>\n",
       "      <td>...</td>\n",
       "      <td>...</td>\n",
       "      <td>...</td>\n",
       "      <td>...</td>\n",
       "      <td>...</td>\n",
       "      <td>...</td>\n",
       "      <td>...</td>\n",
       "      <td>...</td>\n",
       "      <td>...</td>\n",
       "      <td>...</td>\n",
       "    </tr>\n",
       "    <tr>\n",
       "      <th>7258</th>\n",
       "      <td>10.206226</td>\n",
       "      <td>2023-03-27 19:54:46</td>\n",
       "      <td>17675595465</td>\n",
       "      <td>27071.21</td>\n",
       "      <td>3.93922</td>\n",
       "      <td>27071.20</td>\n",
       "      <td>0.00232</td>\n",
       "      <td>27071.22</td>\n",
       "      <td>3.04686</td>\n",
       "      <td>27071.26</td>\n",
       "      <td>0.70701</td>\n",
       "      <td>27071.218550</td>\n",
       "      <td>3.693961e-07</td>\n",
       "      <td>1.207422e-07</td>\n",
       "      <td>0.000274</td>\n",
       "      <td>3.94154</td>\n",
       "      <td>3.75387</td>\n",
       "      <td>0.024387</td>\n",
       "    </tr>\n",
       "    <tr>\n",
       "      <th>7259</th>\n",
       "      <td>10.206227</td>\n",
       "      <td>2023-03-27 19:54:51</td>\n",
       "      <td>17675595763</td>\n",
       "      <td>27071.21</td>\n",
       "      <td>1.05540</td>\n",
       "      <td>27071.20</td>\n",
       "      <td>0.00232</td>\n",
       "      <td>27071.22</td>\n",
       "      <td>5.07080</td>\n",
       "      <td>27071.32</td>\n",
       "      <td>0.69941</td>\n",
       "      <td>27071.228691</td>\n",
       "      <td>3.693961e-07</td>\n",
       "      <td>3.745986e-07</td>\n",
       "      <td>0.000274</td>\n",
       "      <td>1.05772</td>\n",
       "      <td>5.77021</td>\n",
       "      <td>-0.690178</td>\n",
       "    </tr>\n",
       "    <tr>\n",
       "      <th>7260</th>\n",
       "      <td>10.206071</td>\n",
       "      <td>2023-03-27 19:54:56</td>\n",
       "      <td>17675596986</td>\n",
       "      <td>27067.00</td>\n",
       "      <td>0.40343</td>\n",
       "      <td>27066.84</td>\n",
       "      <td>0.38190</td>\n",
       "      <td>27067.01</td>\n",
       "      <td>7.31261</td>\n",
       "      <td>27067.05</td>\n",
       "      <td>0.30726</td>\n",
       "      <td>27067.003258</td>\n",
       "      <td>3.694536e-07</td>\n",
       "      <td>-1.560979e-04</td>\n",
       "      <td>0.000274</td>\n",
       "      <td>0.78533</td>\n",
       "      <td>7.61987</td>\n",
       "      <td>-0.813132</td>\n",
       "    </tr>\n",
       "    <tr>\n",
       "      <th>7261</th>\n",
       "      <td>10.205793</td>\n",
       "      <td>2023-03-27 19:55:00</td>\n",
       "      <td>17675598589</td>\n",
       "      <td>27059.43</td>\n",
       "      <td>1.50309</td>\n",
       "      <td>27058.51</td>\n",
       "      <td>0.09800</td>\n",
       "      <td>27059.44</td>\n",
       "      <td>4.31640</td>\n",
       "      <td>27060.11</td>\n",
       "      <td>0.55458</td>\n",
       "      <td>27059.481007</td>\n",
       "      <td>3.695569e-07</td>\n",
       "      <td>-2.779509e-04</td>\n",
       "      <td>0.000274</td>\n",
       "      <td>1.60109</td>\n",
       "      <td>4.87098</td>\n",
       "      <td>-0.505231</td>\n",
       "    </tr>\n",
       "    <tr>\n",
       "      <th>7262</th>\n",
       "      <td>10.205792</td>\n",
       "      <td>2023-03-27 19:55:05</td>\n",
       "      <td>17675599268</td>\n",
       "      <td>27059.43</td>\n",
       "      <td>3.24565</td>\n",
       "      <td>27059.42</td>\n",
       "      <td>0.00530</td>\n",
       "      <td>27059.44</td>\n",
       "      <td>5.76809</td>\n",
       "      <td>27059.61</td>\n",
       "      <td>0.76618</td>\n",
       "      <td>27059.449983</td>\n",
       "      <td>3.695569e-07</td>\n",
       "      <td>-1.146489e-06</td>\n",
       "      <td>0.000000</td>\n",
       "      <td>3.25095</td>\n",
       "      <td>6.53427</td>\n",
       "      <td>-0.335539</td>\n",
       "    </tr>\n",
       "  </tbody>\n",
       "</table>\n",
       "<p>7263 rows × 18 columns</p>\n",
       "</div>"
      ],
      "text/plain": [
       "      log_price          scrape_time  lastUpdateId  bids_price_01  \\\n",
       "0     10.236571  2023-03-27 10:30:36   17668615506       27905.28   \n",
       "1     10.236571  2023-03-27 10:30:41   17668615812       27905.28   \n",
       "2     10.236710  2023-03-27 10:30:45   17668616793       27909.14   \n",
       "3     10.236710  2023-03-27 10:30:50   17668617069       27909.14   \n",
       "4     10.236710  2023-03-27 10:30:54   17668617292       27909.14   \n",
       "...         ...                  ...           ...            ...   \n",
       "7258  10.206226  2023-03-27 19:54:46   17675595465       27071.21   \n",
       "7259  10.206227  2023-03-27 19:54:51   17675595763       27071.21   \n",
       "7260  10.206071  2023-03-27 19:54:56   17675596986       27067.00   \n",
       "7261  10.205793  2023-03-27 19:55:00   17675598589       27059.43   \n",
       "7262  10.205792  2023-03-27 19:55:05   17675599268       27059.43   \n",
       "\n",
       "      bids_size_01  bids_price_02  bids_size_02  ask_price_01  ask_size_01  \\\n",
       "0         12.59899       27904.92       0.01921      27905.29      1.58571   \n",
       "1         13.05932       27905.15       0.00208      27905.29      3.29816   \n",
       "2         10.13004       27909.03       0.09094      27909.15      5.28372   \n",
       "3          9.63960       27909.03       0.09094      27909.15      5.83321   \n",
       "4          0.22453       27908.60       0.00559      27909.15      6.31910   \n",
       "...            ...            ...           ...           ...          ...   \n",
       "7258       3.93922       27071.20       0.00232      27071.22      3.04686   \n",
       "7259       1.05540       27071.20       0.00232      27071.22      5.07080   \n",
       "7260       0.40343       27066.84       0.38190      27067.01      7.31261   \n",
       "7261       1.50309       27058.51       0.09800      27059.44      4.31640   \n",
       "7262       3.24565       27059.42       0.00530      27059.44      5.76809   \n",
       "\n",
       "      ask_price_02  ask_size_02           WAP        spread   log_returns  \\\n",
       "0         27905.30      1.02708  27905.281936  3.583551e-07  2.385111e-09   \n",
       "1         27905.30      0.00252  27905.282002  3.583551e-07  2.385111e-09   \n",
       "2         27909.94      0.09800  27909.147770  3.583056e-07  1.385222e-04   \n",
       "3         27909.16      0.00401  27909.143110  3.583056e-07 -1.669880e-07   \n",
       "4         27909.16      0.00401  27909.149194  3.583056e-07  2.180208e-07   \n",
       "...            ...          ...           ...           ...           ...   \n",
       "7258      27071.26      0.70701  27071.218550  3.693961e-07  1.207422e-07   \n",
       "7259      27071.32      0.69941  27071.228691  3.693961e-07  3.745986e-07   \n",
       "7260      27067.05      0.30726  27067.003258  3.694536e-07 -1.560979e-04   \n",
       "7261      27060.11      0.55458  27059.481007  3.695569e-07 -2.779509e-04   \n",
       "7262      27059.61      0.76618  27059.449983  3.695569e-07 -1.146489e-06   \n",
       "\n",
       "      volatility_t+1  bid depth  ask depth     FDOFI  \n",
       "0           0.000000   12.61820    2.61279  0.656911  \n",
       "1           0.000000   13.06140    3.30068  0.596545  \n",
       "2           0.000069   10.22098    5.38172  0.310155  \n",
       "3           0.000065    9.73054    5.83722  0.250089  \n",
       "4           0.000060    0.23012    6.32311 -0.929769  \n",
       "...              ...        ...        ...       ...  \n",
       "7258        0.000274    3.94154    3.75387  0.024387  \n",
       "7259        0.000274    1.05772    5.77021 -0.690178  \n",
       "7260        0.000274    0.78533    7.61987 -0.813132  \n",
       "7261        0.000274    1.60109    4.87098 -0.505231  \n",
       "7262        0.000000    3.25095    6.53427 -0.335539  \n",
       "\n",
       "[7263 rows x 18 columns]"
      ]
     },
     "execution_count": 536,
     "metadata": {},
     "output_type": "execute_result"
    }
   ],
   "source": [
    "data"
   ]
  }
 ],
 "metadata": {
  "kernelspec": {
   "display_name": "Python 3 (ipykernel)",
   "language": "python",
   "name": "python3"
  },
  "language_info": {
   "codemirror_mode": {
    "name": "ipython",
    "version": 3
   },
   "file_extension": ".py",
   "mimetype": "text/x-python",
   "name": "python",
   "nbconvert_exporter": "python",
   "pygments_lexer": "ipython3",
   "version": "3.10.9"
  },
  "toc": {
   "base_numbering": 1,
   "nav_menu": {},
   "number_sections": true,
   "sideBar": true,
   "skip_h1_title": false,
   "title_cell": "Table of Contents",
   "title_sidebar": "Contents",
   "toc_cell": false,
   "toc_position": {},
   "toc_section_display": true,
   "toc_window_display": false
  }
 },
 "nbformat": 4,
 "nbformat_minor": 5
}
