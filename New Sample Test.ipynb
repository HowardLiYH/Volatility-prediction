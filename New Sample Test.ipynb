{
 "cells": [
  {
   "cell_type": "markdown",
   "id": "af1b4fb3",
   "metadata": {},
   "source": [
    "# Imports and Data loading"
   ]
  },
  {
   "cell_type": "code",
   "execution_count": 46,
   "id": "822481d2",
   "metadata": {},
   "outputs": [],
   "source": [
    "######### List of imports ################\n",
    "import pandas as pd\n",
    "import numpy as np\n",
    "import seaborn as sns\n",
    "import matplotlib.pyplot as plt\n",
    "from sklearn.impute import SimpleImputer\n",
    "from matplotlib.pyplot import figure\n",
    "from sklearn.preprocessing import MinMaxScaler\n",
    "from sklearn.metrics import r2_score\n",
    "from sklearn.linear_model import LinearRegression\n",
    "from statsmodels.tsa.stattools import adfuller\n",
    "from statsmodels.graphics.tsaplots import plot_pacf, plot_acf\n",
    "from statsmodels.graphics.tsaplots import plot_predict\n",
    "from statsmodels.tsa.seasonal import seasonal_decompose\n",
    "from statsmodels.tsa.stattools import acf\n",
    "import pmdarima as pm\n",
    "from ThymeBoost import ThymeBoost as tb\n",
    "\n",
    "###########################################"
   ]
  },
  {
   "cell_type": "code",
   "execution_count": 47,
   "id": "54662eab",
   "metadata": {},
   "outputs": [],
   "source": [
    "## Read data from \"BTCUSD\"\n",
    "\n",
    "data = pd.read_csv(\"/Users/yuhaoli/code/HowardLiYH/Volatility-prediction/datasets/raw/data0329.csv\")"
   ]
  },
  {
   "cell_type": "markdown",
   "id": "95bbbda9",
   "metadata": {},
   "source": [
    "# Feature Creation"
   ]
  },
  {
   "cell_type": "code",
   "execution_count": 48,
   "id": "9e69d5bf",
   "metadata": {},
   "outputs": [
    {
     "data": {
      "text/html": [
       "<div>\n",
       "<style scoped>\n",
       "    .dataframe tbody tr th:only-of-type {\n",
       "        vertical-align: middle;\n",
       "    }\n",
       "\n",
       "    .dataframe tbody tr th {\n",
       "        vertical-align: top;\n",
       "    }\n",
       "\n",
       "    .dataframe thead th {\n",
       "        text-align: right;\n",
       "    }\n",
       "</style>\n",
       "<table border=\"1\" class=\"dataframe\">\n",
       "  <thead>\n",
       "    <tr style=\"text-align: right;\">\n",
       "      <th></th>\n",
       "      <th>bp_1</th>\n",
       "      <th>bz_1</th>\n",
       "      <th>bp_2</th>\n",
       "      <th>bz_2</th>\n",
       "      <th>bp_3</th>\n",
       "      <th>bz_3</th>\n",
       "      <th>bp_4</th>\n",
       "      <th>bz_4</th>\n",
       "      <th>bp_5</th>\n",
       "      <th>bz_5</th>\n",
       "      <th>...</th>\n",
       "      <th>ap_17</th>\n",
       "      <th>az_17</th>\n",
       "      <th>ap_18</th>\n",
       "      <th>az_18</th>\n",
       "      <th>ap_19</th>\n",
       "      <th>az_19</th>\n",
       "      <th>ap_20</th>\n",
       "      <th>az_20</th>\n",
       "      <th>scrape_time</th>\n",
       "      <th>lastUpdateId</th>\n",
       "    </tr>\n",
       "  </thead>\n",
       "  <tbody>\n",
       "    <tr>\n",
       "      <th>0</th>\n",
       "      <td>27215.98</td>\n",
       "      <td>3.62823</td>\n",
       "      <td>27215.71</td>\n",
       "      <td>0.09094</td>\n",
       "      <td>27215.15</td>\n",
       "      <td>0.06106</td>\n",
       "      <td>27215.14</td>\n",
       "      <td>0.10176</td>\n",
       "      <td>27213.06</td>\n",
       "      <td>0.11000</td>\n",
       "      <td>...</td>\n",
       "      <td>27220.22</td>\n",
       "      <td>0.18378</td>\n",
       "      <td>27220.24</td>\n",
       "      <td>0.18378</td>\n",
       "      <td>27220.40</td>\n",
       "      <td>0.38577</td>\n",
       "      <td>27220.87</td>\n",
       "      <td>0.73017</td>\n",
       "      <td>2023-03-28 19:33:30</td>\n",
       "      <td>17688482161</td>\n",
       "    </tr>\n",
       "    <tr>\n",
       "      <th>1</th>\n",
       "      <td>27219.01</td>\n",
       "      <td>2.49441</td>\n",
       "      <td>27218.96</td>\n",
       "      <td>0.40455</td>\n",
       "      <td>27218.95</td>\n",
       "      <td>0.81592</td>\n",
       "      <td>27218.94</td>\n",
       "      <td>0.56887</td>\n",
       "      <td>27218.86</td>\n",
       "      <td>0.51754</td>\n",
       "      <td>...</td>\n",
       "      <td>27221.64</td>\n",
       "      <td>0.05013</td>\n",
       "      <td>27221.79</td>\n",
       "      <td>0.03673</td>\n",
       "      <td>27222.27</td>\n",
       "      <td>0.04246</td>\n",
       "      <td>27222.44</td>\n",
       "      <td>0.03673</td>\n",
       "      <td>2023-03-28 19:33:24</td>\n",
       "      <td>17688480766</td>\n",
       "    </tr>\n",
       "    <tr>\n",
       "      <th>2</th>\n",
       "      <td>27219.01</td>\n",
       "      <td>0.53591</td>\n",
       "      <td>27218.72</td>\n",
       "      <td>0.41551</td>\n",
       "      <td>27218.71</td>\n",
       "      <td>0.07000</td>\n",
       "      <td>27218.40</td>\n",
       "      <td>0.00671</td>\n",
       "      <td>27218.36</td>\n",
       "      <td>0.57475</td>\n",
       "      <td>...</td>\n",
       "      <td>27223.09</td>\n",
       "      <td>0.22057</td>\n",
       "      <td>27223.10</td>\n",
       "      <td>0.36755</td>\n",
       "      <td>27223.24</td>\n",
       "      <td>0.46670</td>\n",
       "      <td>27223.25</td>\n",
       "      <td>0.00367</td>\n",
       "      <td>2023-03-28 19:33:19</td>\n",
       "      <td>17688480114</td>\n",
       "    </tr>\n",
       "    <tr>\n",
       "      <th>3</th>\n",
       "      <td>27223.23</td>\n",
       "      <td>6.40427</td>\n",
       "      <td>27221.59</td>\n",
       "      <td>1.00260</td>\n",
       "      <td>27221.39</td>\n",
       "      <td>0.03674</td>\n",
       "      <td>27221.36</td>\n",
       "      <td>1.10536</td>\n",
       "      <td>27221.34</td>\n",
       "      <td>1.10536</td>\n",
       "      <td>...</td>\n",
       "      <td>27227.34</td>\n",
       "      <td>0.18374</td>\n",
       "      <td>27227.92</td>\n",
       "      <td>1.06032</td>\n",
       "      <td>27228.39</td>\n",
       "      <td>1.21947</td>\n",
       "      <td>27228.40</td>\n",
       "      <td>2.03245</td>\n",
       "      <td>2023-03-28 19:33:36</td>\n",
       "      <td>17688483548</td>\n",
       "    </tr>\n",
       "    <tr>\n",
       "      <th>4</th>\n",
       "      <td>27223.23</td>\n",
       "      <td>0.48052</td>\n",
       "      <td>27222.67</td>\n",
       "      <td>0.48829</td>\n",
       "      <td>27222.40</td>\n",
       "      <td>0.09468</td>\n",
       "      <td>27222.29</td>\n",
       "      <td>0.57712</td>\n",
       "      <td>27222.22</td>\n",
       "      <td>0.00921</td>\n",
       "      <td>...</td>\n",
       "      <td>27227.34</td>\n",
       "      <td>0.36748</td>\n",
       "      <td>27228.05</td>\n",
       "      <td>0.03622</td>\n",
       "      <td>27228.07</td>\n",
       "      <td>1.01425</td>\n",
       "      <td>27228.08</td>\n",
       "      <td>0.78360</td>\n",
       "      <td>2023-03-28 19:33:07</td>\n",
       "      <td>17688478201</td>\n",
       "    </tr>\n",
       "  </tbody>\n",
       "</table>\n",
       "<p>5 rows × 82 columns</p>\n",
       "</div>"
      ],
      "text/plain": [
       "       bp_1     bz_1      bp_2     bz_2      bp_3     bz_3      bp_4     bz_4  \\\n",
       "0  27215.98  3.62823  27215.71  0.09094  27215.15  0.06106  27215.14  0.10176   \n",
       "1  27219.01  2.49441  27218.96  0.40455  27218.95  0.81592  27218.94  0.56887   \n",
       "2  27219.01  0.53591  27218.72  0.41551  27218.71  0.07000  27218.40  0.00671   \n",
       "3  27223.23  6.40427  27221.59  1.00260  27221.39  0.03674  27221.36  1.10536   \n",
       "4  27223.23  0.48052  27222.67  0.48829  27222.40  0.09468  27222.29  0.57712   \n",
       "\n",
       "       bp_5     bz_5  ...     ap_17    az_17     ap_18    az_18     ap_19  \\\n",
       "0  27213.06  0.11000  ...  27220.22  0.18378  27220.24  0.18378  27220.40   \n",
       "1  27218.86  0.51754  ...  27221.64  0.05013  27221.79  0.03673  27222.27   \n",
       "2  27218.36  0.57475  ...  27223.09  0.22057  27223.10  0.36755  27223.24   \n",
       "3  27221.34  1.10536  ...  27227.34  0.18374  27227.92  1.06032  27228.39   \n",
       "4  27222.22  0.00921  ...  27227.34  0.36748  27228.05  0.03622  27228.07   \n",
       "\n",
       "     az_19     ap_20    az_20          scrape_time  lastUpdateId  \n",
       "0  0.38577  27220.87  0.73017  2023-03-28 19:33:30   17688482161  \n",
       "1  0.04246  27222.44  0.03673  2023-03-28 19:33:24   17688480766  \n",
       "2  0.46670  27223.25  0.00367  2023-03-28 19:33:19   17688480114  \n",
       "3  1.21947  27228.40  2.03245  2023-03-28 19:33:36   17688483548  \n",
       "4  1.01425  27228.08  0.78360  2023-03-28 19:33:07   17688478201  \n",
       "\n",
       "[5 rows x 82 columns]"
      ]
     },
     "execution_count": 48,
     "metadata": {},
     "output_type": "execute_result"
    }
   ],
   "source": [
    "data.head()"
   ]
  },
  {
   "cell_type": "code",
   "execution_count": 49,
   "id": "26ba6e20",
   "metadata": {},
   "outputs": [],
   "source": [
    "# Weighted Average Price \n",
    "data['WAP'] = (data['bp_1']*data['bz_1']\n",
    "               +data['bp_2']*data['bz_2']\n",
    "               +data['ap_1']*data['az_1']\n",
    "               +data['ap_2']*data['az_2'])/(data['bz_1']+\n",
    "                                         data['bz_2']+\n",
    "                                         data['az_1']+\n",
    "                                         data['az_2'])"
   ]
  },
  {
   "cell_type": "code",
   "execution_count": 50,
   "id": "93666bb2",
   "metadata": {},
   "outputs": [],
   "source": [
    "## Spread\n",
    "data['spread'] = ((data['ap_1']/data['bp_1']) - 1)"
   ]
  },
  {
   "cell_type": "code",
   "execution_count": 51,
   "id": "3493dee7",
   "metadata": {},
   "outputs": [],
   "source": [
    "## Log price\n",
    "\n",
    "def log_price(list_stock_prices):\n",
    "    return np.log(list_stock_prices)\n",
    "\n",
    "data.insert(0, 'log_price', log_price(data['WAP']))\n",
    "\n",
    "data['log_returns'] = data.log_price.diff()"
   ]
  },
  {
   "cell_type": "code",
   "execution_count": 52,
   "id": "397fb876",
   "metadata": {},
   "outputs": [],
   "source": [
    "## Realized Volatility\n",
    "def realized_volatility():\n",
    "    list_vol = []\n",
    "    i = 0\n",
    "    for i in data.index:\n",
    "        x = np.std(data.log_returns.iloc[:i])\n",
    "        i += 1\n",
    "        list_vol.append(x)\n",
    "    \n",
    "    return list_vol\n",
    "\n",
    "data['realized_volatility'] = realized_volatility()"
   ]
  },
  {
   "cell_type": "code",
   "execution_count": 53,
   "id": "26a07a0c",
   "metadata": {},
   "outputs": [],
   "source": [
    "## Previous volatility\n",
    "\n",
    "data['volatility_t+1'] = data['realized_volatility'].shift(-1)"
   ]
  },
  {
   "cell_type": "code",
   "execution_count": 54,
   "id": "69eb5dda",
   "metadata": {},
   "outputs": [],
   "source": [
    "y = data['realized_volatility'].to_frame()"
   ]
  },
  {
   "cell_type": "code",
   "execution_count": 55,
   "id": "5e9fc399",
   "metadata": {},
   "outputs": [],
   "source": [
    "## Create a copy of data named df\n",
    "df = data"
   ]
  },
  {
   "cell_type": "code",
   "execution_count": 56,
   "id": "179f4ea7",
   "metadata": {},
   "outputs": [],
   "source": [
    "## Drop the target y\n",
    "df.drop(['realized_volatility'], axis = 1, inplace = True) "
   ]
  },
  {
   "cell_type": "code",
   "execution_count": 57,
   "id": "b1ac2721",
   "metadata": {},
   "outputs": [
    {
     "data": {
      "text/plain": [
       "False    2644\n",
       "dtype: int64"
      ]
     },
     "execution_count": 57,
     "metadata": {},
     "output_type": "execute_result"
    }
   ],
   "source": [
    "## Check if two roles have the same value\n",
    "df.duplicated().value_counts()"
   ]
  },
  {
   "cell_type": "markdown",
   "id": "1ffe794e",
   "metadata": {},
   "source": [
    "# Deal with Missing Data"
   ]
  },
  {
   "cell_type": "code",
   "execution_count": 58,
   "id": "a983c9af",
   "metadata": {},
   "outputs": [
    {
     "data": {
      "text/plain": [
       "array([0.])"
      ]
     },
     "execution_count": 58,
     "metadata": {},
     "output_type": "execute_result"
    }
   ],
   "source": [
    "imputer = SimpleImputer(strategy=\"constant\", fill_value = 0) # Instantiate a SimpleImputer object with your strategy of choice\n",
    "\n",
    "imputer.fit(df[['volatility_t+1']]) # Call the \"fit\" method on the object\n",
    "\n",
    "df['volatility_t+1'] = imputer.transform(df[['volatility_t+1']]) # Call the \"transform\" method on the object\n",
    "\n",
    "imputer.statistics_ # The mean is stored in the transformer's memory"
   ]
  },
  {
   "cell_type": "code",
   "execution_count": 59,
   "id": "c99fbd78",
   "metadata": {},
   "outputs": [
    {
     "data": {
      "text/plain": [
       "array([0.00011149])"
      ]
     },
     "execution_count": 59,
     "metadata": {},
     "output_type": "execute_result"
    }
   ],
   "source": [
    "imputer2 = SimpleImputer(strategy=\"constant\", fill_value = df.iloc[1,85])\n",
    "\n",
    "imputer2.fit(df[['log_returns']]) # Call the \"fit\" method on the object\n",
    "\n",
    "df['log_returns'] = imputer2.transform(df[['log_returns']]) # Call the \"transform\" method on the object\n",
    "\n",
    "imputer2.statistics_ # The mean is stored in the transformer's memory"
   ]
  },
  {
   "cell_type": "code",
   "execution_count": 60,
   "id": "b1a153c2",
   "metadata": {},
   "outputs": [
    {
     "data": {
      "text/plain": [
       "Index(['log_price', 'bp_1', 'bz_1', 'bp_2', 'bz_2', 'bp_3', 'bz_3', 'bp_4',\n",
       "       'bz_4', 'bp_5', 'bz_5', 'bp_6', 'bz_6', 'bp_7', 'bz_7', 'bp_8', 'bz_8',\n",
       "       'bp_9', 'bz_9', 'bp_10', 'bz_10', 'bp_11', 'bz_11', 'bp_12', 'bz_12',\n",
       "       'bp_13', 'bz_13', 'bp_14', 'bz_14', 'bp_15', 'bz_15', 'bp_16', 'bz_16',\n",
       "       'bp_17', 'bz_17', 'bp_18', 'bz_18', 'bp_19', 'bz_19', 'bp_20', 'bz_20',\n",
       "       'ap_1', 'az_1', 'ap_2', 'az_2', 'ap_3', 'az_3', 'ap_4', 'az_4', 'ap_5',\n",
       "       'az_5', 'ap_6', 'az_6', 'ap_7', 'az_7', 'ap_8', 'az_8', 'ap_9', 'az_9',\n",
       "       'ap_10', 'az_10', 'ap_11', 'az_11', 'ap_12', 'az_12', 'ap_13', 'az_13',\n",
       "       'ap_14', 'az_14', 'ap_15', 'az_15', 'ap_16', 'az_16', 'ap_17', 'az_17',\n",
       "       'ap_18', 'az_18', 'ap_19', 'az_19', 'ap_20', 'az_20', 'scrape_time',\n",
       "       'lastUpdateId', 'WAP', 'spread', 'log_returns', 'volatility_t+1'],\n",
       "      dtype='object')"
      ]
     },
     "execution_count": 60,
     "metadata": {},
     "output_type": "execute_result"
    }
   ],
   "source": [
    "df.columns"
   ]
  },
  {
   "cell_type": "code",
   "execution_count": 61,
   "id": "b91331ba",
   "metadata": {},
   "outputs": [],
   "source": [
    "#sum of all bid quantities\n",
    "data['bid depth'] = data[['bz_1', 'bz_2', 'bz_3','bz_4', 'bz_5', 'bz_6','bz_7', 'bz_8', 'bz_9','bz_10',\n",
    "                         'bz_11', 'bz_12', 'bz_13','bz_14', 'bz_15', 'bz_16','bz_17', 'bz_18', 'bz_19','bz_20']].sum(axis=1)"
   ]
  },
  {
   "cell_type": "code",
   "execution_count": 62,
   "id": "bdd28bb7",
   "metadata": {},
   "outputs": [],
   "source": [
    "#sum of all bid quantities\n",
    "data['ask depth'] = data[['az_1', 'az_2', 'az_3','az_4', 'az_5', 'az_6','az_7', 'az_8', 'az_9','az_10',\n",
    "                         'az_11', 'az_12', 'az_13','az_14', 'az_15', 'az_16','az_17', 'az_18', 'az_19','az_20']].sum(axis=1)"
   ]
  },
  {
   "cell_type": "code",
   "execution_count": 63,
   "id": "9c8dadab",
   "metadata": {},
   "outputs": [],
   "source": [
    "#Order Flow Imbalance (OFI) \n",
    "#relative quantities of bids vs asks\n",
    "#full depth (approx 20 levels) OFI\n",
    "data['FDOFI'] = (data['bid depth']-data['ask depth'])/(data['bid depth']+data['ask depth'])"
   ]
  },
  {
   "cell_type": "code",
   "execution_count": 64,
   "id": "50bd4436",
   "metadata": {},
   "outputs": [],
   "source": [
    "df = df.set_index('scrape_time')"
   ]
  },
  {
   "cell_type": "code",
   "execution_count": 65,
   "id": "49dac5ba",
   "metadata": {},
   "outputs": [
    {
     "data": {
      "text/plain": [
       "array([0.])"
      ]
     },
     "execution_count": 65,
     "metadata": {},
     "output_type": "execute_result"
    }
   ],
   "source": [
    "imputer3 = SimpleImputer(strategy=\"constant\", fill_value = 0) # Instantiate a SimpleImputer object with your strategy of choice\n",
    "\n",
    "imputer3.fit(y[['realized_volatility']]) # Call the \"fit\" method on the object\n",
    "\n",
    "y['realized_volatility'] = imputer3.transform(y[['realized_volatility']]) # Call the \"transform\" method on the object\n",
    "\n",
    "imputer3.statistics_ # The mean is stored in the transformer's memory"
   ]
  },
  {
   "cell_type": "markdown",
   "id": "7086cb5e",
   "metadata": {},
   "source": [
    "# Boosted-Linear Auto-ARIMA (mape:0.0396) "
   ]
  },
  {
   "cell_type": "code",
   "execution_count": 66,
   "id": "548f0ef6",
   "metadata": {},
   "outputs": [],
   "source": [
    "train = y[0:1720]['realized_volatility']\n",
    "test = y[1720:]['realized_volatility']"
   ]
  },
  {
   "cell_type": "code",
   "execution_count": 67,
   "id": "22faebfd",
   "metadata": {},
   "outputs": [
    {
     "name": "stdout",
     "output_type": "stream",
     "text": [
      "********** Round 1 **********\n",
      "Using Split: None\n",
      "Fitting initial trend globally with trend model:\n",
      "median()\n",
      "seasonal model:\n",
      "None\n",
      "cost: 1.7084236832135604e-07\n",
      "********** Round 2 **********\n",
      "Using Split: None\n",
      "Fitting global with trend model:\n",
      "linear((1, None))\n",
      "seasonal model:\n",
      "None\n",
      "cost: 1.706560104552915e-07\n",
      "********** Round 3 **********\n",
      "Using Split: None\n",
      "Fitting global with trend model:\n",
      "arima(auto)\n",
      "seasonal model:\n",
      "None\n",
      "cost: 2.0971056201402757e-09\n",
      "==============================\n",
      "Boosting Terminated \n",
      "Using round 3\n"
     ]
    }
   ],
   "source": [
    "boosted_model = tb.ThymeBoost(verbose=1)\n",
    "output = boosted_model.fit(train,\n",
    "                            trend_estimator=['linear', 'arima'],\n",
    "                            arima_order='auto',\n",
    "                            global_cost='mse')\n",
    "predicted_output = boosted_model.predict(output, len(test))"
   ]
  },
  {
   "cell_type": "code",
   "execution_count": 68,
   "id": "796afaee",
   "metadata": {},
   "outputs": [
    {
     "data": {
      "text/plain": [
       "(0.03956069325021652, 4.423218013320679e-05, 5.6293469389802835e-05)"
      ]
     },
     "execution_count": 68,
     "metadata": {},
     "output_type": "execute_result"
    }
   ],
   "source": [
    "tb_mape, tb_mae, tb_rmse"
   ]
  },
  {
   "cell_type": "markdown",
   "id": "a113409b",
   "metadata": {},
   "source": [
    "# Model Testing "
   ]
  },
  {
   "cell_type": "code",
   "execution_count": 69,
   "id": "5bc90f24",
   "metadata": {},
   "outputs": [
    {
     "data": {
      "text/plain": [
       "(0.03956069325021652, 4.423218013320679e-05, 5.6293469389802835e-05)"
      ]
     },
     "execution_count": 69,
     "metadata": {},
     "output_type": "execute_result"
    }
   ],
   "source": [
    "tb_mae = np.mean(np.abs(test - predicted_output['predictions']))\n",
    "tb_rmse = (np.mean((test - predicted_output['predictions'])**2))**.5\n",
    "tb_mape = np.sum(np.abs(predicted_output['predictions'] - test)) / (np.sum((np.abs(test))))\n",
    "\n",
    "tb_mape, tb_mae, tb_rmse"
   ]
  },
  {
   "cell_type": "code",
   "execution_count": null,
   "id": "5819853c",
   "metadata": {},
   "outputs": [],
   "source": []
  },
  {
   "cell_type": "code",
   "execution_count": null,
   "id": "5eb20282",
   "metadata": {},
   "outputs": [],
   "source": []
  },
  {
   "cell_type": "code",
   "execution_count": null,
   "id": "2d04016e",
   "metadata": {},
   "outputs": [],
   "source": []
  },
  {
   "cell_type": "code",
   "execution_count": null,
   "id": "58d66fad",
   "metadata": {},
   "outputs": [],
   "source": []
  },
  {
   "cell_type": "code",
   "execution_count": null,
   "id": "7f08afd7",
   "metadata": {},
   "outputs": [],
   "source": []
  },
  {
   "cell_type": "code",
   "execution_count": null,
   "id": "1311e45a",
   "metadata": {},
   "outputs": [],
   "source": []
  },
  {
   "cell_type": "code",
   "execution_count": null,
   "id": "22233097",
   "metadata": {},
   "outputs": [],
   "source": []
  },
  {
   "cell_type": "code",
   "execution_count": null,
   "id": "60cf4811",
   "metadata": {},
   "outputs": [],
   "source": []
  },
  {
   "cell_type": "code",
   "execution_count": null,
   "id": "0621f327",
   "metadata": {},
   "outputs": [],
   "source": []
  }
 ],
 "metadata": {
  "kernelspec": {
   "display_name": "Python 3 (ipykernel)",
   "language": "python",
   "name": "python3"
  },
  "language_info": {
   "codemirror_mode": {
    "name": "ipython",
    "version": 3
   },
   "file_extension": ".py",
   "mimetype": "text/x-python",
   "name": "python",
   "nbconvert_exporter": "python",
   "pygments_lexer": "ipython3",
   "version": "3.10.9"
  },
  "toc": {
   "base_numbering": 1,
   "nav_menu": {},
   "number_sections": true,
   "sideBar": true,
   "skip_h1_title": false,
   "title_cell": "Table of Contents",
   "title_sidebar": "Contents",
   "toc_cell": false,
   "toc_position": {},
   "toc_section_display": true,
   "toc_window_display": false
  }
 },
 "nbformat": 4,
 "nbformat_minor": 5
}
